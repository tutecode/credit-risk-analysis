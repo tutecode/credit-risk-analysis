{
 "cells": [
  {
   "cell_type": "markdown",
   "metadata": {},
   "source": [
    "# AnyoneAI - Credit Risk Analysis\n"
   ]
  },
  {
   "cell_type": "markdown",
   "metadata": {},
   "source": [
    "# Import libraries\n",
    "\n",
    "import os\n",
    "import boto3\n",
    "import pandas as pd\n",
    "from botocore.exceptions import NoCredentialsError"
   ]
  },
  {
   "cell_type": "markdown",
   "metadata": {},
   "source": [
    "### Getting data\n",
    "\n",
    "1. Install AWS CLI\n",
    "2. Configure AWS CLI\n",
    "3. Download files from S3\n",
    "4. Run the code below to download the dataset and save it in the directory dataset."
   ]
  },
  {
   "cell_type": "code",
   "execution_count": null,
   "metadata": {
    "vscode": {
     "languageId": "plaintext"
    }
   },
   "outputs": [],
   "source": [
    "prefix = \"credit-data-2010/\"\n",
    "bucket_name = \"anyoneai-datasets\"\n",
    "maxkeys = 9999999\n",
    "s3 = boto3.client(\"s3\")\n",
    "object_list = s3.list_objects(Bucket=bucket_name, Prefix=prefix, MaxKeys=maxkeys)[\n",
    "    \"Contents\"\n",
    "]\n",
    "list_keys = []\n",
    "list_filepaths = []\n",
    "dataset_folder = \"dataset\"\n",
    "\n",
    "if not os.path.exists(dataset_folder):\n",
    "    os.makedirs(dataset_folder)\n",
    "\n",
    "for s3_object in object_list:\n",
    "    key = s3_object[\"Key\"]\n",
    "\n",
    "    path, filename = os.path.split(key)\n",
    "    filepath = os.path.join(dataset_folder, filename)\n",
    "\n",
    "    list_filepaths.append(filepath)\n",
    "    list_keys.append(key)\n",
    "\n",
    "s3 = boto3.resource(\"s3\")\n",
    "\n",
    "for key, path in zip(list_keys[1:], list_filepaths[1:]):\n",
    "    s3.meta.client.download_file(bucket_name, key, path)"
   ]
  },
  {
   "cell_type": "code",
   "execution_count": null,
   "metadata": {
    "vscode": {
     "languageId": "plaintext"
    }
   },
   "outputs": [],
   "source": [
    "import pandas as pd\n",
    "\n",
    "# Specify the path to your text file\n",
    "file_path = './dataset/PAKDD2010_Modeling_Data.txt'\n",
    "\n",
    "# Read the text file into a DataFrame\n",
    "df = pd.read_csv(file_path, delimiter='\\t', encoding='latin1')  # Use appropriate delimiter if needed\n",
    "\n",
    "# Use the df DataFrame for further analysis or processing\n",
    "df.head()  # Example: Print the first few rows of the DataFrame\n"
   ]
  },
  {
   "cell_type": "code",
   "execution_count": null,
   "metadata": {
    "vscode": {
     "languageId": "plaintext"
    }
   },
   "outputs": [],
   "source": [
    "# Specify the path to your XLSX file\n",
    "file_path = './dataset/PAKDD2010_VariablesList.xls'\n",
    "\n",
    "# Read the XLSX file into a DataFrame\n",
    "df = pd.read_excel(file_path)\n",
    "\n",
    "# Use the df DataFrame for further analysis or processing\n",
    "df.head()  # Example: Print the first few rows of the DataFrame\n"
   ]
  }
 ],
 "metadata": {
  "language_info": {
   "name": "python"
  },
  "orig_nbformat": 4
 },
 "nbformat": 4,
 "nbformat_minor": 2
}
