{
 "cells": [
  {
   "cell_type": "markdown",
   "metadata": {},
   "source": [
    "# Credit Risk Analysis"
   ]
  },
  {
   "cell_type": "markdown",
   "metadata": {},
   "source": [
    "### NECESSARY IMPORTS"
   ]
  },
  {
   "cell_type": "code",
   "execution_count": 24,
   "metadata": {},
   "outputs": [],
   "source": [
    "import sys\n",
    "sys.path.append('..')\n",
    "# from dotenv import load_dotenv #for env variables\n",
    "from imp import reload #for testing\n",
    "from sklearn.impute import SimpleImputer\n",
    "from helper_functions import data_utils, config, evaluation\n",
    "from sklearn.linear_model import LogisticRegression\n",
    "from sklearn.feature_selection import SelectKBest\n",
    "from sklearn.feature_selection import chi2\n",
    "from sklearn.feature_selection import SelectPercentile, chi2\n",
    "import pandas as pd\n",
    "import numpy as np\n",
    "import matplotlib.pyplot as plt\n",
    "import seaborn as sns\n",
    "import pickle\n",
    "#%matplotlib inline"
   ]
  },
  {
   "cell_type": "markdown",
   "metadata": {},
   "source": [
    "## Modeling"
   ]
  },
  {
   "cell_type": "code",
   "execution_count": 4,
   "metadata": {},
   "outputs": [
    {
     "data": {
      "text/plain": [
       "<module 'helper_functions.data_utils' from '/home/chris/Learning-2023/anyoneai_dir/endproj/credit-risk-analysis_chris/src/notebooks/../helper_functions/data_utils.py'>"
      ]
     },
     "execution_count": 4,
     "metadata": {},
     "output_type": "execute_result"
    }
   ],
   "source": [
    "reload(data_utils)"
   ]
  },
  {
   "cell_type": "code",
   "execution_count": 5,
   "metadata": {},
   "outputs": [
    {
     "name": "stdout",
     "output_type": "stream",
     "text": [
      "The file has been loaded: ../../dataset/clean_data.csv\n"
     ]
    }
   ],
   "source": [
    "app_train_cop = data_utils.cvs_df(\"../../dataset/\",\"clean_data.csv\")"
   ]
  },
  {
   "cell_type": "code",
   "execution_count": 6,
   "metadata": {},
   "outputs": [],
   "source": [
    "# order target at the final of dataset\n",
    "current_cols_train = app_train_cop.columns.to_list()\n",
    "idx_target = app_train_cop.columns.to_list().index(\"TARGET_LABEL_BAD=1\")\n",
    "if(app_train_cop.iloc[:,-1:].columns[0] != app_train_cop.iloc[:,idx_target:].columns[0]):\n",
    "    features_cols = current_cols_train[:idx_target] + current_cols_train[idx_target+1:] + [current_cols_train[idx_target]]\n",
    "    #crear un nuevo df\n",
    "    app_train_cop = app_train_cop[features_cols]\n",
    "else:\n",
    "    print(\"Target is the last column\")"
   ]
  },
  {
   "cell_type": "markdown",
   "metadata": {},
   "source": [
    "## Normalization, Impute, Encoding"
   ]
  },
  {
   "cell_type": "markdown",
   "metadata": {},
   "source": [
    "#### Split and Normalization, Impute, Encoding"
   ]
  },
  {
   "cell_type": "code",
   "execution_count": 7,
   "metadata": {},
   "outputs": [
    {
     "data": {
      "text/plain": [
       "<module 'helper_functions.evaluation' from '/home/chris/Learning-2023/anyoneai_dir/endproj/credit-risk-analysis_chris/src/notebooks/../helper_functions/evaluation.py'>"
      ]
     },
     "execution_count": 7,
     "metadata": {},
     "output_type": "execute_result"
    }
   ],
   "source": [
    "reload(data_utils)\n",
    "reload(config)\n",
    "reload(evaluation)"
   ]
  },
  {
   "cell_type": "markdown",
   "metadata": {},
   "source": [
    "### Oversampling\n",
    "It can be achieved in two ways: random oversampling and synthetic oversampling."
   ]
  },
  {
   "cell_type": "markdown",
   "metadata": {},
   "source": [
    "\n",
    "#### Aplicando SMOTE oversampling (syntethic oversampling)\n",
    "\n",
    "new synthetic training records are made randomly by selecting one or more K-nearest neighbors for each of the minority classes\n",
    "\n",
    "- Draw a random set from the minority class.\n",
    "- For all the observations for the sample, locate the K-nearest neighbors. To obtain the distance between the neighbors, find the Euclidean distance.\n",
    "- The next step is to find the vector between the current data point and the selected neighbor.\n",
    "- Next, multiply a vector between 0 and 1.\n",
    "\n",
    "To obtain the new dataset, add new samples to the current data point.\n",
    "The only downfall of oversampling is that it can lead to overfitting due to duplication of the same information\n",
    "\n"
   ]
  },
  {
   "cell_type": "code",
   "execution_count": 13,
   "metadata": {},
   "outputs": [
    {
     "name": "stdout",
     "output_type": "stream",
     "text": [
      "Original dataset shape Counter({0.0: 26629, 1.0: 9324})\n",
      "New dataset shape Counter({0.0: 11834, 1.0: 10651})\n"
     ]
    }
   ],
   "source": [
    "from sklearn.model_selection import cross_val_score\n",
    "from sklearn.model_selection import RepeatedStratifiedKFold\n",
    "from imblearn.pipeline import Pipeline\n",
    "from imblearn.over_sampling import SMOTE\n",
    "from imblearn.under_sampling import RandomUnderSampler\n",
    "from collections import Counter\n",
    "print('Original dataset shape %s' % Counter(y_train.ravel()))\n",
    "\n",
    "\n",
    "model_chosen = LogisticRegression(max_iter=200,class_weight=\"balanced\")\n",
    "#model_chosen = RandomForestClassifier(max_depth=50, n_estimators=90, class_weight=\"balanced\")\n",
    "# pipeline\n",
    "# 1:2 ratio\n",
    "over = SMOTE(sampling_strategy=0.4, k_neighbors=10)\n",
    "# 1:10 ratio\n",
    "under = RandomUnderSampler(sampling_strategy=0.9)\n",
    "steps = [(\"over\",over),(\"under\",under)]\n",
    "pipeline = Pipeline(steps=steps)\n",
    "\n",
    "#Please note that you should only balance the training data \n",
    "# and not the validation or testing data. \n",
    "# Balancing the validation and testing data would introduce data leakage \n",
    "# and lead to overestimating the model's performance.\n",
    "# # transform the dataset\n",
    "X_train_new, y_train_new = pipeline.fit_resample(X_train, y_train)\n",
    "# summarize the new class distribution\n",
    "print('New dataset shape %s' % Counter(y_train_new.ravel()))\n"
   ]
  },
  {
   "cell_type": "markdown",
   "metadata": {},
   "source": [
    "#### Feature Selection"
   ]
  },
  {
   "cell_type": "markdown",
   "metadata": {},
   "source": [
    "two options:\n",
    "- chi-squared statistic\n",
    "- mutual information statistic."
   ]
  },
  {
   "cell_type": "markdown",
   "metadata": {},
   "source": [
    "-  Chi-squared statistic\n",
    "-  The results of this test can be used for feature selection, where those features that are independent of the target variable can be removed from the dataset."
   ]
  },
  {
   "cell_type": "markdown",
   "metadata": {},
   "source": [
    "##### Chi-Squared Feature Selection"
   ]
  },
  {
   "cell_type": "code",
   "execution_count": 14,
   "metadata": {},
   "outputs": [],
   "source": [
    "newl_columns_name = list(new_columns_name)"
   ]
  },
  {
   "cell_type": "code",
   "execution_count": 15,
   "metadata": {},
   "outputs": [],
   "source": [
    "newl_columns_name = newl_columns_name[:-1]"
   ]
  },
  {
   "cell_type": "code",
   "execution_count": 16,
   "metadata": {},
   "outputs": [],
   "source": [
    "#select only categoricas\n",
    "# feature selection\n",
    "def select_features_by_chi2(X_tr, y_tr, X_va,X_te):\n",
    "    #fs = SelectKBest(score_func=chi2, k=5)\n",
    "    fs = SelectPercentile(chi2, percentile=50)\n",
    "    fs.fit(X_tr, y_tr)\n",
    "    X_train_fsa = fs.transform(X_tr)\n",
    "    X_val_fsa = fs.transform(X_va)\n",
    "    X_test_fsa = fs.transform(X_te)\n",
    "    return X_train_fsa, X_val_fsa, X_test_fsa, fs"
   ]
  },
  {
   "cell_type": "code",
   "execution_count": 17,
   "metadata": {},
   "outputs": [
    {
     "data": {
      "text/html": [
       "<div>\n",
       "<style scoped>\n",
       "    .dataframe tbody tr th:only-of-type {\n",
       "        vertical-align: middle;\n",
       "    }\n",
       "\n",
       "    .dataframe tbody tr th {\n",
       "        vertical-align: top;\n",
       "    }\n",
       "\n",
       "    .dataframe thead th {\n",
       "        text-align: right;\n",
       "    }\n",
       "</style>\n",
       "<table border=\"1\" class=\"dataframe\">\n",
       "  <thead>\n",
       "    <tr style=\"text-align: right;\">\n",
       "      <th></th>\n",
       "      <th>FS_SCORE</th>\n",
       "    </tr>\n",
       "  </thead>\n",
       "  <tbody>\n",
       "    <tr>\n",
       "      <th>transform_cat_ord__AGE</th>\n",
       "      <td>314.092032</td>\n",
       "    </tr>\n",
       "    <tr>\n",
       "      <th>transform_cat_ohe__MARITAL_STATUS_single</th>\n",
       "      <td>90.282653</td>\n",
       "    </tr>\n",
       "    <tr>\n",
       "      <th>transform_cat_ohe__PAYMENT_DAY_15 - 30</th>\n",
       "      <td>83.194435</td>\n",
       "    </tr>\n",
       "    <tr>\n",
       "      <th>transform_boolean__FLAG_RESIDENCIAL_PHONE_False</th>\n",
       "      <td>69.394800</td>\n",
       "    </tr>\n",
       "    <tr>\n",
       "      <th>transform_cat_ohe__PAYMENT_DAY_1 - 14</th>\n",
       "      <td>61.130921</td>\n",
       "    </tr>\n",
       "    <tr>\n",
       "      <th>...</th>\n",
       "      <td>...</td>\n",
       "    </tr>\n",
       "    <tr>\n",
       "      <th>transform_cat_ohe__RESIDENCIAL_STATE_AM</th>\n",
       "      <td>0.021335</td>\n",
       "    </tr>\n",
       "    <tr>\n",
       "      <th>transform_boolean__HAS_DEPENDANTS_True</th>\n",
       "      <td>0.007355</td>\n",
       "    </tr>\n",
       "    <tr>\n",
       "      <th>transform_cat_ohe__RESIDENCIAL_STATE_PA</th>\n",
       "      <td>0.007291</td>\n",
       "    </tr>\n",
       "    <tr>\n",
       "      <th>transform_boolean__HAS_DEPENDANTS_False</th>\n",
       "      <td>0.003575</td>\n",
       "    </tr>\n",
       "    <tr>\n",
       "      <th>transform_cat_ohe__PRODUCT_PR1</th>\n",
       "      <td>0.000298</td>\n",
       "    </tr>\n",
       "  </tbody>\n",
       "</table>\n",
       "<p>62 rows × 1 columns</p>\n",
       "</div>"
      ],
      "text/plain": [
       "                                                   FS_SCORE\n",
       "transform_cat_ord__AGE                           314.092032\n",
       "transform_cat_ohe__MARITAL_STATUS_single          90.282653\n",
       "transform_cat_ohe__PAYMENT_DAY_15 - 30            83.194435\n",
       "transform_boolean__FLAG_RESIDENCIAL_PHONE_False   69.394800\n",
       "transform_cat_ohe__PAYMENT_DAY_1 - 14             61.130921\n",
       "...                                                     ...\n",
       "transform_cat_ohe__RESIDENCIAL_STATE_AM            0.021335\n",
       "transform_boolean__HAS_DEPENDANTS_True             0.007355\n",
       "transform_cat_ohe__RESIDENCIAL_STATE_PA            0.007291\n",
       "transform_boolean__HAS_DEPENDANTS_False            0.003575\n",
       "transform_cat_ohe__PRODUCT_PR1                     0.000298\n",
       "\n",
       "[62 rows x 1 columns]"
      ]
     },
     "execution_count": 17,
     "metadata": {},
     "output_type": "execute_result"
    }
   ],
   "source": [
    "X_train_fs, X_val_fs, X_test_fs, fs = select_features_by_chi2(X_train_new, y_train_new, X_val,X_test)\n",
    "# what are scores for the features\n",
    "fs_scores = pd.DataFrame(fs.scores_,columns=[\"FS_SCORE\"],index=newl_columns_name)\n",
    "fs_sorted_scores = fs_scores.sort_values(by=\"FS_SCORE\",ascending=False)\n",
    "fs_sorted_scores"
   ]
  },
  {
   "cell_type": "code",
   "execution_count": 19,
   "metadata": {},
   "outputs": [],
   "source": [
    "from sklearn.model_selection import train_test_split, KFold, cross_val_score # to split the data\n",
    "from sklearn.metrics import accuracy_score, confusion_matrix, classification_report, fbeta_score #To evaluate our model\n",
    "\n",
    "from sklearn.model_selection import GridSearchCV\n",
    "\n",
    "# Algorithmns models to be compared\n",
    "from sklearn.ensemble import RandomForestClassifier\n",
    "from sklearn.linear_model import LogisticRegression\n",
    "from sklearn.tree import DecisionTreeClassifier\n",
    "from sklearn.neighbors import KNeighborsClassifier\n",
    "from sklearn.ensemble import RandomForestClassifier\n",
    "from sklearn.discriminant_analysis import LinearDiscriminantAnalysis\n",
    "from sklearn.naive_bayes import GaussianNB\n",
    "from sklearn.svm import SVC\n",
    "from xgboost import XGBClassifier"
   ]
  },
  {
   "cell_type": "code",
   "execution_count": 21,
   "metadata": {},
   "outputs": [
    {
     "name": "stdout",
     "output_type": "stream",
     "text": [
      "LR: 0.551632 (0.009106)\n",
      "LDA: 0.562833 (0.013164)\n",
      "KNN: 0.587109 (0.016407)\n",
      "CART: 0.558988 (0.014141)\n",
      "NB: 0.532633 (0.011124)\n",
      "RF: 0.564422 (0.010597)\n"
     ]
    },
    {
     "data": {
      "image/png": "[encoded data removed]",
      "text/plain": [
       "<Figure size 1100x600 with 1 Axes>"
      ]
     },
     "metadata": {},
     "output_type": "display_data"
    }
   ],
   "source": [
    "from sklearn.naive_bayes import GaussianNB\n",
    "# to feed the random state\n",
    "seed = 7\n",
    "\n",
    "# prepare models\n",
    "models = []\n",
    "models.append(('LR', LogisticRegression(max_iter=200,class_weight=\"balanced\")))\n",
    "models.append(('LDA', LinearDiscriminantAnalysis()))\n",
    "models.append(('KNN', KNeighborsClassifier()))\n",
    "models.append(('CART', DecisionTreeClassifier()))\n",
    "models.append(('NB', GaussianNB()))\n",
    "models.append(('RF', RandomForestClassifier()))\n",
    "# models.append(('SVM', SVC(gamma='auto')))\n",
    "# models.append(('XGB', XGBClassifier()))\n",
    "\n",
    "# evaluate each model in turn\n",
    "results = []\n",
    "names = []\n",
    "\n",
    "# ojo es precision lo que se evalua\n",
    "scoring = 'precision'\n",
    "\n",
    "for name, model in models:\n",
    "        cv = RepeatedStratifiedKFold(n_splits=10, n_repeats=3, random_state=1)\n",
    "        cv_results = cross_val_score(model, X_train_fs, y_train_new.ravel(), cv=cv, scoring=scoring,n_jobs=-1)\n",
    "        results.append(cv_results)\n",
    "        names.append(name)\n",
    "        msg = \"%s: %f (%f)\" % (name, cv_results.mean(), cv_results.std())\n",
    "        print(msg)\n",
    "        \n",
    "# boxplot algorithm comparison\n",
    "fig = plt.figure(figsize=(11,6))\n",
    "fig.suptitle('Algorithm Comparison')\n",
    "ax = fig.add_subplot(111)\n",
    "plt.boxplot(results)\n",
    "ax.set_xticklabels(names)\n",
    "plt.show()"
   ]
  },
  {
   "cell_type": "code",
   "execution_count": 22,
   "metadata": {},
   "outputs": [
    {
     "name": "stdout",
     "output_type": "stream",
     "text": [
      "model score: 0.576\n",
      "Model Performance metrics:\n",
      "------------------------------\n",
      "Accuracy: 0.5721437869229999\n",
      "Precision: 0.7891657229143073\n",
      "Recall: 0.5698514379174049\n",
      "F1 Score: 0.6618124258013455\n",
      "\n",
      "Model Classification report:\n",
      "------------------------------\n",
      "              precision    recall  f1-score   support\n",
      "\n",
      "           0       0.79      0.57      0.66      7337\n",
      "           1       0.33      0.58      0.42      2650\n",
      "\n",
      "    accuracy                           0.57      9987\n",
      "   macro avg       0.56      0.57      0.54      9987\n",
      "weighted avg       0.67      0.57      0.60      9987\n",
      "\n",
      "\n",
      "Prediction Confusion Matrix:\n",
      "------------------------------\n",
      "      0     1\n",
      "0  4181  3156\n",
      "1  1117  1533\n"
     ]
    },
    {
     "data": {
      "image/png": "[encoded data removed]",
      "text/plain": [
       "<Figure size 1000x500 with 1 Axes>"
      ]
     },
     "metadata": {},
     "output_type": "display_data"
    },
    {
     "data": {
      "text/plain": [
       "0.6050735095573997"
      ]
     },
     "execution_count": 22,
     "metadata": {},
     "output_type": "execute_result"
    }
   ],
   "source": [
    "# logistic regression\n",
    "clf = LogisticRegression(max_iter=200,class_weight=\"balanced\").fit(X_train_fs, y_train_new.ravel())\n",
    "print(\"model score: %.3f\" % clf.score(X_val_fs, y_val))\n",
    "clf_preds = clf.predict(X_test_fs)\n",
    "\n",
    "accuracy = evaluation.get_performance(clf_preds, y_test)\n",
    "evaluation.plot_roc(clf, y_test, X_test_fs)"
   ]
  },
  {
   "cell_type": "code",
   "execution_count": 25,
   "metadata": {},
   "outputs": [],
   "source": [
    "#save the model\n",
    "pickle.dump(clf, open('logistic_model.pkl', 'wb'))"
   ]
  }
 ],
 "metadata": {
  "kernelspec": {
   "display_name": "finany",
   "language": "python",
   "name": "python3"
  },
  "language_info": {
   "codemirror_mode": {
    "name": "ipython",
    "version": 3
   },
   "file_extension": ".py",
   "mimetype": "text/x-python",
   "name": "python",
   "nbconvert_exporter": "python",
   "pygments_lexer": "ipython3",
   "version": "3.11.4"
  }
 },
 "nbformat": 4,
 "nbformat_minor": 4
}
