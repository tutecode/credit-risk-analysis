{
 "cells": [
  {
   "cell_type": "markdown",
   "metadata": {},
   "source": [
    "# Credit Risk Analysis"
   ]
  },
  {
   "cell_type": "markdown",
   "metadata": {},
   "source": [
    "## Import packages"
   ]
  },
  {
   "cell_type": "markdown",
   "metadata": {},
   "source": [
    "1. `sys`: System-specific parameters and functions.\n",
    "2. `reload` (from `imp`): Reload previously imported modules.\n",
    "3. `matplotlib.pyplot`: Data visualization.\n",
    "4. `numpy`: Numerical computing.\n",
    "5. `pandas`: Data manipulation and analysis.\n",
    "6. `seaborn`: Statistical data visualization.\n",
    "7. `SimpleImputer` (from `sklearn.impute`): Handling missing data.\n",
    "8. `LogisticRegression` (from `sklearn.linear_model`): Logistic regression for classification."
   ]
  },
  {
   "cell_type": "code",
   "execution_count": null,
   "metadata": {},
   "outputs": [
    {
     "ename": "",
     "evalue": "",
     "output_type": "error",
     "traceback": [
      "\u001b[1;31mThe kernel failed to start as the Python Environment 'spr-final' is no longer available. Consider selecting another kernel or refreshing the list of Python Environments."
     ]
    }
   ],
   "source": [
    "import sys\n",
    "\n",
    "sys.path.append(\"..\")\n",
    "\n",
    "from imp import reload\n",
    "\n",
    "import numpy as np\n",
    "import pandas as pd\n",
    "\n",
    "from helper_functions import data_utils, preprocessing\n",
    "# from helper_functions import config, data_utils, evaluation, plot, preprocessing\n",
    "\n",
    "# import lightgbm as lgb\n",
    "\n",
    "# Ignore warnings\n",
    "import warnings\n",
    "warnings.filterwarnings('ignore', category = FutureWarning)"
   ]
  },
  {
   "cell_type": "markdown",
   "metadata": {},
   "source": [
    "## Load normalized data set\n"
   ]
  },
  {
   "cell_type": "markdown",
   "metadata": {},
   "source": [
    "In this notebook, we are going to encode a previously normalized `dataset` followed by the creation of the `ML` model."
   ]
  },
  {
   "cell_type": "code",
   "execution_count": null,
   "metadata": {},
   "outputs": [
    {
     "ename": "",
     "evalue": "",
     "output_type": "error",
     "traceback": [
      "\u001b[1;31mThe kernel failed to start as the Python Environment 'spr-final' is no longer available. Consider selecting another kernel or refreshing the list of Python Environments."
     ]
    }
   ],
   "source": [
    "app_normalized = data_utils.get_normalized_model()\n",
    "app_normalized['TARGET_LABEL_BAD=1'] = app_normalized.pop('TARGET_LABEL_BAD=1')\n",
    "app_normalized = preprocessing.categorical_columns(app_normalized)"
   ]
  },
  {
   "cell_type": "code",
   "execution_count": null,
   "metadata": {},
   "outputs": [
    {
     "ename": "",
     "evalue": "",
     "output_type": "error",
     "traceback": [
      "\u001b[1;31mThe kernel failed to start as the Python Environment 'spr-final' is no longer available. Consider selecting another kernel or refreshing the list of Python Environments."
     ]
    }
   ],
   "source": [
    "app_normalized.head()"
   ]
  },
  {
   "cell_type": "code",
   "execution_count": null,
   "metadata": {},
   "outputs": [
    {
     "ename": "",
     "evalue": "",
     "output_type": "error",
     "traceback": [
      "\u001b[1;31mThe kernel failed to start as the Python Environment 'spr-final' is no longer available. Consider selecting another kernel or refreshing the list of Python Environments."
     ]
    }
   ],
   "source": [
    "print(app_normalized.info())"
   ]
  },
  {
   "cell_type": "markdown",
   "metadata": {},
   "source": [
    "### Encoding"
   ]
  },
  {
   "cell_type": "markdown",
   "metadata": {},
   "source": [
    "- We do the encoding process for....\n",
    "\n",
    "- Some of the encoding techniques offered by category_encoders are:\n",
    "    - `One-Hot Encoding:` Encoding using the One-Hot Encoding method.\n",
    "    - `Ordinal Encoding:` Ordinal encoding, where ordinal labels are assigned to categories.\n",
    "    - `Binary Encoding:` Base-2 encoding to reduce dimensionality in categorical variables with multiple categories.\n",
    "    - `BaseN Encoding:` Base-N encoding to reduce dimensionality in categorical variables with multiple categories.\n",
    "    - `Target Encoding:` Encoding using the target variable to assign values to categories.\n",
    "    - `CatBoost Encoding:` Specific encoding for working with the CatBoost algorithm."
   ]
  },
  {
   "cell_type": "code",
   "execution_count": null,
   "metadata": {},
   "outputs": [
    {
     "ename": "",
     "evalue": "",
     "output_type": "error",
     "traceback": [
      "\u001b[1;31mThe kernel failed to start as the Python Environment 'spr-final' is no longer available. Consider selecting another kernel or refreshing the list of Python Environments."
     ]
    }
   ],
   "source": [
    "app_dum = preprocessing.encoding(app_normalized, True) # True for pandas get_dummies\n",
    "# app_enc = preprocessing.encoding(app_normalized, False) # False for different encoder"
   ]
  },
  {
   "cell_type": "code",
   "execution_count": null,
   "metadata": {},
   "outputs": [
    {
     "ename": "",
     "evalue": "",
     "output_type": "error",
     "traceback": [
      "\u001b[1;31mThe kernel failed to start as the Python Environment 'spr-final' is no longer available. Consider selecting another kernel or refreshing the list of Python Environments."
     ]
    }
   ],
   "source": [
    "print(app_dum.columns)"
   ]
  },
  {
   "cell_type": "code",
   "execution_count": null,
   "metadata": {},
   "outputs": [
    {
     "ename": "",
     "evalue": "",
     "output_type": "error",
     "traceback": [
      "\u001b[1;31mThe kernel failed to start as the Python Environment 'spr-final' is no longer available. Consider selecting another kernel or refreshing the list of Python Environments."
     ]
    }
   ],
   "source": [
    "# using get_dummies\n",
    "lr_model_enc = preprocessing.model_logistic_regression(app_dum, True)"
   ]
  },
  {
   "cell_type": "code",
   "execution_count": null,
   "metadata": {},
   "outputs": [
    {
     "ename": "",
     "evalue": "",
     "output_type": "error",
     "traceback": [
      "\u001b[1;31mThe kernel failed to start as the Python Environment 'spr-final' is no longer available. Consider selecting another kernel or refreshing the list of Python Environments."
     ]
    }
   ],
   "source": [
    "preprocessing.model_catboost_classifier(app_dum)"
   ]
  },
  {
   "cell_type": "markdown",
   "metadata": {},
   "source": [
    "### Comparing different models"
   ]
  },
  {
   "cell_type": "markdown",
   "metadata": {},
   "source": [
    "#### MSE VS R²"
   ]
  },
  {
   "cell_type": "code",
   "execution_count": null,
   "metadata": {},
   "outputs": [
    {
     "ename": "",
     "evalue": "",
     "output_type": "error",
     "traceback": [
      "\u001b[1;31mThe kernel failed to start as the Python Environment 'spr-final' is no longer available. Consider selecting another kernel or refreshing the list of Python Environments."
     ]
    }
   ],
   "source": [
    "# reload(preprocessing)\n",
    "preprocessing.basic_models(app_dum)"
   ]
  },
  {
   "cell_type": "markdown",
   "metadata": {},
   "source": [
    "```\n",
    " |                   Model|       MSE|        R²\n",
    "0|       Linear Regression|  0.239810| -0.250364\n",
    "1|     Logistic Regression|  0.425053| -1.216218\n",
    "2|     KNeighborsRegressor|  0.286204| -0.492264\n",
    "3|    Gaussian Naive Bayes|  0.471012| -1.455852\n",
    "4|  Multi Layer Perceptron|  0.306286| -0.596973\n",
    "5|                CatBoost|  0.187573|  0.022000\n",
    "6|        Ridge Regression|  0.239738| -0.249988\n",
    "7|        LASSO Regression|  0.250000| -0.303496\n",
    "8|          Decission Tree|  0.467938| -1.439824\n",
    "9|           Random Forest|  0.270495| -0.410358\n",
    "```\n",
    "\n",
    "- The Mean Squared Error (MSE) measures the average of squared errors between the predicted values and the actual values. A lower MSE indicates better accuracy, as it means the model's predictions are closer to the actual values.\n",
    "\n",
    "- R² (R-squared) is a metric that indicates the proportion of variance in the target variable that is explained by the predictor variables. It provides an indication of how well the model fits the data. A negative R² value suggests that the model does not fit the data well.\n",
    "\n",
    "- Among the models listed, CatBoost seems to perform the best. It has the lowest MSE (0.187573) and the highest R² (0.022000). This indicates that CatBoost has achieved the best balance between accuracy and explanatory power compared to the other models.\n",
    "\n",
    "- It's important to note that the evaluation metrics can vary depending on the specific dataset and the problem being solved. It's always a good practice to cross-validate the models and consider other factors, such as interpretability and computational cost, when choosing the best model for your particular problem.\n",
    "\n",
    "\n",
    "\n",
    "\n",
    "\n"
   ]
  },
  {
   "cell_type": "markdown",
   "metadata": {},
   "source": [
    "### NEURAL NETWORKS"
   ]
  },
  {
   "cell_type": "code",
   "execution_count": null,
   "metadata": {},
   "outputs": [
    {
     "ename": "",
     "evalue": "",
     "output_type": "error",
     "traceback": [
      "\u001b[1;31mThe kernel failed to start as the Python Environment 'spr-final' is no longer available. Consider selecting another kernel or refreshing the list of Python Environments."
     ]
    }
   ],
   "source": [
    "# import numpy as np\n",
    "# import pandas as pd\n",
    "# from sklearn.metrics import classification_report\n",
    "# from sklearn.metrics import accuracy_score, f1_score, precision_score, recall_score\n",
    "# from sklearn.metrics import make_scorer\n",
    "# from sklearn.pipeline import Pipeline\n",
    "# import matplotlib.pyplot as plt\n",
    "# import tensorflow as tf\n",
    "# from tensorflow.keras import Sequential, layers\n",
    "# from tensorflow.keras.optimizers import Adam\n",
    "# from tensorflow.keras import regularizers\n",
    "# from src import config, data_utils, evaluation, plot"
   ]
  }
 ],
 "metadata": {
  "kernelspec": {
   "display_name": "final",
   "language": "python",
   "name": "python3"
  },
  "language_info": {
   "codemirror_mode": {
    "name": "ipython",
    "version": 3
   },
   "file_extension": ".py",
   "mimetype": "text/x-python",
   "name": "python",
   "nbconvert_exporter": "python",
   "pygments_lexer": "ipython3",
   "version": "3.9.4"
  },
  "orig_nbformat": 4
 },
 "nbformat": 4,
 "nbformat_minor": 2
}
