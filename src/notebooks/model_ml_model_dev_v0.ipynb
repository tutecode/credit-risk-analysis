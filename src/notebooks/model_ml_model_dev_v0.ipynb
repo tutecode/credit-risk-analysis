{
 "cells": [
  {
   "cell_type": "markdown",
   "metadata": {},
   "source": [
    "# Credit Risk Analysis"
   ]
  },
  {
   "cell_type": "markdown",
   "metadata": {},
   "source": [
    "## Import packages"
   ]
  },
  {
   "cell_type": "markdown",
   "metadata": {},
   "source": [
    "1. `sys`: System-specific parameters and functions.\n",
    "2. `reload` (from `imp`): Reload previously imported modules.\n",
    "3. `matplotlib.pyplot`: Data visualization.\n",
    "4. `numpy`: Numerical computing.\n",
    "5. `pandas`: Data manipulation and analysis.\n",
    "6. `seaborn`: Statistical data visualization.\n",
    "7. `SimpleImputer` (from `sklearn.impute`): Handling missing data.\n",
    "8. `LogisticRegression` (from `sklearn.linear_model`): Logistic regression for classification."
   ]
  },
  {
   "cell_type": "code",
   "execution_count": 1,
   "metadata": {},
   "outputs": [
    {
     "name": "stderr",
     "output_type": "stream",
     "text": [
      "C:\\Users\\Yessid\\AppData\\Local\\Temp\\ipykernel_4908\\2275337687.py:5: DeprecationWarning: the imp module is deprecated in favour of importlib and slated for removal in Python 3.12; see the module's documentation for alternative uses\n",
      "  from imp import reload\n"
     ]
    }
   ],
   "source": [
    "import sys\n",
    "\n",
    "sys.path.append(\"..\")\n",
    "\n",
    "from imp import reload\n",
    "\n",
    "import matplotlib.pyplot as plt\n",
    "import numpy as np\n",
    "import pandas as pd\n",
    "import seaborn as sns\n",
    "# from sklearn.impute import SimpleImputer\n",
    "from sklearn.linear_model import LogisticRegression\n",
    "\n",
    "from helper_functions import config, data_utils, evaluation, plot, preprocessing\n",
    "\n",
    "\n",
    "import pandas as pd\n",
    "import numpy as np\n",
    "from sklearn.linear_model import LogisticRegression\n",
    "\n",
    "# import lightgbm as lgb\n",
    "from sklearn.model_selection import RandomizedSearchCV\n",
    "from sklearn.model_selection import cross_val_score\n",
    "from sklearn.tree import DecisionTreeClassifier\n",
    "from sklearn.metrics import classification_report\n",
    "import matplotlib.pyplot as plt\n",
    "from sklearn.feature_selection import RFE\n",
    "from sklearn.model_selection import GridSearchCV\n",
    "\n",
    "# from src import config, data_utils, evaluation, plot\n",
    "\n",
    "# Ignore warnings\n",
    "import warnings\n",
    "warnings.filterwarnings('ignore', category = FutureWarning)"
   ]
  },
  {
   "cell_type": "code",
   "execution_count": 2,
   "metadata": {},
   "outputs": [],
   "source": [
    "# Ignore warnings\n",
    "import warnings\n",
    "warnings.filterwarnings('ignore', category = FutureWarning)"
   ]
  },
  {
   "cell_type": "markdown",
   "metadata": {},
   "source": [
    "## Load normalized data set\n"
   ]
  },
  {
   "cell_type": "markdown",
   "metadata": {},
   "source": [
    "In this notebook, we are going to encode a previously normalized `dataset` followed by the creation of the `ML` model."
   ]
  },
  {
   "cell_type": "code",
   "execution_count": 3,
   "metadata": {},
   "outputs": [],
   "source": [
    "app_normalized = data_utils.get_normalized_model()\n",
    "app_normalized['TARGET_LABEL_BAD=1'] = app_normalized.pop('TARGET_LABEL_BAD=1')"
   ]
  },
  {
   "cell_type": "code",
   "execution_count": 4,
   "metadata": {},
   "outputs": [
    {
     "data": {
      "text/html": [
       "<div>\n",
       "<style scoped>\n",
       "    .dataframe tbody tr th:only-of-type {\n",
       "        vertical-align: middle;\n",
       "    }\n",
       "\n",
       "    .dataframe tbody tr th {\n",
       "        vertical-align: top;\n",
       "    }\n",
       "\n",
       "    .dataframe thead th {\n",
       "        text-align: right;\n",
       "    }\n",
       "</style>\n",
       "<table border=\"1\" class=\"dataframe\">\n",
       "  <thead>\n",
       "    <tr style=\"text-align: right;\">\n",
       "      <th></th>\n",
       "      <th>PAYMENT_DAY</th>\n",
       "      <th>APPLICATION_SUBMISSION_TYPE</th>\n",
       "      <th>SEX</th>\n",
       "      <th>MARITAL_STATUS</th>\n",
       "      <th>QUANT_DEPENDANTS</th>\n",
       "      <th>RESIDENCIAL_STATE</th>\n",
       "      <th>FLAG_RESIDENCIAL_PHONE</th>\n",
       "      <th>MONTHS_IN_RESIDENCE</th>\n",
       "      <th>FLAG_EMAIL</th>\n",
       "      <th>COMPANY</th>\n",
       "      <th>...</th>\n",
       "      <th>PRODUCT</th>\n",
       "      <th>AGE</th>\n",
       "      <th>HAS_DEPENDANTS</th>\n",
       "      <th>HAS_RESIDENCE</th>\n",
       "      <th>MONTHLY_INCOMES_TOT</th>\n",
       "      <th>HAS_CARDS</th>\n",
       "      <th>HAS_BANKING_ACCOUNTS</th>\n",
       "      <th>HAS_PERSONAL_ASSETS</th>\n",
       "      <th>HAS_CARS</th>\n",
       "      <th>TARGET_LABEL_BAD=1</th>\n",
       "    </tr>\n",
       "  </thead>\n",
       "  <tbody>\n",
       "    <tr>\n",
       "      <th>0</th>\n",
       "      <td>1_14</td>\n",
       "      <td>Web</td>\n",
       "      <td>F</td>\n",
       "      <td>other</td>\n",
       "      <td>1</td>\n",
       "      <td>RN</td>\n",
       "      <td>Y</td>\n",
       "      <td>&gt;_12</td>\n",
       "      <td>1</td>\n",
       "      <td>N</td>\n",
       "      <td>...</td>\n",
       "      <td>1</td>\n",
       "      <td>26_35</td>\n",
       "      <td>True</td>\n",
       "      <td>True</td>\n",
       "      <td>[650_1320]</td>\n",
       "      <td>True</td>\n",
       "      <td>False</td>\n",
       "      <td>False</td>\n",
       "      <td>False</td>\n",
       "      <td>1</td>\n",
       "    </tr>\n",
       "    <tr>\n",
       "      <th>1</th>\n",
       "      <td>15_30</td>\n",
       "      <td>Carga</td>\n",
       "      <td>F</td>\n",
       "      <td>married</td>\n",
       "      <td>0</td>\n",
       "      <td>RJ</td>\n",
       "      <td>Y</td>\n",
       "      <td>0_6</td>\n",
       "      <td>1</td>\n",
       "      <td>Y</td>\n",
       "      <td>...</td>\n",
       "      <td>1</td>\n",
       "      <td>26_35</td>\n",
       "      <td>False</td>\n",
       "      <td>True</td>\n",
       "      <td>[650_1320]</td>\n",
       "      <td>False</td>\n",
       "      <td>False</td>\n",
       "      <td>False</td>\n",
       "      <td>False</td>\n",
       "      <td>1</td>\n",
       "    </tr>\n",
       "    <tr>\n",
       "      <th>2</th>\n",
       "      <td>1_14</td>\n",
       "      <td>Web</td>\n",
       "      <td>F</td>\n",
       "      <td>married</td>\n",
       "      <td>0</td>\n",
       "      <td>RN</td>\n",
       "      <td>Y</td>\n",
       "      <td>&gt;_12</td>\n",
       "      <td>1</td>\n",
       "      <td>N</td>\n",
       "      <td>...</td>\n",
       "      <td>1</td>\n",
       "      <td>26_35</td>\n",
       "      <td>False</td>\n",
       "      <td>True</td>\n",
       "      <td>[0_650]</td>\n",
       "      <td>False</td>\n",
       "      <td>False</td>\n",
       "      <td>False</td>\n",
       "      <td>False</td>\n",
       "      <td>0</td>\n",
       "    </tr>\n",
       "    <tr>\n",
       "      <th>3</th>\n",
       "      <td>15_30</td>\n",
       "      <td>Web</td>\n",
       "      <td>F</td>\n",
       "      <td>married</td>\n",
       "      <td>0</td>\n",
       "      <td>PE</td>\n",
       "      <td>N</td>\n",
       "      <td>&gt;_12</td>\n",
       "      <td>1</td>\n",
       "      <td>N</td>\n",
       "      <td>...</td>\n",
       "      <td>1</td>\n",
       "      <td>&gt;_60</td>\n",
       "      <td>False</td>\n",
       "      <td>False</td>\n",
       "      <td>[0_650]</td>\n",
       "      <td>False</td>\n",
       "      <td>False</td>\n",
       "      <td>False</td>\n",
       "      <td>False</td>\n",
       "      <td>0</td>\n",
       "    </tr>\n",
       "    <tr>\n",
       "      <th>4</th>\n",
       "      <td>1_14</td>\n",
       "      <td>Web</td>\n",
       "      <td>M</td>\n",
       "      <td>married</td>\n",
       "      <td>0</td>\n",
       "      <td>RJ</td>\n",
       "      <td>Y</td>\n",
       "      <td>6_12</td>\n",
       "      <td>1</td>\n",
       "      <td>N</td>\n",
       "      <td>...</td>\n",
       "      <td>1</td>\n",
       "      <td>46_60</td>\n",
       "      <td>False</td>\n",
       "      <td>True</td>\n",
       "      <td>[650_1320]</td>\n",
       "      <td>False</td>\n",
       "      <td>False</td>\n",
       "      <td>False</td>\n",
       "      <td>False</td>\n",
       "      <td>1</td>\n",
       "    </tr>\n",
       "  </tbody>\n",
       "</table>\n",
       "<p>5 rows × 21 columns</p>\n",
       "</div>"
      ],
      "text/plain": [
       "  PAYMENT_DAY APPLICATION_SUBMISSION_TYPE SEX MARITAL_STATUS QUANT_DEPENDANTS  \\\n",
       "0        1_14                         Web   F          other                1   \n",
       "1       15_30                       Carga   F        married                0   \n",
       "2        1_14                         Web   F        married                0   \n",
       "3       15_30                         Web   F        married                0   \n",
       "4        1_14                         Web   M        married                0   \n",
       "\n",
       "  RESIDENCIAL_STATE FLAG_RESIDENCIAL_PHONE MONTHS_IN_RESIDENCE FLAG_EMAIL  \\\n",
       "0                RN                      Y                >_12          1   \n",
       "1                RJ                      Y                 0_6          1   \n",
       "2                RN                      Y                >_12          1   \n",
       "3                PE                      N                >_12          1   \n",
       "4                RJ                      Y                6_12          1   \n",
       "\n",
       "  COMPANY  ... PRODUCT    AGE HAS_DEPENDANTS  HAS_RESIDENCE  \\\n",
       "0       N  ...       1  26_35           True           True   \n",
       "1       Y  ...       1  26_35          False           True   \n",
       "2       N  ...       1  26_35          False           True   \n",
       "3       N  ...       1   >_60          False          False   \n",
       "4       N  ...       1  46_60          False           True   \n",
       "\n",
       "   MONTHLY_INCOMES_TOT HAS_CARDS  HAS_BANKING_ACCOUNTS  HAS_PERSONAL_ASSETS  \\\n",
       "0           [650_1320]      True                 False                False   \n",
       "1           [650_1320]     False                 False                False   \n",
       "2              [0_650]     False                 False                False   \n",
       "3              [0_650]     False                 False                False   \n",
       "4           [650_1320]     False                 False                False   \n",
       "\n",
       "   HAS_CARS  TARGET_LABEL_BAD=1  \n",
       "0     False                   1  \n",
       "1     False                   1  \n",
       "2     False                   0  \n",
       "3     False                   0  \n",
       "4     False                   1  \n",
       "\n",
       "[5 rows x 21 columns]"
      ]
     },
     "execution_count": 4,
     "metadata": {},
     "output_type": "execute_result"
    }
   ],
   "source": [
    "app_normalized = preprocessing.categorical_columns(app_normalized)\n",
    "app_normalized.head()"
   ]
  },
  {
   "cell_type": "code",
   "execution_count": 5,
   "metadata": {},
   "outputs": [
    {
     "name": "stdout",
     "output_type": "stream",
     "text": [
      "<class 'pandas.core.frame.DataFrame'>\n",
      "RangeIndex: 49935 entries, 0 to 49934\n",
      "Data columns (total 20 columns):\n",
      " #   Column                       Non-Null Count  Dtype   \n",
      "---  ------                       --------------  -----   \n",
      " 0   PAYMENT_DAY                  49935 non-null  category\n",
      " 1   APPLICATION_SUBMISSION_TYPE  49935 non-null  category\n",
      " 2   SEX                          49935 non-null  category\n",
      " 3   MARITAL_STATUS               49935 non-null  category\n",
      " 4   QUANT_DEPENDANTS             49935 non-null  category\n",
      " 5   RESIDENCIAL_STATE            49935 non-null  category\n",
      " 6   FLAG_RESIDENCIAL_PHONE       49935 non-null  category\n",
      " 7   MONTHS_IN_RESIDENCE          49935 non-null  category\n",
      " 8   FLAG_EMAIL                   49935 non-null  category\n",
      " 9   COMPANY                      49935 non-null  category\n",
      " 10  FLAG_PROFESSIONAL_PHONE      49935 non-null  category\n",
      " 11  AGE                          49935 non-null  category\n",
      " 12  HAS_DEPENDANTS               49935 non-null  bool    \n",
      " 13  HAS_RESIDENCE                49935 non-null  bool    \n",
      " 14  MONTHLY_INCOMES_TOT          49935 non-null  category\n",
      " 15  HAS_CARDS                    49935 non-null  bool    \n",
      " 16  HAS_BANKING_ACCOUNTS         49935 non-null  bool    \n",
      " 17  HAS_PERSONAL_ASSETS          49935 non-null  bool    \n",
      " 18  HAS_CARS                     49935 non-null  bool    \n",
      " 19  TARGET_LABEL_BAD=1           49935 non-null  category\n",
      "dtypes: bool(6), category(14)\n",
      "memory usage: 978.5 KB\n",
      "None\n"
     ]
    }
   ],
   "source": [
    "app_normalized.drop(columns='PRODUCT', inplace=True)\n",
    "print(app_normalized.info())"
   ]
  },
  {
   "cell_type": "markdown",
   "metadata": {},
   "source": [
    "### Encoding"
   ]
  },
  {
   "cell_type": "markdown",
   "metadata": {},
   "source": [
    "- We do the encoding process for....\n",
    "\n",
    "- Some of the encoding techniques offered by category_encoders are:\n",
    "    - `One-Hot Encoding:` Encoding using the One-Hot Encoding method.\n",
    "    - `Ordinal Encoding:` Ordinal encoding, where ordinal labels are assigned to categories.\n",
    "    - `Binary Encoding:` Base-2 encoding to reduce dimensionality in categorical variables with multiple categories.\n",
    "    - `BaseN Encoding:` Base-N encoding to reduce dimensionality in categorical variables with multiple categories.\n",
    "    - `Target Encoding:` Encoding using the target variable to assign values to categories.\n",
    "    - `CatBoost Encoding:` Specific encoding for working with the CatBoost algorithm."
   ]
  },
  {
   "cell_type": "code",
   "execution_count": 24,
   "metadata": {},
   "outputs": [],
   "source": [
    "reload(preprocessing)\n",
    "app_dum = preprocessing.encoding(app_normalized, True) # True for pandas get_dummies\n",
    "# app_enc = preprocessing.encoding(app_normalized, False) # False for different encoder"
   ]
  },
  {
   "cell_type": "code",
   "execution_count": 35,
   "metadata": {},
   "outputs": [
    {
     "data": {
      "text/plain": [
       "<module 'helper_functions.data_utils' from 'c:\\\\Users\\\\Yessid\\\\Desktop\\\\anyoneai\\\\credit-risk-analysis\\\\src\\\\notebooks\\\\..\\\\helper_functions\\\\data_utils.py'>"
      ]
     },
     "execution_count": 35,
     "metadata": {},
     "output_type": "execute_result"
    }
   ],
   "source": [
    "# X_train_dum, y_train_dum, X_test_dum, y_test_dum, X_val_dum, y_val_dum = data_utils.get_feature(app_dum) # using get_dummies\n",
    "# X_train_enc, y_train_enc, X_test_enc, y_test_enc, X_val_enc, y_val_enc = data_utils.get_feature(app_enc) # using encoder"
   ]
  },
  {
   "cell_type": "code",
   "execution_count": 16,
   "metadata": {},
   "outputs": [],
   "source": [
    "# X_train_dum, y_train_dum, X_test_dum, y_test_dum, X_val_dum, y_val_dum = data_utils.get_feature(app_dum) # using get_dummies"
   ]
  },
  {
   "cell_type": "code",
   "execution_count": 82,
   "metadata": {},
   "outputs": [
    {
     "name": "stdout",
     "output_type": "stream",
     "text": [
      "Best Score for Logistic Regression:  0.5858940197953084\n",
      "model score for Logistic Regression: 0.578\n",
      "Model Performance metrics:\n",
      "------------------------------\n",
      "Accuracy: 0.5756483428456994\n",
      "Precision: 0.8046198267564967\n",
      "Recall: 0.5646359583952452\n",
      "F1 Score: 0.6635973964121289\n",
      "\n",
      "Model Classification report:\n",
      "------------------------------\n",
      "              precision    recall  f1-score   support\n",
      "\n",
      "           0       0.80      0.56      0.66      7403\n",
      "           1       0.33      0.61      0.43      2584\n",
      "\n",
      "    accuracy                           0.58      9987\n",
      "   macro avg       0.57      0.59      0.54      9987\n",
      "weighted avg       0.68      0.58      0.60      9987\n",
      "\n",
      "\n",
      "Prediction Confusion Matrix:\n",
      "------------------------------\n",
      "      0     1\n",
      "0  4180  3223\n",
      "1  1015  1569\n"
     ]
    },
    {
     "data": {
      "image/png": "[encoded data removed]",
      "text/plain": [
       "<Figure size 1000x500 with 1 Axes>"
      ]
     },
     "metadata": {},
     "output_type": "display_data"
    },
    {
     "name": "stdout",
     "output_type": "stream",
     "text": [
      "Best Score for Logistic Regression:  0.5858940197953084\n"
     ]
    }
   ],
   "source": [
    "reload(preprocessing)\n",
    "lr_model = preprocessing.model_logistic_regression(app_dum, True)"
   ]
  },
  {
   "cell_type": "code",
   "execution_count": 23,
   "metadata": {},
   "outputs": [],
   "source": [
    "# accuracy = evaluation.get_performance(y_hat, y_test_enc)\n",
    "# evaluation.plot_roc(grid_search_enc, y_test_enc, X_test_enc)"
   ]
  },
  {
   "cell_type": "markdown",
   "metadata": {},
   "source": []
  },
  {
   "cell_type": "markdown",
   "metadata": {},
   "source": []
  },
  {
   "cell_type": "markdown",
   "metadata": {},
   "source": []
  },
  {
   "cell_type": "markdown",
   "metadata": {},
   "source": []
  },
  {
   "cell_type": "markdown",
   "metadata": {},
   "source": []
  },
  {
   "cell_type": "markdown",
   "metadata": {},
   "source": []
  },
  {
   "cell_type": "markdown",
   "metadata": {},
   "source": []
  },
  {
   "cell_type": "markdown",
   "metadata": {},
   "source": []
  },
  {
   "cell_type": "markdown",
   "metadata": {},
   "source": []
  },
  {
   "cell_type": "markdown",
   "metadata": {},
   "source": []
  },
  {
   "cell_type": "markdown",
   "metadata": {},
   "source": []
  },
  {
   "cell_type": "markdown",
   "metadata": {},
   "source": []
  },
  {
   "cell_type": "markdown",
   "metadata": {},
   "source": []
  },
  {
   "cell_type": "markdown",
   "metadata": {},
   "source": []
  },
  {
   "cell_type": "markdown",
   "metadata": {},
   "source": []
  },
  {
   "cell_type": "markdown",
   "metadata": {},
   "source": []
  },
  {
   "cell_type": "markdown",
   "metadata": {},
   "source": [
    "#### DIFERENTES MODELOS GPT, SOLO USAR COMO GUIA..."
   ]
  },
  {
   "cell_type": "code",
   "execution_count": 21,
   "metadata": {},
   "outputs": [],
   "source": [
    "import numpy as np\n",
    "import pandas as pd\n",
    "import matplotlib.pyplot as plt\n",
    "from sklearn.model_selection import train_test_split\n",
    "from sklearn.linear_model import LinearRegression, Ridge, Lasso\n",
    "from sklearn.preprocessing import PolynomialFeatures\n",
    "from sklearn.tree import DecisionTreeRegressor\n",
    "from sklearn.metrics import mean_squared_error, r2_score"
   ]
  },
  {
   "cell_type": "code",
   "execution_count": 27,
   "metadata": {},
   "outputs": [],
   "source": [
    "def evaluate_model(model, X_train, X_test, y_train, y_test):\n",
    "    # Entrenar el modelo\n",
    "    model.fit(X_train, y_train)\n",
    "\n",
    "    # Realizar predicciones en el conjunto de prueba\n",
    "    y_pred = model.predict(X_test)\n",
    "\n",
    "    # Calcular el error cuadrático medio (MSE)\n",
    "    mse = mean_squared_error(y_test, y_pred)\n",
    "\n",
    "    # Calcular el coeficiente de determinación (R²)\n",
    "    r2 = r2_score(y_test, y_pred)\n",
    "\n",
    "    return mse, r2"
   ]
  },
  {
   "cell_type": "code",
   "execution_count": 28,
   "metadata": {},
   "outputs": [
    {
     "name": "stdout",
     "output_type": "stream",
     "text": [
      "                 Modelo       MSE        R²\n",
      "0      Regresión Lineal  0.240032 -0.251523\n",
      "1  Regresión Polinomial  0.240032 -0.251523\n",
      "2       Regresión Ridge  0.239962 -0.251161\n",
      "3       Regresión LASSO  0.250000 -0.303496\n",
      "4   Árboles de Decisión  0.456906 -1.382301\n"
     ]
    }
   ],
   "source": [
    "# Dividir los datos en conjuntos de entrenamiento y prueba\n",
    "# X_train, X_test, y_train, y_test = train_test_split(X_dum_res, y, test_size=0.2, random_state=42)\n",
    "\n",
    "# Modelo de Regresión Lineal\n",
    "linear_model = LinearRegression()\n",
    "mse_linear, r2_linear = evaluate_model(linear_model, X_train_dum_reshape, X_test_dum, y_train_dum_reshape, y_test_dum)\n",
    "\n",
    "# Modelo de Regresión Polinomial (grado 2)\n",
    "polynomial_features = PolynomialFeatures(degree=2)\n",
    "X_train_poly = polynomial_features.fit_transform(X_train_dum_reshape)\n",
    "X_test_poly = polynomial_features.transform(X_test_dum)\n",
    "polynomial_model = LinearRegression()\n",
    "mse_poly, r2_poly = evaluate_model(polynomial_model, X_train_poly, X_test_poly, y_train_dum, y_test_dum)\n",
    "\n",
    "# Modelo de Regresión Ridge\n",
    "ridge_model = Ridge(alpha=1.0)\n",
    "mse_ridge, r2_ridge = evaluate_model(ridge_model, X_train_dum_reshape, X_test_dum, y_train_dum_reshape, y_test_dum)\n",
    "\n",
    "# Modelo de Regresión LASSO\n",
    "lasso_model = Lasso(alpha=1.0)\n",
    "mse_lasso, r2_lasso = evaluate_model(lasso_model, X_train_dum_reshape, X_test_dum, y_train_dum_reshape, y_test_dum)\n",
    "\n",
    "# Modelo de Árboles de Decisión Regresión\n",
    "decision_tree_model = DecisionTreeRegressor()\n",
    "mse_dt, r2_dt = evaluate_model(decision_tree_model, X_train_dum_reshape, X_test_dum, y_train_dum_reshape, y_test_dum)\n",
    "\n",
    "# Crear un DataFrame con los resultados\n",
    "results = pd.DataFrame({\n",
    "    'Modelo': ['Regresión Lineal', 'Regresión Polinomial', 'Regresión Ridge', 'Regresión LASSO', 'Árboles de Decisión'],\n",
    "    'MSE': [mse_linear, mse_poly, mse_ridge, mse_lasso, mse_dt],\n",
    "    'R²': [r2_linear, r2_poly, r2_ridge, r2_lasso, r2_dt]\n",
    "})\n",
    "\n",
    "print(results)\n"
   ]
  },
  {
   "cell_type": "markdown",
   "metadata": {},
   "source": [
    "#### THEORY\n",
    "Regresión Lineal:\n",
    "MSE (Error Cuadrático Medio): 0.240032\n",
    "R² (Coeficiente de Determinación): -0.251523\n",
    "El MSE es una métrica que mide el promedio de los errores al cuadrado entre las predicciones y los valores reales. En este caso, el valor de 0.240032 indica que el modelo de regresión lineal tiene un error cuadrático medio relativamente bajo, lo que sugiere que las predicciones son bastante cercanas a los valores reales en promedio.\n",
    "\n",
    "El R² es una métrica que indica la proporción de la varianza en la variable de respuesta que es predecible a partir de las variables predictoras. Un valor negativo de R² significa que el modelo no se ajusta bien a los datos y que la línea de regresión no se ajusta bien a los puntos de datos.\n",
    "\n",
    "Regresión Polinomial:\n",
    "MSE: 0.240032\n",
    "R²: -0.251523\n",
    "En este caso, los valores de MSE y R² son los mismos que para el modelo de regresión lineal. Esto sugiere que el modelo de regresión polinomial con grado 2 no ha mejorado significativamente el rendimiento del modelo en comparación con la regresión lineal simple.\n",
    "\n",
    "Regresión Ridge:\n",
    "MSE: 0.239962\n",
    "R²: -0.251161\n",
    "El modelo de regresión Ridge es una variante de la regresión lineal que incorpora regularización para evitar el sobreajuste. En este caso, el valor de MSE es ligeramente menor que en la regresión lineal, lo que indica una ligera mejora en el rendimiento del modelo. Sin embargo, el valor negativo de R² aún sugiere que el modelo no se ajusta bien a los datos.\n",
    "\n",
    "Regresión LASSO:\n",
    "MSE: 0.250000\n",
    "R²: -0.303496\n",
    "La regresión LASSO también es una variante de la regresión lineal con regularización, pero utiliza una técnica diferente para penalizar los coeficientes de las variables. En este caso, el valor de MSE es ligeramente mayor que en los modelos anteriores, lo que indica un rendimiento ligeramente inferior. El valor negativo de R² sugiere que el modelo tampoco se ajusta bien a los datos.\n",
    "\n",
    "Árboles de Decisión:\n",
    "MSE: 0.456906\n",
    "R²: -1.382301\n",
    "Los árboles de decisión son un tipo de modelo no lineal que divide el espacio de características en regiones y realiza predicciones en función de la región en la que cae una observación. El valor de MSE es más alto que en los modelos anteriores, lo que indica un mayor error en las predicciones. El valor negativo de R² indica que el árbol de decisión no es un buen modelo para este conjunto de datos y que su rendimiento es peor que simplemente usar la media como predicción.\n",
    "\n",
    "En resumen, ninguno de los modelos parece ajustarse bien a los datos, ya que todos tienen valores negativos de R², lo que indica que no explican bien la variabilidad en los datos. Es posible que se requieran ajustes en los hiperparámetros del modelo o una exploración más profunda de los datos para mejorar el rendimiento del modelo. Además, sería útil considerar otras métricas de evaluación y realizar una validación cruzada para obtener una estimación más robusta del rendimiento del modelo."
   ]
  },
  {
   "cell_type": "code",
   "execution_count": 29,
   "metadata": {},
   "outputs": [],
   "source": [
    "#  linear regresion model:\n",
    "linear_model = LinearRegression()\n",
    "parameters = {}\n",
    "grid_search_linear = GridSearchCV(linear_model, parameters, cv=5)\n",
    "grid_search_linear.fit(X_train_dum_reshape, y_train_dum_reshape)\n",
    "best_linear_model = grid_search_linear.best_estimator_\n",
    "\n",
    "mse_linear, r2_linear = evaluate_model(best_linear_model, X_train_dum_reshape, X_test_dum, y_train_dum_reshape, y_test_dum)\n"
   ]
  },
  {
   "cell_type": "code",
   "execution_count": 31,
   "metadata": {},
   "outputs": [],
   "source": [
    "# Modelo de Regresión Ridge:\n",
    "ridge_model = Ridge()\n",
    "parameters = {'alpha': [0.1, 1.0, 10.0]}\n",
    "grid_search_ridge = GridSearchCV(ridge_model, parameters, cv=5)\n",
    "grid_search_ridge.fit(X_train_dum_reshape, y_train_dum_reshape)\n",
    "best_ridge_model = grid_search_ridge.best_estimator_\n",
    "\n",
    "mse_ridge, r2_ridge = evaluate_model(best_ridge_model, X_train_dum_reshape, X_test_dum, y_train_dum_reshape, y_test_dum)\n"
   ]
  },
  {
   "cell_type": "code",
   "execution_count": 32,
   "metadata": {},
   "outputs": [],
   "source": [
    "# Modelo de Regresión LASSO:\n",
    "lasso_model = Lasso()\n",
    "parameters = {'alpha': [0.1, 1.0, 10.0]}\n",
    "grid_search_lasso = GridSearchCV(lasso_model, parameters, cv=5)\n",
    "grid_search_lasso.fit(X_train_dum_reshape, y_train_dum_reshape)\n",
    "best_lasso_model = grid_search_lasso.best_estimator_\n",
    "\n",
    "mse_lasso, r2_lasso = evaluate_model(best_lasso_model, X_train_dum_reshape, X_test_dum, y_train_dum_reshape, y_test_dum)\n"
   ]
  },
  {
   "cell_type": "code",
   "execution_count": 33,
   "metadata": {},
   "outputs": [],
   "source": [
    "# Modelo de Árboles de Decisión Regresión:\n",
    "decision_tree_model = DecisionTreeRegressor()\n",
    "parameters = {'max_depth': [None, 10, 20], 'min_samples_split': [2, 5, 10]}\n",
    "grid_search_dt = GridSearchCV(decision_tree_model, parameters, cv=5)\n",
    "grid_search_dt.fit(X_train_dum_reshape, y_train_dum_reshape)\n",
    "best_dt_model = grid_search_dt.best_estimator_\n",
    "\n",
    "mse_dt, r2_dt = evaluate_model(best_dt_model, X_train_dum_reshape, X_test_dum, y_train_dum_reshape, y_test_dum)\n"
   ]
  },
  {
   "cell_type": "code",
   "execution_count": 37,
   "metadata": {},
   "outputs": [
    {
     "name": "stdout",
     "output_type": "stream",
     "text": [
      "                Modelo       MSE        R²\n",
      "0     Regresión Lineal  0.240032 -0.251523\n",
      "1      Regresión Ridge  0.239822 -0.250430\n",
      "2      Regresión LASSO  0.250000 -0.303496\n",
      "3  Árboles de Decisión  0.254111 -0.324929\n"
     ]
    }
   ],
   "source": [
    "results = pd.DataFrame({\n",
    "    'Modelo': ['Regresión Lineal', 'Regresión Ridge', 'Regresión LASSO', 'Árboles de Decisión'],\n",
    "    'MSE': [mse_linear, mse_ridge, mse_lasso, mse_dt],\n",
    "    'R²': [r2_linear, r2_ridge, r2_lasso, r2_dt]\n",
    "})\n",
    "\n",
    "print(results)"
   ]
  },
  {
   "cell_type": "code",
   "execution_count": 43,
   "metadata": {},
   "outputs": [],
   "source": [
    "correlation_with_other_columns = app_normalized.corrwith(app_normalized['TARGET_LABEL_BAD=1'])"
   ]
  }
 ],
 "metadata": {
  "kernelspec": {
   "display_name": "final",
   "language": "python",
   "name": "python3"
  },
  "language_info": {
   "codemirror_mode": {
    "name": "ipython",
    "version": 3
   },
   "file_extension": ".py",
   "mimetype": "text/x-python",
   "name": "python",
   "nbconvert_exporter": "python",
   "pygments_lexer": "ipython3",
   "version": "3.11.4"
  },
  "orig_nbformat": 4
 },
 "nbformat": 4,
 "nbformat_minor": 2
}
