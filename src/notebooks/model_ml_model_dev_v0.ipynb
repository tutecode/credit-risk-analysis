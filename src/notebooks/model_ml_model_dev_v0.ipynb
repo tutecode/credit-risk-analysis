{
 "cells": [
  {
   "cell_type": "markdown",
   "metadata": {},
   "source": [
    "# Credit Risk Analysis"
   ]
  },
  {
   "cell_type": "markdown",
   "metadata": {},
   "source": [
    "## Import packages"
   ]
  },
  {
   "cell_type": "markdown",
   "metadata": {},
   "source": [
    "1. `sys`: System-specific parameters and functions.\n",
    "2. `reload` (from `imp`): Reload previously imported modules.\n",
    "3. `matplotlib.pyplot`: Data visualization.\n",
    "4. `numpy`: Numerical computing.\n",
    "5. `pandas`: Data manipulation and analysis.\n",
    "6. `seaborn`: Statistical data visualization.\n",
    "7. `SimpleImputer` (from `sklearn.impute`): Handling missing data.\n",
    "8. `LogisticRegression` (from `sklearn.linear_model`): Logistic regression for classification."
   ]
  },
  {
   "cell_type": "code",
   "execution_count": 19,
   "metadata": {},
   "outputs": [],
   "source": [
    "import sys\n",
    "\n",
    "sys.path.append(\"..\")\n",
    "\n",
    "from imp import reload\n",
    "\n",
    "import matplotlib.pyplot as plt\n",
    "import numpy as np\n",
    "import pandas as pd\n",
    "import seaborn as sns\n",
    "from sklearn.impute import SimpleImputer\n",
    "from sklearn.linear_model import LogisticRegression\n",
    "\n",
    "from helper_functions import config, data_utils, evaluation, plot, preprocessing\n",
    "\n",
    "\n",
    "import pandas as pd\n",
    "import numpy as np\n",
    "from sklearn.linear_model import LogisticRegression\n",
    "\n",
    "# import lightgbm as lgb\n",
    "from sklearn.model_selection import RandomizedSearchCV\n",
    "from sklearn.model_selection import cross_val_score\n",
    "from sklearn.tree import DecisionTreeClassifier\n",
    "from sklearn.metrics import classification_report\n",
    "import matplotlib.pyplot as plt\n",
    "from sklearn.feature_selection import RFE\n",
    "from sklearn.model_selection import GridSearchCV\n",
    "\n",
    "# from src import config, data_utils, evaluation, plot\n",
    "\n",
    "# Ignore warnings\n",
    "import warnings\n",
    "warnings.filterwarnings('ignore', category = FutureWarning)"
   ]
  },
  {
   "cell_type": "code",
   "execution_count": 20,
   "metadata": {},
   "outputs": [],
   "source": [
    "# Ignore warnings\n",
    "import warnings\n",
    "warnings.filterwarnings('ignore', category = FutureWarning)"
   ]
  },
  {
   "cell_type": "markdown",
   "metadata": {},
   "source": [
    "## Load normalized data set\n"
   ]
  },
  {
   "cell_type": "markdown",
   "metadata": {},
   "source": [
    "In this notebook, we are going to encode a previously normalized `dataset` followed by the creation of the `ML` model."
   ]
  },
  {
   "cell_type": "code",
   "execution_count": 21,
   "metadata": {},
   "outputs": [],
   "source": [
    "app_normalized = data_utils.get_normalized_model()\n",
    "app_normalized['TARGET_LABEL_BAD=1'] = app_normalized.pop('TARGET_LABEL_BAD=1')"
   ]
  },
  {
   "cell_type": "code",
   "execution_count": 22,
   "metadata": {},
   "outputs": [
    {
     "data": {
      "text/html": [
       "<div>\n",
       "<style scoped>\n",
       "    .dataframe tbody tr th:only-of-type {\n",
       "        vertical-align: middle;\n",
       "    }\n",
       "\n",
       "    .dataframe tbody tr th {\n",
       "        vertical-align: top;\n",
       "    }\n",
       "\n",
       "    .dataframe thead th {\n",
       "        text-align: right;\n",
       "    }\n",
       "</style>\n",
       "<table border=\"1\" class=\"dataframe\">\n",
       "  <thead>\n",
       "    <tr style=\"text-align: right;\">\n",
       "      <th></th>\n",
       "      <th>PAYMENT_DAY</th>\n",
       "      <th>APPLICATION_SUBMISSION_TYPE</th>\n",
       "      <th>SEX</th>\n",
       "      <th>MARITAL_STATUS</th>\n",
       "      <th>QUANT_DEPENDANTS</th>\n",
       "      <th>RESIDENCIAL_STATE</th>\n",
       "      <th>FLAG_RESIDENCIAL_PHONE</th>\n",
       "      <th>MONTHS_IN_RESIDENCE</th>\n",
       "      <th>FLAG_EMAIL</th>\n",
       "      <th>COMPANY</th>\n",
       "      <th>...</th>\n",
       "      <th>PRODUCT</th>\n",
       "      <th>AGE</th>\n",
       "      <th>HAS_DEPENDANTS</th>\n",
       "      <th>HAS_RESIDENCE</th>\n",
       "      <th>MONTHLY_INCOMES_TOT</th>\n",
       "      <th>HAS_CARDS</th>\n",
       "      <th>HAS_BANKING_ACCOUNTS</th>\n",
       "      <th>HAS_PERSONAL_ASSETS</th>\n",
       "      <th>HAS_CARS</th>\n",
       "      <th>TARGET_LABEL_BAD=1</th>\n",
       "    </tr>\n",
       "  </thead>\n",
       "  <tbody>\n",
       "    <tr>\n",
       "      <th>0</th>\n",
       "      <td>1_14</td>\n",
       "      <td>Web</td>\n",
       "      <td>F</td>\n",
       "      <td>other</td>\n",
       "      <td>1</td>\n",
       "      <td>RN</td>\n",
       "      <td>Y</td>\n",
       "      <td>&gt;_12</td>\n",
       "      <td>1</td>\n",
       "      <td>N</td>\n",
       "      <td>...</td>\n",
       "      <td>1</td>\n",
       "      <td>26_35</td>\n",
       "      <td>True</td>\n",
       "      <td>True</td>\n",
       "      <td>[650_1320]</td>\n",
       "      <td>True</td>\n",
       "      <td>False</td>\n",
       "      <td>False</td>\n",
       "      <td>False</td>\n",
       "      <td>1</td>\n",
       "    </tr>\n",
       "    <tr>\n",
       "      <th>1</th>\n",
       "      <td>15_30</td>\n",
       "      <td>Carga</td>\n",
       "      <td>F</td>\n",
       "      <td>married</td>\n",
       "      <td>0</td>\n",
       "      <td>RJ</td>\n",
       "      <td>Y</td>\n",
       "      <td>0_6</td>\n",
       "      <td>1</td>\n",
       "      <td>Y</td>\n",
       "      <td>...</td>\n",
       "      <td>1</td>\n",
       "      <td>26_35</td>\n",
       "      <td>False</td>\n",
       "      <td>True</td>\n",
       "      <td>[650_1320]</td>\n",
       "      <td>False</td>\n",
       "      <td>False</td>\n",
       "      <td>False</td>\n",
       "      <td>False</td>\n",
       "      <td>1</td>\n",
       "    </tr>\n",
       "    <tr>\n",
       "      <th>2</th>\n",
       "      <td>1_14</td>\n",
       "      <td>Web</td>\n",
       "      <td>F</td>\n",
       "      <td>married</td>\n",
       "      <td>0</td>\n",
       "      <td>RN</td>\n",
       "      <td>Y</td>\n",
       "      <td>&gt;_12</td>\n",
       "      <td>1</td>\n",
       "      <td>N</td>\n",
       "      <td>...</td>\n",
       "      <td>1</td>\n",
       "      <td>26_35</td>\n",
       "      <td>False</td>\n",
       "      <td>True</td>\n",
       "      <td>[0_650]</td>\n",
       "      <td>False</td>\n",
       "      <td>False</td>\n",
       "      <td>False</td>\n",
       "      <td>False</td>\n",
       "      <td>0</td>\n",
       "    </tr>\n",
       "    <tr>\n",
       "      <th>3</th>\n",
       "      <td>15_30</td>\n",
       "      <td>Web</td>\n",
       "      <td>F</td>\n",
       "      <td>married</td>\n",
       "      <td>0</td>\n",
       "      <td>PE</td>\n",
       "      <td>N</td>\n",
       "      <td>&gt;_12</td>\n",
       "      <td>1</td>\n",
       "      <td>N</td>\n",
       "      <td>...</td>\n",
       "      <td>1</td>\n",
       "      <td>&gt;_60</td>\n",
       "      <td>False</td>\n",
       "      <td>False</td>\n",
       "      <td>[0_650]</td>\n",
       "      <td>False</td>\n",
       "      <td>False</td>\n",
       "      <td>False</td>\n",
       "      <td>False</td>\n",
       "      <td>0</td>\n",
       "    </tr>\n",
       "    <tr>\n",
       "      <th>4</th>\n",
       "      <td>1_14</td>\n",
       "      <td>Web</td>\n",
       "      <td>M</td>\n",
       "      <td>married</td>\n",
       "      <td>0</td>\n",
       "      <td>RJ</td>\n",
       "      <td>Y</td>\n",
       "      <td>6_12</td>\n",
       "      <td>1</td>\n",
       "      <td>N</td>\n",
       "      <td>...</td>\n",
       "      <td>1</td>\n",
       "      <td>46_60</td>\n",
       "      <td>False</td>\n",
       "      <td>True</td>\n",
       "      <td>[650_1320]</td>\n",
       "      <td>False</td>\n",
       "      <td>False</td>\n",
       "      <td>False</td>\n",
       "      <td>False</td>\n",
       "      <td>1</td>\n",
       "    </tr>\n",
       "  </tbody>\n",
       "</table>\n",
       "<p>5 rows × 21 columns</p>\n",
       "</div>"
      ],
      "text/plain": [
       "  PAYMENT_DAY APPLICATION_SUBMISSION_TYPE SEX MARITAL_STATUS QUANT_DEPENDANTS  \\\n",
       "0        1_14                         Web   F          other                1   \n",
       "1       15_30                       Carga   F        married                0   \n",
       "2        1_14                         Web   F        married                0   \n",
       "3       15_30                         Web   F        married                0   \n",
       "4        1_14                         Web   M        married                0   \n",
       "\n",
       "  RESIDENCIAL_STATE FLAG_RESIDENCIAL_PHONE MONTHS_IN_RESIDENCE FLAG_EMAIL  \\\n",
       "0                RN                      Y                >_12          1   \n",
       "1                RJ                      Y                 0_6          1   \n",
       "2                RN                      Y                >_12          1   \n",
       "3                PE                      N                >_12          1   \n",
       "4                RJ                      Y                6_12          1   \n",
       "\n",
       "  COMPANY  ... PRODUCT    AGE HAS_DEPENDANTS  HAS_RESIDENCE  \\\n",
       "0       N  ...       1  26_35           True           True   \n",
       "1       Y  ...       1  26_35          False           True   \n",
       "2       N  ...       1  26_35          False           True   \n",
       "3       N  ...       1   >_60          False          False   \n",
       "4       N  ...       1  46_60          False           True   \n",
       "\n",
       "   MONTHLY_INCOMES_TOT HAS_CARDS  HAS_BANKING_ACCOUNTS  HAS_PERSONAL_ASSETS  \\\n",
       "0           [650_1320]      True                 False                False   \n",
       "1           [650_1320]     False                 False                False   \n",
       "2              [0_650]     False                 False                False   \n",
       "3              [0_650]     False                 False                False   \n",
       "4           [650_1320]     False                 False                False   \n",
       "\n",
       "   HAS_CARS  TARGET_LABEL_BAD=1  \n",
       "0     False                   1  \n",
       "1     False                   1  \n",
       "2     False                   0  \n",
       "3     False                   0  \n",
       "4     False                   1  \n",
       "\n",
       "[5 rows x 21 columns]"
      ]
     },
     "execution_count": 22,
     "metadata": {},
     "output_type": "execute_result"
    }
   ],
   "source": [
    "app_normalized = preprocessing.categorical_columns(app_normalized)\n",
    "app_normalized.head()"
   ]
  },
  {
   "cell_type": "code",
   "execution_count": 23,
   "metadata": {},
   "outputs": [
    {
     "name": "stdout",
     "output_type": "stream",
     "text": [
      "<class 'pandas.core.frame.DataFrame'>\n",
      "RangeIndex: 49935 entries, 0 to 49934\n",
      "Data columns (total 21 columns):\n",
      " #   Column                       Non-Null Count  Dtype   \n",
      "---  ------                       --------------  -----   \n",
      " 0   PAYMENT_DAY                  49935 non-null  category\n",
      " 1   APPLICATION_SUBMISSION_TYPE  49935 non-null  category\n",
      " 2   SEX                          49935 non-null  category\n",
      " 3   MARITAL_STATUS               49935 non-null  category\n",
      " 4   QUANT_DEPENDANTS             49935 non-null  category\n",
      " 5   RESIDENCIAL_STATE            49935 non-null  category\n",
      " 6   FLAG_RESIDENCIAL_PHONE       49935 non-null  category\n",
      " 7   MONTHS_IN_RESIDENCE          49935 non-null  category\n",
      " 8   FLAG_EMAIL                   49935 non-null  category\n",
      " 9   COMPANY                      49935 non-null  category\n",
      " 10  FLAG_PROFESSIONAL_PHONE      49935 non-null  category\n",
      " 11  PRODUCT                      49935 non-null  category\n",
      " 12  AGE                          49935 non-null  category\n",
      " 13  HAS_DEPENDANTS               49935 non-null  bool    \n",
      " 14  HAS_RESIDENCE                49935 non-null  bool    \n",
      " 15  MONTHLY_INCOMES_TOT          49935 non-null  category\n",
      " 16  HAS_CARDS                    49935 non-null  bool    \n",
      " 17  HAS_BANKING_ACCOUNTS         49935 non-null  bool    \n",
      " 18  HAS_PERSONAL_ASSETS          49935 non-null  bool    \n",
      " 19  HAS_CARS                     49935 non-null  bool    \n",
      " 20  TARGET_LABEL_BAD=1           49935 non-null  category\n",
      "dtypes: bool(6), category(15)\n",
      "memory usage: 1.0 MB\n",
      "None\n"
     ]
    }
   ],
   "source": [
    "print(app_normalized.info())"
   ]
  },
  {
   "cell_type": "markdown",
   "metadata": {},
   "source": [
    "### Encoding"
   ]
  },
  {
   "cell_type": "markdown",
   "metadata": {},
   "source": [
    "- Some of the encoding techniques offered by category_encoders are:\n",
    "    - `One-Hot Encoding:` Encoding using the One-Hot Encoding method.\n",
    "    - `Ordinal Encoding:` Ordinal encoding, where ordinal labels are assigned to categories.\n",
    "    - `Binary Encoding:` Base-2 encoding to reduce dimensionality in categorical variables with multiple categories.\n",
    "    - `BaseN Encoding:` Base-N encoding to reduce dimensionality in categorical variables with multiple categories.\n",
    "    - `Target Encoding:` Encoding using the target variable to assign values to categories.\n",
    "    - `CatBoost Encoding:` Specific encoding for working with the CatBoost algorithm."
   ]
  },
  {
   "cell_type": "code",
   "execution_count": 24,
   "metadata": {},
   "outputs": [],
   "source": [
    "reload(preprocessing)\n",
    "app_dum = preprocessing.encoding(app_normalized, True) # using get_dummies\n",
    "app_enc = preprocessing.encoding(app_normalized, False) # using encoder"
   ]
  },
  {
   "cell_type": "code",
   "execution_count": 25,
   "metadata": {},
   "outputs": [],
   "source": [
    "reload(data_utils)\n",
    "X_train_dum, y_train_dum, X_test_dum, y_test_dum, X_val_dum, y_val_dum = data_utils.get_feature(app_dum)\n",
    "X_train_enc, y_train_enc, X_test_enc, y_test_enc, X_val_enc, y_val_enc = data_utils.get_feature(app_enc)"
   ]
  },
  {
   "cell_type": "code",
   "execution_count": 26,
   "metadata": {},
   "outputs": [],
   "source": [
    "# logistic regression\n",
    "model_lr = LogisticRegression(max_iter=500)\n",
    "\n",
    "# logistic regression: define the parameter grid to search over\n",
    "param_grid = {\n",
    "    'C': [0.01, 0.1, 1, 10]\n",
    "}"
   ]
  },
  {
   "cell_type": "code",
   "execution_count": 27,
   "metadata": {},
   "outputs": [
    {
     "name": "stdout",
     "output_type": "stream",
     "text": [
      "Best Parameters dummy:  {'C': 0.01}\n",
      "Best Score dummy:  0.7370932116035929\n"
     ]
    }
   ],
   "source": [
    "# for dummies as encoder\n",
    "grid_search_dum = GridSearchCV(model_lr, param_grid, cv=5) # create a grid search object for dummy\n",
    "grid_search_dum.fit(X_train_dum, y_train_dum) # fit the grid search object to the data (dummy)\n",
    "\n",
    "# print the best parameters and score\n",
    "print(\"Best Parameters dummy: \", grid_search_dum.best_params_)\n",
    "print(\"Best Score dummy: \", grid_search_dum.best_score_)"
   ]
  },
  {
   "cell_type": "code",
   "execution_count": 30,
   "metadata": {},
   "outputs": [
    {
     "name": "stdout",
     "output_type": "stream",
     "text": [
      "model score: 0.747\n"
     ]
    }
   ],
   "source": [
    "print(\"model score: %.3f\" % grid_search_dum.score(X_val_dum, y_val_dum))\n",
    "y_hat = grid_search_dum.predict(X_test_dum)"
   ]
  },
  {
   "cell_type": "code",
   "execution_count": 31,
   "metadata": {},
   "outputs": [
    {
     "name": "stdout",
     "output_type": "stream",
     "text": [
      "Model Performance metrics:\n",
      "------------------------------\n",
      "Accuracy: 0.7411635125663363\n",
      "Precision: 0.7413827655310621\n",
      "Recall: 0.9994596785087126\n",
      "F1 Score: 0.8512914916872807\n",
      "\n",
      "Model Classification report:\n",
      "------------------------------\n",
      "              precision    recall  f1-score   support\n",
      "\n",
      "           0       0.74      1.00      0.85      7403\n",
      "           1       0.43      0.00      0.00      2584\n",
      "\n",
      "    accuracy                           0.74      9987\n",
      "   macro avg       0.58      0.50      0.43      9987\n",
      "weighted avg       0.66      0.74      0.63      9987\n",
      "\n",
      "\n",
      "Prediction Confusion Matrix:\n",
      "------------------------------\n",
      "      0  1\n",
      "0  7399  4\n",
      "1  2581  3\n"
     ]
    },
    {
     "data": {
      "image/png": "[encoded data removed]",
      "text/plain": [
       "<Figure size 1000x500 with 1 Axes>"
      ]
     },
     "metadata": {},
     "output_type": "display_data"
    },
    {
     "data": {
      "text/plain": [
       "0.6198932666407101"
      ]
     },
     "execution_count": 31,
     "metadata": {},
     "output_type": "execute_result"
    }
   ],
   "source": [
    "accuracy = evaluation.get_performance(y_hat, y_test_dum)\n",
    "evaluation.plot_roc(grid_search_dum, y_test_dum, X_test_dum)"
   ]
  },
  {
   "cell_type": "code",
   "execution_count": 32,
   "metadata": {},
   "outputs": [
    {
     "name": "stdout",
     "output_type": "stream",
     "text": [
      "Best Parameters encoder:  {'C': 0.01}\n",
      "Best Score: encoder  0.7371226623472242\n"
     ]
    }
   ],
   "source": [
    "grid_search_enc = GridSearchCV(model_lr, param_grid, cv=5) # create a grid search object for encoder\n",
    "grid_search_enc.fit(X_train_enc, y_train_enc) # fit the grid search object to the data (encoder)\n",
    "\n",
    "# print the best parameters and score\n",
    "print(\"Best Parameters encoder: \", grid_search_enc.best_params_)\n",
    "print(\"Best Score: encoder \", grid_search_enc.best_score_)"
   ]
  },
  {
   "cell_type": "code",
   "execution_count": 33,
   "metadata": {},
   "outputs": [
    {
     "name": "stdout",
     "output_type": "stream",
     "text": [
      "model score: 0.747\n"
     ]
    }
   ],
   "source": [
    "\n",
    "print(\"model score: %.3f\" % grid_search_enc.score(X_val_enc, y_val_enc))\n",
    "y_hat = grid_search_enc.predict(X_test_enc)"
   ]
  },
  {
   "cell_type": "code",
   "execution_count": 34,
   "metadata": {},
   "outputs": [
    {
     "name": "stdout",
     "output_type": "stream",
     "text": [
      "Model Performance metrics:\n",
      "------------------------------\n",
      "Accuracy: 0.7412636427355562\n",
      "Precision: 0.7414570598256338\n",
      "Recall: 0.9994596785087126\n",
      "F1 Score: 0.8513404671499252\n",
      "\n",
      "Model Classification report:\n",
      "------------------------------\n",
      "              precision    recall  f1-score   support\n",
      "\n",
      "           0       0.74      1.00      0.85      7403\n",
      "           1       0.50      0.00      0.00      2584\n",
      "\n",
      "    accuracy                           0.74      9987\n",
      "   macro avg       0.62      0.50      0.43      9987\n",
      "weighted avg       0.68      0.74      0.63      9987\n",
      "\n",
      "\n",
      "Prediction Confusion Matrix:\n",
      "------------------------------\n",
      "      0  1\n",
      "0  7399  4\n",
      "1  2580  4\n"
     ]
    },
    {
     "data": {
      "image/png": "[encoded data removed]",
      "text/plain": [
       "<Figure size 1000x500 with 1 Axes>"
      ]
     },
     "metadata": {},
     "output_type": "display_data"
    },
    {
     "data": {
      "text/plain": [
       "0.6161867113951376"
      ]
     },
     "execution_count": 34,
     "metadata": {},
     "output_type": "execute_result"
    }
   ],
   "source": [
    "accuracy = evaluation.get_performance(y_hat, y_test_enc)\n",
    "evaluation.plot_roc(grid_search_enc, y_test_enc, X_test_enc)"
   ]
  }
 ],
 "metadata": {
  "kernelspec": {
   "display_name": "final",
   "language": "python",
   "name": "python3"
  },
  "language_info": {
   "codemirror_mode": {
    "name": "ipython",
    "version": 3
   },
   "file_extension": ".py",
   "mimetype": "text/x-python",
   "name": "python",
   "nbconvert_exporter": "python",
   "pygments_lexer": "ipython3",
   "version": "3.11.4"
  },
  "orig_nbformat": 4
 },
 "nbformat": 4,
 "nbformat_minor": 2
}
