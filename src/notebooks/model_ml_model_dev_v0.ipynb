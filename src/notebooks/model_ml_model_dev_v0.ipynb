{
 "cells": [
  {
   "cell_type": "markdown",
   "metadata": {},
   "source": [
    "# Credit Risk Analysis"
   ]
  },
  {
   "cell_type": "markdown",
   "metadata": {},
   "source": [
    "## Import packages"
   ]
  },
  {
   "cell_type": "markdown",
   "metadata": {},
   "source": [
    "1. `sys`: System-specific parameters and functions.\n",
    "2. `reload` (from `imp`): Reload previously imported modules.\n",
    "3. `matplotlib.pyplot`: Data visualization.\n",
    "4. `numpy`: Numerical computing.\n",
    "5. `pandas`: Data manipulation and analysis.\n",
    "6. `seaborn`: Statistical data visualization.\n",
    "7. `SimpleImputer` (from `sklearn.impute`): Handling missing data.\n",
    "8. `LogisticRegression` (from `sklearn.linear_model`): Logistic regression for classification."
   ]
  },
  {
   "cell_type": "code",
   "execution_count": null,
   "metadata": {},
   "outputs": [],
   "source": [
    "import sys\n",
    "\n",
    "sys.path.append(\"..\")\n",
    "\n",
    "from imp import reload\n",
    "\n",
    "import matplotlib.pyplot as plt\n",
    "import numpy as np\n",
    "import pandas as pd\n",
    "import seaborn as sns\n",
    "from sklearn.impute import SimpleImputer\n",
    "from sklearn.linear_model import LogisticRegression\n",
    "\n",
    "from helper_functions import config, data_utils, evaluation, plot, preprocessing"
   ]
  },
  {
   "cell_type": "code",
   "execution_count": null,
   "metadata": {},
   "outputs": [],
   "source": [
    "# Ignore warnings\n",
    "import warnings\n",
    "warnings.filterwarnings('ignore', category = FutureWarning)"
   ]
  }
 ],
 "metadata": {
  "language_info": {
   "name": "python"
  },
  "orig_nbformat": 4
 },
 "nbformat": 4,
 "nbformat_minor": 2
}
