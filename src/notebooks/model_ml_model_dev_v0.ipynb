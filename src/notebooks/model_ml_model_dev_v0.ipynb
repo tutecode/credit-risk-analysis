{
 "cells": [
  {
   "cell_type": "markdown",
   "metadata": {},
   "source": [
    "# Credit Risk Analysis"
   ]
  },
  {
   "cell_type": "markdown",
   "metadata": {},
   "source": [
    "## Import packages"
   ]
  },
  {
   "cell_type": "markdown",
   "metadata": {},
   "source": [
    "1. `sys`: System-specific parameters and functions.\n",
    "2. `reload` (from `imp`): Reload previously imported modules.\n",
    "3. `matplotlib.pyplot`: Data visualization.\n",
    "4. `numpy`: Numerical computing.\n",
    "5. `pandas`: Data manipulation and analysis.\n",
    "6. `seaborn`: Statistical data visualization.\n",
    "7. `SimpleImputer` (from `sklearn.impute`): Handling missing data.\n",
    "8. `LogisticRegression` (from `sklearn.linear_model`): Logistic regression for classification."
   ]
  },
  {
   "cell_type": "code",
   "execution_count": 10,
   "metadata": {},
   "outputs": [],
   "source": [
    "import sys\n",
    "\n",
    "sys.path.append(\"..\")\n",
    "\n",
    "from imp import reload\n",
    "\n",
    "import numpy as np\n",
    "import pandas as pd\n",
    "from sklearn.linear_model import LogisticRegression\n",
    "\n",
    "from helper_functions import config, data_utils, evaluation, plot, preprocessing\n",
    "\n",
    "\n",
    "# import lightgbm as lgb\n",
    "from sklearn.model_selection import RandomizedSearchCV\n",
    "from sklearn.model_selection import cross_val_score\n",
    "from sklearn.tree import DecisionTreeClassifier\n",
    "from sklearn.metrics import classification_report\n",
    "import matplotlib.pyplot as plt\n",
    "from sklearn.feature_selection import RFE\n",
    "from sklearn.model_selection import GridSearchCV\n",
    "\n",
    "# from src import config, data_utils, evaluation, plot\n",
    "\n",
    "# Ignore warnings\n",
    "import warnings\n",
    "warnings.filterwarnings('ignore', category = FutureWarning)"
   ]
  },
  {
   "cell_type": "markdown",
   "metadata": {},
   "source": [
    "## Load normalized data set\n"
   ]
  },
  {
   "cell_type": "markdown",
   "metadata": {},
   "source": [
    "In this notebook, we are going to encode a previously normalized `dataset` followed by the creation of the `ML` model."
   ]
  },
  {
   "cell_type": "code",
   "execution_count": 11,
   "metadata": {},
   "outputs": [],
   "source": [
    "app_normalized = data_utils.get_normalized_model()\n",
    "app_normalized['TARGET_LABEL_BAD=1'] = app_normalized.pop('TARGET_LABEL_BAD=1')\n",
    "app_normalized = preprocessing.categorical_columns(app_normalized)"
   ]
  },
  {
   "cell_type": "code",
   "execution_count": 12,
   "metadata": {},
   "outputs": [
    {
     "data": {
      "text/html": [
       "<div>\n",
       "<style scoped>\n",
       "    .dataframe tbody tr th:only-of-type {\n",
       "        vertical-align: middle;\n",
       "    }\n",
       "\n",
       "    .dataframe tbody tr th {\n",
       "        vertical-align: top;\n",
       "    }\n",
       "\n",
       "    .dataframe thead th {\n",
       "        text-align: right;\n",
       "    }\n",
       "</style>\n",
       "<table border=\"1\" class=\"dataframe\">\n",
       "  <thead>\n",
       "    <tr style=\"text-align: right;\">\n",
       "      <th></th>\n",
       "      <th>PAYMENT_DAY</th>\n",
       "      <th>APPLICATION_SUBMISSION_TYPE</th>\n",
       "      <th>SEX</th>\n",
       "      <th>MARITAL_STATUS</th>\n",
       "      <th>QUANT_DEPENDANTS</th>\n",
       "      <th>RESIDENCIAL_STATE</th>\n",
       "      <th>FLAG_RESIDENCIAL_PHONE</th>\n",
       "      <th>MONTHS_IN_RESIDENCE</th>\n",
       "      <th>FLAG_EMAIL</th>\n",
       "      <th>COMPANY</th>\n",
       "      <th>...</th>\n",
       "      <th>PRODUCT</th>\n",
       "      <th>AGE</th>\n",
       "      <th>HAS_DEPENDANTS</th>\n",
       "      <th>HAS_RESIDENCE</th>\n",
       "      <th>MONTHLY_INCOMES_TOT</th>\n",
       "      <th>HAS_CARDS</th>\n",
       "      <th>HAS_BANKING_ACCOUNTS</th>\n",
       "      <th>HAS_PERSONAL_ASSETS</th>\n",
       "      <th>HAS_CARS</th>\n",
       "      <th>TARGET_LABEL_BAD=1</th>\n",
       "    </tr>\n",
       "  </thead>\n",
       "  <tbody>\n",
       "    <tr>\n",
       "      <th>0</th>\n",
       "      <td>1_14</td>\n",
       "      <td>Web</td>\n",
       "      <td>F</td>\n",
       "      <td>other</td>\n",
       "      <td>1</td>\n",
       "      <td>RN</td>\n",
       "      <td>Y</td>\n",
       "      <td>&gt;_12</td>\n",
       "      <td>1</td>\n",
       "      <td>N</td>\n",
       "      <td>...</td>\n",
       "      <td>1</td>\n",
       "      <td>26_35</td>\n",
       "      <td>True</td>\n",
       "      <td>True</td>\n",
       "      <td>[650_1320]</td>\n",
       "      <td>True</td>\n",
       "      <td>False</td>\n",
       "      <td>False</td>\n",
       "      <td>False</td>\n",
       "      <td>1</td>\n",
       "    </tr>\n",
       "    <tr>\n",
       "      <th>1</th>\n",
       "      <td>15_30</td>\n",
       "      <td>Carga</td>\n",
       "      <td>F</td>\n",
       "      <td>married</td>\n",
       "      <td>0</td>\n",
       "      <td>RJ</td>\n",
       "      <td>Y</td>\n",
       "      <td>0_6</td>\n",
       "      <td>1</td>\n",
       "      <td>Y</td>\n",
       "      <td>...</td>\n",
       "      <td>1</td>\n",
       "      <td>26_35</td>\n",
       "      <td>False</td>\n",
       "      <td>True</td>\n",
       "      <td>[650_1320]</td>\n",
       "      <td>False</td>\n",
       "      <td>False</td>\n",
       "      <td>False</td>\n",
       "      <td>False</td>\n",
       "      <td>1</td>\n",
       "    </tr>\n",
       "    <tr>\n",
       "      <th>2</th>\n",
       "      <td>1_14</td>\n",
       "      <td>Web</td>\n",
       "      <td>F</td>\n",
       "      <td>married</td>\n",
       "      <td>0</td>\n",
       "      <td>RN</td>\n",
       "      <td>Y</td>\n",
       "      <td>&gt;_12</td>\n",
       "      <td>1</td>\n",
       "      <td>N</td>\n",
       "      <td>...</td>\n",
       "      <td>1</td>\n",
       "      <td>26_35</td>\n",
       "      <td>False</td>\n",
       "      <td>True</td>\n",
       "      <td>[0_650]</td>\n",
       "      <td>False</td>\n",
       "      <td>False</td>\n",
       "      <td>False</td>\n",
       "      <td>False</td>\n",
       "      <td>0</td>\n",
       "    </tr>\n",
       "    <tr>\n",
       "      <th>3</th>\n",
       "      <td>15_30</td>\n",
       "      <td>Web</td>\n",
       "      <td>F</td>\n",
       "      <td>married</td>\n",
       "      <td>0</td>\n",
       "      <td>PE</td>\n",
       "      <td>N</td>\n",
       "      <td>&gt;_12</td>\n",
       "      <td>1</td>\n",
       "      <td>N</td>\n",
       "      <td>...</td>\n",
       "      <td>1</td>\n",
       "      <td>&gt;_60</td>\n",
       "      <td>False</td>\n",
       "      <td>False</td>\n",
       "      <td>[0_650]</td>\n",
       "      <td>False</td>\n",
       "      <td>False</td>\n",
       "      <td>False</td>\n",
       "      <td>False</td>\n",
       "      <td>0</td>\n",
       "    </tr>\n",
       "    <tr>\n",
       "      <th>4</th>\n",
       "      <td>1_14</td>\n",
       "      <td>Web</td>\n",
       "      <td>M</td>\n",
       "      <td>married</td>\n",
       "      <td>0</td>\n",
       "      <td>RJ</td>\n",
       "      <td>Y</td>\n",
       "      <td>6_12</td>\n",
       "      <td>1</td>\n",
       "      <td>N</td>\n",
       "      <td>...</td>\n",
       "      <td>1</td>\n",
       "      <td>46_60</td>\n",
       "      <td>False</td>\n",
       "      <td>True</td>\n",
       "      <td>[650_1320]</td>\n",
       "      <td>False</td>\n",
       "      <td>False</td>\n",
       "      <td>False</td>\n",
       "      <td>False</td>\n",
       "      <td>1</td>\n",
       "    </tr>\n",
       "  </tbody>\n",
       "</table>\n",
       "<p>5 rows × 21 columns</p>\n",
       "</div>"
      ],
      "text/plain": [
       "  PAYMENT_DAY APPLICATION_SUBMISSION_TYPE SEX MARITAL_STATUS QUANT_DEPENDANTS  \\\n",
       "0        1_14                         Web   F          other                1   \n",
       "1       15_30                       Carga   F        married                0   \n",
       "2        1_14                         Web   F        married                0   \n",
       "3       15_30                         Web   F        married                0   \n",
       "4        1_14                         Web   M        married                0   \n",
       "\n",
       "  RESIDENCIAL_STATE FLAG_RESIDENCIAL_PHONE MONTHS_IN_RESIDENCE FLAG_EMAIL  \\\n",
       "0                RN                      Y                >_12          1   \n",
       "1                RJ                      Y                 0_6          1   \n",
       "2                RN                      Y                >_12          1   \n",
       "3                PE                      N                >_12          1   \n",
       "4                RJ                      Y                6_12          1   \n",
       "\n",
       "  COMPANY  ... PRODUCT    AGE HAS_DEPENDANTS  HAS_RESIDENCE  \\\n",
       "0       N  ...       1  26_35           True           True   \n",
       "1       Y  ...       1  26_35          False           True   \n",
       "2       N  ...       1  26_35          False           True   \n",
       "3       N  ...       1   >_60          False          False   \n",
       "4       N  ...       1  46_60          False           True   \n",
       "\n",
       "   MONTHLY_INCOMES_TOT HAS_CARDS  HAS_BANKING_ACCOUNTS  HAS_PERSONAL_ASSETS  \\\n",
       "0           [650_1320]      True                 False                False   \n",
       "1           [650_1320]     False                 False                False   \n",
       "2              [0_650]     False                 False                False   \n",
       "3              [0_650]     False                 False                False   \n",
       "4           [650_1320]     False                 False                False   \n",
       "\n",
       "   HAS_CARS  TARGET_LABEL_BAD=1  \n",
       "0     False                   1  \n",
       "1     False                   1  \n",
       "2     False                   0  \n",
       "3     False                   0  \n",
       "4     False                   1  \n",
       "\n",
       "[5 rows x 21 columns]"
      ]
     },
     "execution_count": 12,
     "metadata": {},
     "output_type": "execute_result"
    }
   ],
   "source": [
    "app_normalized.head()"
   ]
  },
  {
   "cell_type": "code",
   "execution_count": 13,
   "metadata": {},
   "outputs": [
    {
     "name": "stdout",
     "output_type": "stream",
     "text": [
      "<class 'pandas.core.frame.DataFrame'>\n",
      "RangeIndex: 49935 entries, 0 to 49934\n",
      "Data columns (total 21 columns):\n",
      " #   Column                       Non-Null Count  Dtype   \n",
      "---  ------                       --------------  -----   \n",
      " 0   PAYMENT_DAY                  49935 non-null  category\n",
      " 1   APPLICATION_SUBMISSION_TYPE  49935 non-null  category\n",
      " 2   SEX                          49935 non-null  category\n",
      " 3   MARITAL_STATUS               49935 non-null  category\n",
      " 4   QUANT_DEPENDANTS             49935 non-null  category\n",
      " 5   RESIDENCIAL_STATE            49935 non-null  category\n",
      " 6   FLAG_RESIDENCIAL_PHONE       49935 non-null  category\n",
      " 7   MONTHS_IN_RESIDENCE          49935 non-null  category\n",
      " 8   FLAG_EMAIL                   49935 non-null  category\n",
      " 9   COMPANY                      49935 non-null  category\n",
      " 10  FLAG_PROFESSIONAL_PHONE      49935 non-null  category\n",
      " 11  PRODUCT                      49935 non-null  category\n",
      " 12  AGE                          49935 non-null  category\n",
      " 13  HAS_DEPENDANTS               49935 non-null  bool    \n",
      " 14  HAS_RESIDENCE                49935 non-null  bool    \n",
      " 15  MONTHLY_INCOMES_TOT          49935 non-null  category\n",
      " 16  HAS_CARDS                    49935 non-null  bool    \n",
      " 17  HAS_BANKING_ACCOUNTS         49935 non-null  bool    \n",
      " 18  HAS_PERSONAL_ASSETS          49935 non-null  bool    \n",
      " 19  HAS_CARS                     49935 non-null  bool    \n",
      " 20  TARGET_LABEL_BAD=1           49935 non-null  category\n",
      "dtypes: bool(6), category(15)\n",
      "memory usage: 1.0 MB\n",
      "None\n"
     ]
    }
   ],
   "source": [
    "print(app_normalized.info())"
   ]
  },
  {
   "cell_type": "markdown",
   "metadata": {},
   "source": [
    "### Encoding"
   ]
  },
  {
   "cell_type": "markdown",
   "metadata": {},
   "source": [
    "- We do the encoding process for....\n",
    "\n",
    "- Some of the encoding techniques offered by category_encoders are:\n",
    "    - `One-Hot Encoding:` Encoding using the One-Hot Encoding method.\n",
    "    - `Ordinal Encoding:` Ordinal encoding, where ordinal labels are assigned to categories.\n",
    "    - `Binary Encoding:` Base-2 encoding to reduce dimensionality in categorical variables with multiple categories.\n",
    "    - `BaseN Encoding:` Base-N encoding to reduce dimensionality in categorical variables with multiple categories.\n",
    "    - `Target Encoding:` Encoding using the target variable to assign values to categories.\n",
    "    - `CatBoost Encoding:` Specific encoding for working with the CatBoost algorithm."
   ]
  },
  {
   "cell_type": "code",
   "execution_count": 14,
   "metadata": {},
   "outputs": [],
   "source": [
    "# app_dum = preprocessing.encoding(app_normalized, True) # True for pandas get_dummies\n",
    "app_enc = preprocessing.encoding(app_normalized, False) # False for different encoder"
   ]
  },
  {
   "cell_type": "code",
   "execution_count": 15,
   "metadata": {},
   "outputs": [
    {
     "name": "stdout",
     "output_type": "stream",
     "text": [
      "Best Score for Logistic Regression:  0.5847163868847595\n",
      "model score for Logistic Regression: 0.578\n",
      "\n",
      "\n",
      "Model Performance metrics:\n",
      "------------------------------\n",
      "Accuracy: 0.5772504255532191\n",
      "Precision: 0.8041690571811054\n",
      "Recall: 0.5680129677157909\n",
      "F1 Score: 0.665769474350855\n",
      "\n",
      "Model Classification report:\n",
      "------------------------------\n",
      "              precision    recall  f1-score   support\n",
      "\n",
      "           0       0.80      0.57      0.67      7403\n",
      "           1       0.33      0.60      0.42      2584\n",
      "\n",
      "    accuracy                           0.58      9987\n",
      "   macro avg       0.57      0.59      0.55      9987\n",
      "weighted avg       0.68      0.58      0.60      9987\n",
      "\n",
      "\n",
      "Prediction Confusion Matrix:\n",
      "------------------------------\n",
      "      0     1\n",
      "0  4205  3198\n",
      "1  1024  1560\n"
     ]
    },
    {
     "data": {
      "image/png": "[encoded data removed]",
      "text/plain": [
       "<Figure size 1000x500 with 1 Axes>"
      ]
     },
     "metadata": {},
     "output_type": "display_data"
    },
    {
     "name": "stdout",
     "output_type": "stream",
     "text": [
      "Best Score for Logistic Regression:  0.5847163868847595\n"
     ]
    }
   ],
   "source": [
    "# using get_dummies\n",
    "lr_model_enc = preprocessing.model_logistic_regression(app_enc, False)"
   ]
  },
  {
   "cell_type": "markdown",
   "metadata": {},
   "source": []
  },
  {
   "cell_type": "markdown",
   "metadata": {},
   "source": []
  },
  {
   "cell_type": "markdown",
   "metadata": {},
   "source": []
  },
  {
   "cell_type": "markdown",
   "metadata": {},
   "source": []
  },
  {
   "cell_type": "markdown",
   "metadata": {},
   "source": []
  },
  {
   "cell_type": "markdown",
   "metadata": {},
   "source": []
  },
  {
   "cell_type": "markdown",
   "metadata": {},
   "source": []
  },
  {
   "cell_type": "markdown",
   "metadata": {},
   "source": []
  },
  {
   "cell_type": "markdown",
   "metadata": {},
   "source": []
  },
  {
   "cell_type": "markdown",
   "metadata": {},
   "source": []
  },
  {
   "cell_type": "markdown",
   "metadata": {},
   "source": []
  },
  {
   "cell_type": "markdown",
   "metadata": {},
   "source": []
  },
  {
   "cell_type": "markdown",
   "metadata": {},
   "source": []
  },
  {
   "cell_type": "markdown",
   "metadata": {},
   "source": []
  },
  {
   "cell_type": "markdown",
   "metadata": {},
   "source": []
  },
  {
   "cell_type": "markdown",
   "metadata": {},
   "source": []
  },
  {
   "cell_type": "markdown",
   "metadata": {},
   "source": [
    "### Comparing different models"
   ]
  },
  {
   "cell_type": "code",
   "execution_count": 19,
   "metadata": {},
   "outputs": [
    {
     "name": "stdout",
     "output_type": "stream",
     "text": [
      "                    Model       MSE        R²\n",
      "0       Linear Regression  0.240133 -0.252051\n",
      "1     Logistic Regression  0.421748 -1.198989\n",
      "2     KNeighborsRegressor  0.234633 -0.223373\n",
      "3    Gaussian Naive Bayes  0.471613 -1.458984\n",
      "4  Multi Layer Perceptron  0.269653 -0.405969\n",
      "5                CatBoost  0.188119  0.019150\n",
      "6        Ridge Regression  0.240129 -0.252027\n",
      "7        LASSO Regression  0.250000 -0.303496\n",
      "8          Decission Tree  0.459692 -1.396825\n",
      "9           Random Forest  0.268609 -0.400522\n"
     ]
    }
   ],
   "source": [
    "reload(preprocessing)\n",
    "preprocessing.basic_models(app_enc)"
   ]
  },
  {
   "cell_type": "markdown",
   "metadata": {},
   "source": [
    "#### MSE VS R²\n",
    "- The MSE is a metric that measures the average of squared errors between predictions and actual values. In this case, for example: the value of 0.24 indicates that the linear regression model has a relatively low mean squared error, suggesting that the predictions are quite close to the actual values on average.\n",
    "\n",
    "- R² is a metric that indicates the proportion of variance in the response variable that is predictable from the predictor variables. A negative value of R² means that the model does not fit the data well and the regression line does not fit the data points well."
   ]
  }
 ],
 "metadata": {
  "kernelspec": {
   "display_name": "final",
   "language": "python",
   "name": "python3"
  },
  "language_info": {
   "codemirror_mode": {
    "name": "ipython",
    "version": 3
   },
   "file_extension": ".py",
   "mimetype": "text/x-python",
   "name": "python",
   "nbconvert_exporter": "python",
   "pygments_lexer": "ipython3",
   "version": "3.11.4"
  },
  "orig_nbformat": 4
 },
 "nbformat": 4,
 "nbformat_minor": 2
}
