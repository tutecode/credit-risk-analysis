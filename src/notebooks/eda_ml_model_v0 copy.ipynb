{
 "cells": [
  {
   "cell_type": "markdown",
   "metadata": {},
   "source": [
    "# Credit Risk Analysis"
   ]
  },
  {
   "cell_type": "markdown",
   "metadata": {},
   "source": [
    "### NECESSARY IMPORTS"
   ]
  },
  {
   "cell_type": "code",
   "execution_count": 24,
   "metadata": {},
   "outputs": [],
   "source": [
    "import sys\n",
    "sys.path.append('..')\n",
    "# from dotenv import load_dotenv #for env variables\n",
    "from imp import reload #for testing\n",
    "from sklearn.impute import SimpleImputer\n",
    "from helper_functions import data_utils, config, evaluation\n",
    "from sklearn.linear_model import LogisticRegression\n",
    "from sklearn.feature_selection import SelectKBest\n",
    "from sklearn.feature_selection import chi2\n",
    "from sklearn.feature_selection import SelectPercentile, chi2\n",
    "import pandas as pd\n",
    "import numpy as np\n",
    "import matplotlib.pyplot as plt\n",
    "import seaborn as sns\n",
    "import pickle\n",
    "#%matplotlib inline"
   ]
  },
  {
   "cell_type": "markdown",
   "metadata": {},
   "source": [
    "## Modeling"
   ]
  },
  {
   "cell_type": "code",
   "execution_count": 4,
   "metadata": {},
   "outputs": [
    {
     "data": {
      "text/plain": [
       "<module 'helper_functions.data_utils' from '/home/chris/Learning-2023/anyoneai_dir/endproj/credit-risk-analysis_chris/src/notebooks/../helper_functions/data_utils.py'>"
      ]
     },
     "execution_count": 4,
     "metadata": {},
     "output_type": "execute_result"
    }
   ],
   "source": [
    "reload(data_utils)"
   ]
  },
  {
   "cell_type": "code",
   "execution_count": 5,
   "metadata": {},
   "outputs": [
    {
     "name": "stdout",
     "output_type": "stream",
     "text": [
      "The file has been loaded: ../../dataset/clean_data.csv\n"
     ]
    }
   ],
   "source": [
    "app_train_cop = data_utils.cvs_df(\"../../dataset/\",\"clean_data.csv\")"
   ]
  },
  {
   "cell_type": "code",
   "execution_count": 6,
   "metadata": {},
   "outputs": [],
   "source": [
    "# order target at the final of dataset\n",
    "current_cols_train = app_train_cop.columns.to_list()\n",
    "idx_target = app_train_cop.columns.to_list().index(\"TARGET_LABEL_BAD=1\")\n",
    "if(app_train_cop.iloc[:,-1:].columns[0] != app_train_cop.iloc[:,idx_target:].columns[0]):\n",
    "    features_cols = current_cols_train[:idx_target] + current_cols_train[idx_target+1:] + [current_cols_train[idx_target]]\n",
    "    #crear un nuevo df\n",
    "    app_train_cop = app_train_cop[features_cols]\n",
    "else:\n",
    "    print(\"Target is the last column\")"
   ]
  },
  {
   "cell_type": "markdown",
   "metadata": {},
   "source": [
    "## Normalization, Impute, Encoding"
   ]
  },
  {
   "cell_type": "markdown",
   "metadata": {},
   "source": [
    "#### Split and Normalization, Impute, Encoding"
   ]
  },
  {
   "cell_type": "code",
   "execution_count": 7,
   "metadata": {},
   "outputs": [
    {
     "data": {
      "text/plain": [
       "<module 'helper_functions.evaluation' from '/home/chris/Learning-2023/anyoneai_dir/endproj/credit-risk-analysis_chris/src/notebooks/../helper_functions/evaluation.py'>"
      ]
     },
     "execution_count": 7,
     "metadata": {},
     "output_type": "execute_result"
    }
   ],
   "source": [
    "reload(data_utils)\n",
    "reload(config)\n",
    "reload(evaluation)"
   ]
  },
  {
   "cell_type": "code",
   "execution_count": 8,
   "metadata": {},
   "outputs": [
    {
     "data": {
      "text/plain": [
       "array([1, 0])"
      ]
     },
     "execution_count": 8,
     "metadata": {},
     "output_type": "execute_result"
    }
   ],
   "source": [
    "app_train_cop[\"TARGET_LABEL_BAD=1\"].unique()"
   ]
  },
  {
   "cell_type": "code",
   "execution_count": 9,
   "metadata": {},
   "outputs": [],
   "source": [
    "# first split in sets\n",
    "app_train_set, app_val_set, app_test_set = data_utils.get_feature_in_set(app_train_cop)"
   ]
  },
  {
   "cell_type": "code",
   "execution_count": 10,
   "metadata": {},
   "outputs": [
    {
     "name": "stdout",
     "output_type": "stream",
     "text": [
      "Input train data shape:  (35953, 20)\n",
      "Input val data shape:  (3995, 20)\n",
      "Input test data shape:  (9987, 20) \n",
      "\n",
      "bool_cols:  Index(['FLAG_RESIDENCIAL_PHONE', 'FLAG_EMAIL', 'COMPANY',\n",
      "       'FLAG_PROFESSIONAL_PHONE', 'HAS_DEPENDANTS', 'HAS_RESIDENCE',\n",
      "       'HAS_CARDS', 'HAS_BANKING_ACCOUNTS', 'HAS_PERSONAL_ASSETS', 'HAS_CARS'],\n",
      "      dtype='object')\n",
      "['PAYMENT_DAY', 'APPLICATION_SUBMISSION_TYPE', 'SEX', 'MARITAL_STATUS', 'RESIDENCIAL_STATE', 'PRODUCT']\n",
      "['AGE', 'MONTHLY_INCOMES_TOT', 'MONTHS_IN_RESIDENCE']\n"
     ]
    }
   ],
   "source": [
    "# second apply preprocess in sets\n",
    "train_prep, val_prep, test_prep,new_columns_name = data_utils.preprocess_data(app_train_set,app_val_set,app_test_set)"
   ]
  },
  {
   "cell_type": "code",
   "execution_count": 11,
   "metadata": {},
   "outputs": [
    {
     "data": {
      "text/plain": [
       "(35953, 63)"
      ]
     },
     "execution_count": 11,
     "metadata": {},
     "output_type": "execute_result"
    }
   ],
   "source": [
    "train_prep.shape"
   ]
  },
  {
   "cell_type": "code",
   "execution_count": 12,
   "metadata": {},
   "outputs": [],
   "source": [
    "# third split features and target \n",
    "X_train, y_train, X_val, y_val, X_test,y_test = data_utils.get_feature_target(train_prep, val_prep, test_prep)"
   ]
  },
  {
   "cell_type": "code",
   "execution_count": 39,
   "metadata": {},
   "outputs": [],
   "source": [
    "newcolname_fixed = []\n",
    "for col in new_columns_name:\n",
    "    newcolname_fixed.append(col[19:])"
   ]
  },
  {
   "cell_type": "code",
   "execution_count": 40,
   "metadata": {},
   "outputs": [
    {
     "data": {
      "text/plain": [
       "['FLAG_RESIDENCIAL_PHONE_False',\n",
       " 'FLAG_RESIDENCIAL_PHONE_True',\n",
       " 'FLAG_EMAIL_False',\n",
       " 'FLAG_EMAIL_True',\n",
       " 'COMPANY_False',\n",
       " 'COMPANY_True',\n",
       " 'FLAG_PROFESSIONAL_PHONE_False',\n",
       " 'FLAG_PROFESSIONAL_PHONE_True',\n",
       " 'HAS_DEPENDANTS_False',\n",
       " 'HAS_DEPENDANTS_True',\n",
       " 'HAS_RESIDENCE_False',\n",
       " 'HAS_RESIDENCE_True',\n",
       " 'HAS_CARDS_False',\n",
       " 'HAS_CARDS_True',\n",
       " 'HAS_BANKING_ACCOUNTS_False',\n",
       " 'HAS_BANKING_ACCOUNTS_True',\n",
       " 'HAS_PERSONAL_ASSETS_False',\n",
       " 'HAS_PERSONAL_ASSETS_True',\n",
       " 'HAS_CARS_False',\n",
       " 'HAS_CARS_True',\n",
       " 'PAYMENT_DAY_1 - 14',\n",
       " 'PAYMENT_DAY_15 - 30',\n",
       " 'APPLICATION_SUBMISSION_TYPE_Carga',\n",
       " 'APPLICATION_SUBMISSION_TYPE_Web',\n",
       " 'SEX_F',\n",
       " 'SEX_M',\n",
       " 'MARITAL_STATUS_married',\n",
       " 'MARITAL_STATUS_other',\n",
       " 'MARITAL_STATUS_single',\n",
       " 'RESIDENCIAL_STATE_AC',\n",
       " 'RESIDENCIAL_STATE_AL',\n",
       " 'RESIDENCIAL_STATE_AM',\n",
       " 'RESIDENCIAL_STATE_AP',\n",
       " 'RESIDENCIAL_STATE_BA',\n",
       " 'RESIDENCIAL_STATE_CE',\n",
       " 'RESIDENCIAL_STATE_DF',\n",
       " 'RESIDENCIAL_STATE_ES',\n",
       " 'RESIDENCIAL_STATE_GO',\n",
       " 'RESIDENCIAL_STATE_MA',\n",
       " 'RESIDENCIAL_STATE_MG',\n",
       " 'RESIDENCIAL_STATE_MS',\n",
       " 'RESIDENCIAL_STATE_MT',\n",
       " 'RESIDENCIAL_STATE_PA',\n",
       " 'RESIDENCIAL_STATE_PB',\n",
       " 'RESIDENCIAL_STATE_PE',\n",
       " 'RESIDENCIAL_STATE_PI',\n",
       " 'RESIDENCIAL_STATE_PR',\n",
       " 'RESIDENCIAL_STATE_RJ',\n",
       " 'RESIDENCIAL_STATE_RN',\n",
       " 'RESIDENCIAL_STATE_RO',\n",
       " 'RESIDENCIAL_STATE_RR',\n",
       " 'RESIDENCIAL_STATE_RS',\n",
       " 'RESIDENCIAL_STATE_SC',\n",
       " 'RESIDENCIAL_STATE_SE',\n",
       " 'RESIDENCIAL_STATE_SP',\n",
       " 'RESIDENCIAL_STATE_TO',\n",
       " 'PRODUCT_PR1',\n",
       " 'PRODUCT_PR2',\n",
       " 'PRODUCT_PR7',\n",
       " 'AGE',\n",
       " 'MONTHLY_INCOMES_TOT',\n",
       " 'MONTHS_IN_RESIDENCE',\n",
       " 'ABEL_BAD=1']"
      ]
     },
     "execution_count": 40,
     "metadata": {},
     "output_type": "execute_result"
    }
   ],
   "source": [
    "newcolname_fixed"
   ]
  },
  {
   "cell_type": "code",
   "execution_count": 49,
   "metadata": {},
   "outputs": [],
   "source": [
    "summary_df = pd.DataFrame(train_prep,columns=newcolname_fixed).T.iloc[40:,:6]"
   ]
  },
  {
   "cell_type": "code",
   "execution_count": 50,
   "metadata": {},
   "outputs": [
    {
     "data": {
      "text/html": [
       "<div>\n",
       "<style scoped>\n",
       "    .dataframe tbody tr th:only-of-type {\n",
       "        vertical-align: middle;\n",
       "    }\n",
       "\n",
       "    .dataframe tbody tr th {\n",
       "        vertical-align: top;\n",
       "    }\n",
       "\n",
       "    .dataframe thead th {\n",
       "        text-align: right;\n",
       "    }\n",
       "</style>\n",
       "<table border=\"1\" class=\"dataframe\">\n",
       "  <thead>\n",
       "    <tr style=\"text-align: right;\">\n",
       "      <th></th>\n",
       "      <th>0</th>\n",
       "      <th>1</th>\n",
       "      <th>2</th>\n",
       "      <th>3</th>\n",
       "      <th>4</th>\n",
       "      <th>5</th>\n",
       "    </tr>\n",
       "  </thead>\n",
       "  <tbody>\n",
       "    <tr>\n",
       "      <th>RESIDENCIAL_STATE_MS</th>\n",
       "      <td>0.0</td>\n",
       "      <td>0.0</td>\n",
       "      <td>0.0</td>\n",
       "      <td>0.0</td>\n",
       "      <td>0.0</td>\n",
       "      <td>0.0</td>\n",
       "    </tr>\n",
       "    <tr>\n",
       "      <th>RESIDENCIAL_STATE_MT</th>\n",
       "      <td>0.0</td>\n",
       "      <td>0.0</td>\n",
       "      <td>0.0</td>\n",
       "      <td>0.0</td>\n",
       "      <td>0.0</td>\n",
       "      <td>0.0</td>\n",
       "    </tr>\n",
       "    <tr>\n",
       "      <th>RESIDENCIAL_STATE_PA</th>\n",
       "      <td>0.0</td>\n",
       "      <td>0.0</td>\n",
       "      <td>0.0</td>\n",
       "      <td>0.0</td>\n",
       "      <td>0.0</td>\n",
       "      <td>0.0</td>\n",
       "    </tr>\n",
       "    <tr>\n",
       "      <th>RESIDENCIAL_STATE_PB</th>\n",
       "      <td>1.0</td>\n",
       "      <td>0.0</td>\n",
       "      <td>0.0</td>\n",
       "      <td>0.0</td>\n",
       "      <td>0.0</td>\n",
       "      <td>1.0</td>\n",
       "    </tr>\n",
       "    <tr>\n",
       "      <th>RESIDENCIAL_STATE_PE</th>\n",
       "      <td>0.0</td>\n",
       "      <td>0.0</td>\n",
       "      <td>0.0</td>\n",
       "      <td>1.0</td>\n",
       "      <td>0.0</td>\n",
       "      <td>0.0</td>\n",
       "    </tr>\n",
       "    <tr>\n",
       "      <th>RESIDENCIAL_STATE_PI</th>\n",
       "      <td>0.0</td>\n",
       "      <td>0.0</td>\n",
       "      <td>0.0</td>\n",
       "      <td>0.0</td>\n",
       "      <td>0.0</td>\n",
       "      <td>0.0</td>\n",
       "    </tr>\n",
       "    <tr>\n",
       "      <th>RESIDENCIAL_STATE_PR</th>\n",
       "      <td>0.0</td>\n",
       "      <td>0.0</td>\n",
       "      <td>1.0</td>\n",
       "      <td>0.0</td>\n",
       "      <td>0.0</td>\n",
       "      <td>0.0</td>\n",
       "    </tr>\n",
       "    <tr>\n",
       "      <th>RESIDENCIAL_STATE_RJ</th>\n",
       "      <td>0.0</td>\n",
       "      <td>0.0</td>\n",
       "      <td>0.0</td>\n",
       "      <td>0.0</td>\n",
       "      <td>0.0</td>\n",
       "      <td>0.0</td>\n",
       "    </tr>\n",
       "    <tr>\n",
       "      <th>RESIDENCIAL_STATE_RN</th>\n",
       "      <td>0.0</td>\n",
       "      <td>0.0</td>\n",
       "      <td>0.0</td>\n",
       "      <td>0.0</td>\n",
       "      <td>0.0</td>\n",
       "      <td>0.0</td>\n",
       "    </tr>\n",
       "    <tr>\n",
       "      <th>RESIDENCIAL_STATE_RO</th>\n",
       "      <td>0.0</td>\n",
       "      <td>0.0</td>\n",
       "      <td>0.0</td>\n",
       "      <td>0.0</td>\n",
       "      <td>0.0</td>\n",
       "      <td>0.0</td>\n",
       "    </tr>\n",
       "    <tr>\n",
       "      <th>RESIDENCIAL_STATE_RR</th>\n",
       "      <td>0.0</td>\n",
       "      <td>0.0</td>\n",
       "      <td>0.0</td>\n",
       "      <td>0.0</td>\n",
       "      <td>0.0</td>\n",
       "      <td>0.0</td>\n",
       "    </tr>\n",
       "    <tr>\n",
       "      <th>RESIDENCIAL_STATE_RS</th>\n",
       "      <td>0.0</td>\n",
       "      <td>0.0</td>\n",
       "      <td>0.0</td>\n",
       "      <td>0.0</td>\n",
       "      <td>0.0</td>\n",
       "      <td>0.0</td>\n",
       "    </tr>\n",
       "    <tr>\n",
       "      <th>RESIDENCIAL_STATE_SC</th>\n",
       "      <td>0.0</td>\n",
       "      <td>0.0</td>\n",
       "      <td>0.0</td>\n",
       "      <td>0.0</td>\n",
       "      <td>0.0</td>\n",
       "      <td>0.0</td>\n",
       "    </tr>\n",
       "    <tr>\n",
       "      <th>RESIDENCIAL_STATE_SE</th>\n",
       "      <td>0.0</td>\n",
       "      <td>0.0</td>\n",
       "      <td>0.0</td>\n",
       "      <td>0.0</td>\n",
       "      <td>0.0</td>\n",
       "      <td>0.0</td>\n",
       "    </tr>\n",
       "    <tr>\n",
       "      <th>RESIDENCIAL_STATE_SP</th>\n",
       "      <td>0.0</td>\n",
       "      <td>0.0</td>\n",
       "      <td>0.0</td>\n",
       "      <td>0.0</td>\n",
       "      <td>0.0</td>\n",
       "      <td>0.0</td>\n",
       "    </tr>\n",
       "    <tr>\n",
       "      <th>RESIDENCIAL_STATE_TO</th>\n",
       "      <td>0.0</td>\n",
       "      <td>0.0</td>\n",
       "      <td>0.0</td>\n",
       "      <td>0.0</td>\n",
       "      <td>0.0</td>\n",
       "      <td>0.0</td>\n",
       "    </tr>\n",
       "    <tr>\n",
       "      <th>PRODUCT_PR1</th>\n",
       "      <td>1.0</td>\n",
       "      <td>1.0</td>\n",
       "      <td>1.0</td>\n",
       "      <td>1.0</td>\n",
       "      <td>1.0</td>\n",
       "      <td>0.0</td>\n",
       "    </tr>\n",
       "    <tr>\n",
       "      <th>PRODUCT_PR2</th>\n",
       "      <td>0.0</td>\n",
       "      <td>0.0</td>\n",
       "      <td>0.0</td>\n",
       "      <td>0.0</td>\n",
       "      <td>0.0</td>\n",
       "      <td>1.0</td>\n",
       "    </tr>\n",
       "    <tr>\n",
       "      <th>PRODUCT_PR7</th>\n",
       "      <td>0.0</td>\n",
       "      <td>0.0</td>\n",
       "      <td>0.0</td>\n",
       "      <td>0.0</td>\n",
       "      <td>0.0</td>\n",
       "      <td>0.0</td>\n",
       "    </tr>\n",
       "    <tr>\n",
       "      <th>AGE</th>\n",
       "      <td>3.0</td>\n",
       "      <td>0.0</td>\n",
       "      <td>3.0</td>\n",
       "      <td>2.0</td>\n",
       "      <td>5.0</td>\n",
       "      <td>2.0</td>\n",
       "    </tr>\n",
       "    <tr>\n",
       "      <th>MONTHLY_INCOMES_TOT</th>\n",
       "      <td>3.0</td>\n",
       "      <td>0.0</td>\n",
       "      <td>3.0</td>\n",
       "      <td>0.0</td>\n",
       "      <td>0.0</td>\n",
       "      <td>0.0</td>\n",
       "    </tr>\n",
       "    <tr>\n",
       "      <th>MONTHS_IN_RESIDENCE</th>\n",
       "      <td>1.0</td>\n",
       "      <td>1.0</td>\n",
       "      <td>2.0</td>\n",
       "      <td>1.0</td>\n",
       "      <td>0.0</td>\n",
       "      <td>2.0</td>\n",
       "    </tr>\n",
       "    <tr>\n",
       "      <th>ABEL_BAD=1</th>\n",
       "      <td>0.0</td>\n",
       "      <td>1.0</td>\n",
       "      <td>0.0</td>\n",
       "      <td>1.0</td>\n",
       "      <td>0.0</td>\n",
       "      <td>1.0</td>\n",
       "    </tr>\n",
       "  </tbody>\n",
       "</table>\n",
       "</div>"
      ],
      "text/plain": [
       "                        0    1    2    3    4    5\n",
       "RESIDENCIAL_STATE_MS  0.0  0.0  0.0  0.0  0.0  0.0\n",
       "RESIDENCIAL_STATE_MT  0.0  0.0  0.0  0.0  0.0  0.0\n",
       "RESIDENCIAL_STATE_PA  0.0  0.0  0.0  0.0  0.0  0.0\n",
       "RESIDENCIAL_STATE_PB  1.0  0.0  0.0  0.0  0.0  1.0\n",
       "RESIDENCIAL_STATE_PE  0.0  0.0  0.0  1.0  0.0  0.0\n",
       "RESIDENCIAL_STATE_PI  0.0  0.0  0.0  0.0  0.0  0.0\n",
       "RESIDENCIAL_STATE_PR  0.0  0.0  1.0  0.0  0.0  0.0\n",
       "RESIDENCIAL_STATE_RJ  0.0  0.0  0.0  0.0  0.0  0.0\n",
       "RESIDENCIAL_STATE_RN  0.0  0.0  0.0  0.0  0.0  0.0\n",
       "RESIDENCIAL_STATE_RO  0.0  0.0  0.0  0.0  0.0  0.0\n",
       "RESIDENCIAL_STATE_RR  0.0  0.0  0.0  0.0  0.0  0.0\n",
       "RESIDENCIAL_STATE_RS  0.0  0.0  0.0  0.0  0.0  0.0\n",
       "RESIDENCIAL_STATE_SC  0.0  0.0  0.0  0.0  0.0  0.0\n",
       "RESIDENCIAL_STATE_SE  0.0  0.0  0.0  0.0  0.0  0.0\n",
       "RESIDENCIAL_STATE_SP  0.0  0.0  0.0  0.0  0.0  0.0\n",
       "RESIDENCIAL_STATE_TO  0.0  0.0  0.0  0.0  0.0  0.0\n",
       "PRODUCT_PR1           1.0  1.0  1.0  1.0  1.0  0.0\n",
       "PRODUCT_PR2           0.0  0.0  0.0  0.0  0.0  1.0\n",
       "PRODUCT_PR7           0.0  0.0  0.0  0.0  0.0  0.0\n",
       "AGE                   3.0  0.0  3.0  2.0  5.0  2.0\n",
       "MONTHLY_INCOMES_TOT   3.0  0.0  3.0  0.0  0.0  0.0\n",
       "MONTHS_IN_RESIDENCE   1.0  1.0  2.0  1.0  0.0  2.0\n",
       "ABEL_BAD=1            0.0  1.0  0.0  1.0  0.0  1.0"
      ]
     },
     "execution_count": 50,
     "metadata": {},
     "output_type": "execute_result"
    }
   ],
   "source": [
    "summary_df"
   ]
  },
  {
   "cell_type": "markdown",
   "metadata": {},
   "source": [
    "## Modeling"
   ]
  },
  {
   "cell_type": "markdown",
   "metadata": {},
   "source": [
    "### Logistic Regression"
   ]
  },
  {
   "cell_type": "markdown",
   "metadata": {},
   "source": [
    "##### General Logistic"
   ]
  },
  {
   "cell_type": "code",
   "execution_count": 265,
   "metadata": {},
   "outputs": [
    {
     "name": "stdout",
     "output_type": "stream",
     "text": [
      "model score: 0.594\n"
     ]
    }
   ],
   "source": [
    "# logistic regression\n",
    "clf = LogisticRegression(max_iter=200,class_weight=\"balanced\").fit(X_train_fs, y_train.ravel())\n",
    "print(\"model score: %.3f\" % clf.score(X_val_fs, y_val))\n",
    "clf_preds = clf.predict(X_test_fs)\n",
    "# clf = LogisticRegression(max_iter=200,class_weight=\"balanced\").fit(X_train, y_train.ravel())\n",
    "# print(\"model score: %.3f\" % clf.score(X_val, y_val))\n",
    "#clf_preds = clf.predict(X_test)\n"
   ]
  },
  {
   "cell_type": "code",
   "execution_count": null,
   "metadata": {},
   "outputs": [],
   "source": [
    "# logistic_model = pickle.load(open('logistic_model.pkl', 'rb'))\n",
    "# clf_preds = logistic_model.predict(X_test)"
   ]
  },
  {
   "cell_type": "code",
   "execution_count": 266,
   "metadata": {},
   "outputs": [
    {
     "name": "stdout",
     "output_type": "stream",
     "text": [
      "Model Performance metrics:\n",
      "------------------------------\n",
      "Accuracy: 0.5904676078902573\n",
      "Precision: 0.7805425954726111\n",
      "Recall: 0.6156467220934987\n",
      "F1 Score: 0.6883572081682414\n",
      "\n",
      "Model Classification report:\n",
      "------------------------------\n",
      "              precision    recall  f1-score   support\n",
      "\n",
      "           0       0.78      0.62      0.69      7337\n",
      "           1       0.33      0.52      0.40      2650\n",
      "\n",
      "    accuracy                           0.59      9987\n",
      "   macro avg       0.55      0.57      0.55      9987\n",
      "weighted avg       0.66      0.59      0.61      9987\n",
      "\n",
      "\n",
      "Prediction Confusion Matrix:\n",
      "------------------------------\n",
      "      0     1\n",
      "0  4517  2820\n",
      "1  1270  1380\n"
     ]
    },
    {
     "data": {
      "image/png": "[encoded data removed]",
      "text/plain": [
       "<Figure size 1000x500 with 1 Axes>"
      ]
     },
     "metadata": {},
     "output_type": "display_data"
    },
    {
     "data": {
      "text/plain": [
       "0.598582912660308"
      ]
     },
     "execution_count": 266,
     "metadata": {},
     "output_type": "execute_result"
    }
   ],
   "source": [
    "accuracy = evaluation.get_performance(clf_preds, y_test)\n",
    "evaluation.plot_roc(clf, y_test, X_test_fs)\n",
    "# accuracy = evaluation.get_performance(clf_preds, y_test)\n",
    "# evaluation.plot_roc(clf, y_test, X_test)"
   ]
  },
  {
   "cell_type": "code",
   "execution_count": null,
   "metadata": {},
   "outputs": [],
   "source": [
    "#save the model\n",
    "pickle.dump(clf, open('logistic_model.pkl', 'wb'))\n"
   ]
  },
  {
   "cell_type": "markdown",
   "metadata": {},
   "source": [
    "##### RandomSearch with Logistic"
   ]
  },
  {
   "cell_type": "code",
   "execution_count": 153,
   "metadata": {},
   "outputs": [
    {
     "data": {
      "text/html": [
       "<style>#sk-container-id-1 {color: black;}#sk-container-id-1 pre{padding: 0;}#sk-container-id-1 div.sk-toggleable {background-color: white;}#sk-container-id-1 label.sk-toggleable__label {cursor: pointer;display: block;width: 100%;margin-bottom: 0;padding: 0.3em;box-sizing: border-box;text-align: center;}#sk-container-id-1 label.sk-toggleable__label-arrow:before {content: \"▸\";float: left;margin-right: 0.25em;color: #696969;}#sk-container-id-1 label.sk-toggleable__label-arrow:hover:before {color: black;}#sk-container-id-1 div.sk-estimator:hover label.sk-toggleable__label-arrow:before {color: black;}#sk-container-id-1 div.sk-toggleable__content {max-height: 0;max-width: 0;overflow: hidden;text-align: left;background-color: #f0f8ff;}#sk-container-id-1 div.sk-toggleable__content pre {margin: 0.2em;color: black;border-radius: 0.25em;background-color: #f0f8ff;}#sk-container-id-1 input.sk-toggleable__control:checked~div.sk-toggleable__content {max-height: 200px;max-width: 100%;overflow: auto;}#sk-container-id-1 input.sk-toggleable__control:checked~label.sk-toggleable__label-arrow:before {content: \"▾\";}#sk-container-id-1 div.sk-estimator input.sk-toggleable__control:checked~label.sk-toggleable__label {background-color: #d4ebff;}#sk-container-id-1 div.sk-label input.sk-toggleable__control:checked~label.sk-toggleable__label {background-color: #d4ebff;}#sk-container-id-1 input.sk-hidden--visually {border: 0;clip: rect(1px 1px 1px 1px);clip: rect(1px, 1px, 1px, 1px);height: 1px;margin: -1px;overflow: hidden;padding: 0;position: absolute;width: 1px;}#sk-container-id-1 div.sk-estimator {font-family: monospace;background-color: #f0f8ff;border: 1px dotted black;border-radius: 0.25em;box-sizing: border-box;margin-bottom: 0.5em;}#sk-container-id-1 div.sk-estimator:hover {background-color: #d4ebff;}#sk-container-id-1 div.sk-parallel-item::after {content: \"\";width: 100%;border-bottom: 1px solid gray;flex-grow: 1;}#sk-container-id-1 div.sk-label:hover label.sk-toggleable__label {background-color: #d4ebff;}#sk-container-id-1 div.sk-serial::before {content: \"\";position: absolute;border-left: 1px solid gray;box-sizing: border-box;top: 0;bottom: 0;left: 50%;z-index: 0;}#sk-container-id-1 div.sk-serial {display: flex;flex-direction: column;align-items: center;background-color: white;padding-right: 0.2em;padding-left: 0.2em;position: relative;}#sk-container-id-1 div.sk-item {position: relative;z-index: 1;}#sk-container-id-1 div.sk-parallel {display: flex;align-items: stretch;justify-content: center;background-color: white;position: relative;}#sk-container-id-1 div.sk-item::before, #sk-container-id-1 div.sk-parallel-item::before {content: \"\";position: absolute;border-left: 1px solid gray;box-sizing: border-box;top: 0;bottom: 0;left: 50%;z-index: -1;}#sk-container-id-1 div.sk-parallel-item {display: flex;flex-direction: column;z-index: 1;position: relative;background-color: white;}#sk-container-id-1 div.sk-parallel-item:first-child::after {align-self: flex-end;width: 50%;}#sk-container-id-1 div.sk-parallel-item:last-child::after {align-self: flex-start;width: 50%;}#sk-container-id-1 div.sk-parallel-item:only-child::after {width: 0;}#sk-container-id-1 div.sk-dashed-wrapped {border: 1px dashed gray;margin: 0 0.4em 0.5em 0.4em;box-sizing: border-box;padding-bottom: 0.4em;background-color: white;}#sk-container-id-1 div.sk-label label {font-family: monospace;font-weight: bold;display: inline-block;line-height: 1.2em;}#sk-container-id-1 div.sk-label-container {text-align: center;}#sk-container-id-1 div.sk-container {/* jupyter's `normalize.less` sets `[hidden] { display: none; }` but bootstrap.min.css set `[hidden] { display: none !important; }` so we also need the `!important` here to be able to override the default hidden behavior on the sphinx rendered scikit-learn.org. See: https://github.com/scikit-learn/scikit-learn/issues/21755 */display: inline-block !important;position: relative;}#sk-container-id-1 div.sk-text-repr-fallback {display: none;}</style><div id=\"sk-container-id-1\" class=\"sk-top-container\"><div class=\"sk-text-repr-fallback\"><pre>RandomizedSearchCV(estimator=LogisticRegression(class_weight=&#x27;balanced&#x27;,\n",
       "                                                max_iter=200, random_state=0,\n",
       "                                                solver=&#x27;saga&#x27;, tol=0.01),\n",
       "                   param_distributions={&#x27;C&#x27;: &lt;scipy.stats._distn_infrastructure.rv_continuous_frozen object at 0x7f5b10741d10&gt;,\n",
       "                                        &#x27;penalty&#x27;: [&#x27;l2&#x27;, &#x27;l1&#x27;]})</pre><b>In a Jupyter environment, please rerun this cell to show the HTML representation or trust the notebook. <br />On GitHub, the HTML representation is unable to render, please try loading this page with nbviewer.org.</b></div><div class=\"sk-container\" hidden><div class=\"sk-item sk-dashed-wrapped\"><div class=\"sk-label-container\"><div class=\"sk-label sk-toggleable\"><input class=\"sk-toggleable__control sk-hidden--visually\" id=\"sk-estimator-id-1\" type=\"checkbox\" ><label for=\"sk-estimator-id-1\" class=\"sk-toggleable__label sk-toggleable__label-arrow\">RandomizedSearchCV</label><div class=\"sk-toggleable__content\"><pre>RandomizedSearchCV(estimator=LogisticRegression(class_weight=&#x27;balanced&#x27;,\n",
       "                                                max_iter=200, random_state=0,\n",
       "                                                solver=&#x27;saga&#x27;, tol=0.01),\n",
       "                   param_distributions={&#x27;C&#x27;: &lt;scipy.stats._distn_infrastructure.rv_continuous_frozen object at 0x7f5b10741d10&gt;,\n",
       "                                        &#x27;penalty&#x27;: [&#x27;l2&#x27;, &#x27;l1&#x27;]})</pre></div></div></div><div class=\"sk-parallel\"><div class=\"sk-parallel-item\"><div class=\"sk-item\"><div class=\"sk-label-container\"><div class=\"sk-label sk-toggleable\"><input class=\"sk-toggleable__control sk-hidden--visually\" id=\"sk-estimator-id-2\" type=\"checkbox\" ><label for=\"sk-estimator-id-2\" class=\"sk-toggleable__label sk-toggleable__label-arrow\">estimator: LogisticRegression</label><div class=\"sk-toggleable__content\"><pre>LogisticRegression(class_weight=&#x27;balanced&#x27;, max_iter=200, random_state=0,\n",
       "                   solver=&#x27;saga&#x27;, tol=0.01)</pre></div></div></div><div class=\"sk-serial\"><div class=\"sk-item\"><div class=\"sk-estimator sk-toggleable\"><input class=\"sk-toggleable__control sk-hidden--visually\" id=\"sk-estimator-id-3\" type=\"checkbox\" ><label for=\"sk-estimator-id-3\" class=\"sk-toggleable__label sk-toggleable__label-arrow\">LogisticRegression</label><div class=\"sk-toggleable__content\"><pre>LogisticRegression(class_weight=&#x27;balanced&#x27;, max_iter=200, random_state=0,\n",
       "                   solver=&#x27;saga&#x27;, tol=0.01)</pre></div></div></div></div></div></div></div></div></div></div>"
      ],
      "text/plain": [
       "RandomizedSearchCV(estimator=LogisticRegression(class_weight='balanced',\n",
       "                                                max_iter=200, random_state=0,\n",
       "                                                solver='saga', tol=0.01),\n",
       "                   param_distributions={'C': <scipy.stats._distn_infrastructure.rv_continuous_frozen object at 0x7f5b10741d10>,\n",
       "                                        'penalty': ['l2', 'l1']})"
      ]
     },
     "execution_count": 153,
     "metadata": {},
     "output_type": "execute_result"
    }
   ],
   "source": [
    "from sklearn.model_selection import RandomizedSearchCV\n",
    "from scipy.stats import uniform\n",
    "\n",
    "logistic = LogisticRegression(solver='saga', tol=1e-2, max_iter=200,random_state=0,class_weight=\"balanced\")\n",
    "distributions = dict(C=uniform(loc=0, scale=4),penalty=['l2', 'l1'])\n",
    "clf = RandomizedSearchCV(logistic, distributions,n_iter=10)\n",
    "clf.fit(X_train, y_train.ravel())"
   ]
  },
  {
   "cell_type": "code",
   "execution_count": 154,
   "metadata": {},
   "outputs": [
    {
     "data": {
      "text/html": [
       "<div>\n",
       "<style scoped>\n",
       "    .dataframe tbody tr th:only-of-type {\n",
       "        vertical-align: middle;\n",
       "    }\n",
       "\n",
       "    .dataframe tbody tr th {\n",
       "        vertical-align: top;\n",
       "    }\n",
       "\n",
       "    .dataframe thead th {\n",
       "        text-align: right;\n",
       "    }\n",
       "</style>\n",
       "<table border=\"1\" class=\"dataframe\">\n",
       "  <thead>\n",
       "    <tr style=\"text-align: right;\">\n",
       "      <th></th>\n",
       "      <th>mean_fit_time</th>\n",
       "      <th>std_fit_time</th>\n",
       "      <th>mean_score_time</th>\n",
       "      <th>std_score_time</th>\n",
       "      <th>param_C</th>\n",
       "      <th>param_penalty</th>\n",
       "      <th>params</th>\n",
       "      <th>split0_test_score</th>\n",
       "      <th>split1_test_score</th>\n",
       "      <th>split2_test_score</th>\n",
       "      <th>split3_test_score</th>\n",
       "      <th>split4_test_score</th>\n",
       "      <th>mean_test_score</th>\n",
       "      <th>std_test_score</th>\n",
       "      <th>rank_test_score</th>\n",
       "    </tr>\n",
       "  </thead>\n",
       "  <tbody>\n",
       "    <tr>\n",
       "      <th>0</th>\n",
       "      <td>0.455632</td>\n",
       "      <td>0.023001</td>\n",
       "      <td>0.003860</td>\n",
       "      <td>0.001502</td>\n",
       "      <td>3.215911</td>\n",
       "      <td>l2</td>\n",
       "      <td>{'C': 3.215910789966028, 'penalty': 'l2'}</td>\n",
       "      <td>0.577806</td>\n",
       "      <td>0.573356</td>\n",
       "      <td>0.576415</td>\n",
       "      <td>0.563143</td>\n",
       "      <td>0.566620</td>\n",
       "      <td>0.571468</td>\n",
       "      <td>0.005675</td>\n",
       "      <td>7</td>\n",
       "    </tr>\n",
       "    <tr>\n",
       "      <th>1</th>\n",
       "      <td>0.470895</td>\n",
       "      <td>0.026676</td>\n",
       "      <td>0.003088</td>\n",
       "      <td>0.000194</td>\n",
       "      <td>1.691778</td>\n",
       "      <td>l2</td>\n",
       "      <td>{'C': 1.6917784091422208, 'penalty': 'l2'}</td>\n",
       "      <td>0.578223</td>\n",
       "      <td>0.573356</td>\n",
       "      <td>0.576276</td>\n",
       "      <td>0.563143</td>\n",
       "      <td>0.566342</td>\n",
       "      <td>0.571468</td>\n",
       "      <td>0.005795</td>\n",
       "      <td>8</td>\n",
       "    </tr>\n",
       "    <tr>\n",
       "      <th>2</th>\n",
       "      <td>0.492860</td>\n",
       "      <td>0.012458</td>\n",
       "      <td>0.004208</td>\n",
       "      <td>0.002096</td>\n",
       "      <td>3.865083</td>\n",
       "      <td>l2</td>\n",
       "      <td>{'C': 3.865083149480098, 'penalty': 'l2'}</td>\n",
       "      <td>0.577806</td>\n",
       "      <td>0.573356</td>\n",
       "      <td>0.576415</td>\n",
       "      <td>0.563282</td>\n",
       "      <td>0.566620</td>\n",
       "      <td>0.571496</td>\n",
       "      <td>0.005634</td>\n",
       "      <td>5</td>\n",
       "    </tr>\n",
       "    <tr>\n",
       "      <th>3</th>\n",
       "      <td>0.575338</td>\n",
       "      <td>0.076630</td>\n",
       "      <td>0.003002</td>\n",
       "      <td>0.000326</td>\n",
       "      <td>3.588708</td>\n",
       "      <td>l1</td>\n",
       "      <td>{'C': 3.588708002447995, 'penalty': 'l1'}</td>\n",
       "      <td>0.577527</td>\n",
       "      <td>0.573077</td>\n",
       "      <td>0.576832</td>\n",
       "      <td>0.563143</td>\n",
       "      <td>0.567594</td>\n",
       "      <td>0.571635</td>\n",
       "      <td>0.005518</td>\n",
       "      <td>2</td>\n",
       "    </tr>\n",
       "    <tr>\n",
       "      <th>4</th>\n",
       "      <td>0.583607</td>\n",
       "      <td>0.052536</td>\n",
       "      <td>0.002943</td>\n",
       "      <td>0.000110</td>\n",
       "      <td>2.230491</td>\n",
       "      <td>l1</td>\n",
       "      <td>{'C': 2.2304914211731752, 'penalty': 'l1'}</td>\n",
       "      <td>0.580309</td>\n",
       "      <td>0.573634</td>\n",
       "      <td>0.577388</td>\n",
       "      <td>0.563700</td>\n",
       "      <td>0.570515</td>\n",
       "      <td>0.573109</td>\n",
       "      <td>0.005757</td>\n",
       "      <td>1</td>\n",
       "    </tr>\n",
       "    <tr>\n",
       "      <th>5</th>\n",
       "      <td>0.430828</td>\n",
       "      <td>0.015536</td>\n",
       "      <td>0.003010</td>\n",
       "      <td>0.000162</td>\n",
       "      <td>2.522611</td>\n",
       "      <td>l2</td>\n",
       "      <td>{'C': 2.52261114469862, 'penalty': 'l2'}</td>\n",
       "      <td>0.577945</td>\n",
       "      <td>0.573356</td>\n",
       "      <td>0.576276</td>\n",
       "      <td>0.563143</td>\n",
       "      <td>0.566481</td>\n",
       "      <td>0.571440</td>\n",
       "      <td>0.005706</td>\n",
       "      <td>9</td>\n",
       "    </tr>\n",
       "    <tr>\n",
       "      <th>6</th>\n",
       "      <td>0.433890</td>\n",
       "      <td>0.014234</td>\n",
       "      <td>0.003029</td>\n",
       "      <td>0.000270</td>\n",
       "      <td>3.621285</td>\n",
       "      <td>l2</td>\n",
       "      <td>{'C': 3.6212848424512516, 'penalty': 'l2'}</td>\n",
       "      <td>0.577806</td>\n",
       "      <td>0.573356</td>\n",
       "      <td>0.576415</td>\n",
       "      <td>0.563282</td>\n",
       "      <td>0.566620</td>\n",
       "      <td>0.571496</td>\n",
       "      <td>0.005634</td>\n",
       "      <td>5</td>\n",
       "    </tr>\n",
       "    <tr>\n",
       "      <th>7</th>\n",
       "      <td>0.500002</td>\n",
       "      <td>0.031482</td>\n",
       "      <td>0.003098</td>\n",
       "      <td>0.000252</td>\n",
       "      <td>3.823065</td>\n",
       "      <td>l1</td>\n",
       "      <td>{'C': 3.8230646653370757, 'penalty': 'l1'}</td>\n",
       "      <td>0.577667</td>\n",
       "      <td>0.573077</td>\n",
       "      <td>0.576832</td>\n",
       "      <td>0.563004</td>\n",
       "      <td>0.567594</td>\n",
       "      <td>0.571635</td>\n",
       "      <td>0.005591</td>\n",
       "      <td>3</td>\n",
       "    </tr>\n",
       "    <tr>\n",
       "      <th>8</th>\n",
       "      <td>0.439659</td>\n",
       "      <td>0.014192</td>\n",
       "      <td>0.003085</td>\n",
       "      <td>0.000071</td>\n",
       "      <td>1.324382</td>\n",
       "      <td>l2</td>\n",
       "      <td>{'C': 1.324382332294809, 'penalty': 'l2'}</td>\n",
       "      <td>0.577945</td>\n",
       "      <td>0.573495</td>\n",
       "      <td>0.576415</td>\n",
       "      <td>0.563143</td>\n",
       "      <td>0.566620</td>\n",
       "      <td>0.571524</td>\n",
       "      <td>0.005715</td>\n",
       "      <td>4</td>\n",
       "    </tr>\n",
       "    <tr>\n",
       "      <th>9</th>\n",
       "      <td>0.465963</td>\n",
       "      <td>0.038609</td>\n",
       "      <td>0.006832</td>\n",
       "      <td>0.007611</td>\n",
       "      <td>2.444496</td>\n",
       "      <td>l2</td>\n",
       "      <td>{'C': 2.4444960034139362, 'penalty': 'l2'}</td>\n",
       "      <td>0.577945</td>\n",
       "      <td>0.573356</td>\n",
       "      <td>0.576276</td>\n",
       "      <td>0.563143</td>\n",
       "      <td>0.566481</td>\n",
       "      <td>0.571440</td>\n",
       "      <td>0.005706</td>\n",
       "      <td>9</td>\n",
       "    </tr>\n",
       "  </tbody>\n",
       "</table>\n",
       "</div>"
      ],
      "text/plain": [
       "   mean_fit_time  std_fit_time  mean_score_time  std_score_time   param_C  \\\n",
       "0       0.455632      0.023001         0.003860        0.001502  3.215911   \n",
       "1       0.470895      0.026676         0.003088        0.000194  1.691778   \n",
       "2       0.492860      0.012458         0.004208        0.002096  3.865083   \n",
       "3       0.575338      0.076630         0.003002        0.000326  3.588708   \n",
       "4       0.583607      0.052536         0.002943        0.000110  2.230491   \n",
       "5       0.430828      0.015536         0.003010        0.000162  2.522611   \n",
       "6       0.433890      0.014234         0.003029        0.000270  3.621285   \n",
       "7       0.500002      0.031482         0.003098        0.000252  3.823065   \n",
       "8       0.439659      0.014192         0.003085        0.000071  1.324382   \n",
       "9       0.465963      0.038609         0.006832        0.007611  2.444496   \n",
       "\n",
       "  param_penalty                                      params  \\\n",
       "0            l2   {'C': 3.215910789966028, 'penalty': 'l2'}   \n",
       "1            l2  {'C': 1.6917784091422208, 'penalty': 'l2'}   \n",
       "2            l2   {'C': 3.865083149480098, 'penalty': 'l2'}   \n",
       "3            l1   {'C': 3.588708002447995, 'penalty': 'l1'}   \n",
       "4            l1  {'C': 2.2304914211731752, 'penalty': 'l1'}   \n",
       "5            l2    {'C': 2.52261114469862, 'penalty': 'l2'}   \n",
       "6            l2  {'C': 3.6212848424512516, 'penalty': 'l2'}   \n",
       "7            l1  {'C': 3.8230646653370757, 'penalty': 'l1'}   \n",
       "8            l2   {'C': 1.324382332294809, 'penalty': 'l2'}   \n",
       "9            l2  {'C': 2.4444960034139362, 'penalty': 'l2'}   \n",
       "\n",
       "   split0_test_score  split1_test_score  split2_test_score  split3_test_score  \\\n",
       "0           0.577806           0.573356           0.576415           0.563143   \n",
       "1           0.578223           0.573356           0.576276           0.563143   \n",
       "2           0.577806           0.573356           0.576415           0.563282   \n",
       "3           0.577527           0.573077           0.576832           0.563143   \n",
       "4           0.580309           0.573634           0.577388           0.563700   \n",
       "5           0.577945           0.573356           0.576276           0.563143   \n",
       "6           0.577806           0.573356           0.576415           0.563282   \n",
       "7           0.577667           0.573077           0.576832           0.563004   \n",
       "8           0.577945           0.573495           0.576415           0.563143   \n",
       "9           0.577945           0.573356           0.576276           0.563143   \n",
       "\n",
       "   split4_test_score  mean_test_score  std_test_score  rank_test_score  \n",
       "0           0.566620         0.571468        0.005675                7  \n",
       "1           0.566342         0.571468        0.005795                8  \n",
       "2           0.566620         0.571496        0.005634                5  \n",
       "3           0.567594         0.571635        0.005518                2  \n",
       "4           0.570515         0.573109        0.005757                1  \n",
       "5           0.566481         0.571440        0.005706                9  \n",
       "6           0.566620         0.571496        0.005634                5  \n",
       "7           0.567594         0.571635        0.005591                3  \n",
       "8           0.566620         0.571524        0.005715                4  \n",
       "9           0.566481         0.571440        0.005706                9  "
      ]
     },
     "execution_count": 154,
     "metadata": {},
     "output_type": "execute_result"
    }
   ],
   "source": [
    "res_logistic = pd.DataFrame(clf.cv_results_)\n",
    "res_logistic"
   ]
  },
  {
   "cell_type": "code",
   "execution_count": 155,
   "metadata": {},
   "outputs": [
    {
     "data": {
      "text/plain": [
       "0.573109003314876"
      ]
     },
     "execution_count": 155,
     "metadata": {},
     "output_type": "execute_result"
    }
   ],
   "source": [
    "# logistic regression\n",
    "clf.best_score_"
   ]
  },
  {
   "cell_type": "markdown",
   "metadata": {},
   "source": [
    "### RandomForest"
   ]
  },
  {
   "cell_type": "markdown",
   "metadata": {},
   "source": [
    "#### Modeling"
   ]
  },
  {
   "cell_type": "code",
   "execution_count": 270,
   "metadata": {},
   "outputs": [
    {
     "name": "stdout",
     "output_type": "stream",
     "text": [
      "model score: 0.577\n"
     ]
    }
   ],
   "source": [
    "from sklearn.model_selection import RandomizedSearchCV\n",
    "from sklearn.ensemble import RandomForestClassifier\n",
    "#class_weight={0:1, 1:3}\n",
    "clfr = RandomForestClassifier(class_weight=\"balanced\")\n",
    "distributions = dict(n_estimators=list(range(80,110,10)),max_depth=list(range(1,200,40)))\n",
    "clfr = RandomizedSearchCV(clfr, distributions,cv=3,n_iter=9)\n",
    "clfr.fit(X_train_fs, y_train.ravel())\n",
    "print(\"model score: %.3f\" % clfr.score(X_val_fs, y_val))"
   ]
  },
  {
   "cell_type": "code",
   "execution_count": null,
   "metadata": {},
   "outputs": [],
   "source": [
    "# clfr = pickle.load(open('randomforest_model.pkl', 'rb'))\n",
    "# clf_preds = clfr.predict(X_test)"
   ]
  },
  {
   "cell_type": "code",
   "execution_count": 271,
   "metadata": {},
   "outputs": [],
   "source": [
    "clf_preds = clfr.predict(X_test_fs)"
   ]
  },
  {
   "cell_type": "code",
   "execution_count": 272,
   "metadata": {},
   "outputs": [
    {
     "data": {
      "text/html": [
       "<div>\n",
       "<style scoped>\n",
       "    .dataframe tbody tr th:only-of-type {\n",
       "        vertical-align: middle;\n",
       "    }\n",
       "\n",
       "    .dataframe tbody tr th {\n",
       "        vertical-align: top;\n",
       "    }\n",
       "\n",
       "    .dataframe thead th {\n",
       "        text-align: right;\n",
       "    }\n",
       "</style>\n",
       "<table border=\"1\" class=\"dataframe\">\n",
       "  <thead>\n",
       "    <tr style=\"text-align: right;\">\n",
       "      <th></th>\n",
       "      <th>mean_fit_time</th>\n",
       "      <th>std_fit_time</th>\n",
       "      <th>mean_score_time</th>\n",
       "      <th>std_score_time</th>\n",
       "      <th>param_n_estimators</th>\n",
       "      <th>param_max_depth</th>\n",
       "      <th>params</th>\n",
       "      <th>split0_test_score</th>\n",
       "      <th>split1_test_score</th>\n",
       "      <th>split2_test_score</th>\n",
       "      <th>mean_test_score</th>\n",
       "      <th>std_test_score</th>\n",
       "      <th>rank_test_score</th>\n",
       "    </tr>\n",
       "  </thead>\n",
       "  <tbody>\n",
       "    <tr>\n",
       "      <th>0</th>\n",
       "      <td>0.613701</td>\n",
       "      <td>0.061981</td>\n",
       "      <td>0.099126</td>\n",
       "      <td>0.016910</td>\n",
       "      <td>80</td>\n",
       "      <td>81</td>\n",
       "      <td>{'n_estimators': 80, 'max_depth': 81}</td>\n",
       "      <td>0.528077</td>\n",
       "      <td>0.525701</td>\n",
       "      <td>0.501836</td>\n",
       "      <td>0.518538</td>\n",
       "      <td>0.011850</td>\n",
       "      <td>7</td>\n",
       "    </tr>\n",
       "    <tr>\n",
       "      <th>1</th>\n",
       "      <td>0.570611</td>\n",
       "      <td>0.007628</td>\n",
       "      <td>0.093167</td>\n",
       "      <td>0.000810</td>\n",
       "      <td>90</td>\n",
       "      <td>81</td>\n",
       "      <td>{'n_estimators': 90, 'max_depth': 81}</td>\n",
       "      <td>0.528077</td>\n",
       "      <td>0.525701</td>\n",
       "      <td>0.501836</td>\n",
       "      <td>0.518538</td>\n",
       "      <td>0.011850</td>\n",
       "      <td>7</td>\n",
       "    </tr>\n",
       "    <tr>\n",
       "      <th>2</th>\n",
       "      <td>0.594136</td>\n",
       "      <td>0.018186</td>\n",
       "      <td>0.094240</td>\n",
       "      <td>0.005394</td>\n",
       "      <td>90</td>\n",
       "      <td>121</td>\n",
       "      <td>{'n_estimators': 90, 'max_depth': 121}</td>\n",
       "      <td>0.556696</td>\n",
       "      <td>0.525701</td>\n",
       "      <td>0.501836</td>\n",
       "      <td>0.528078</td>\n",
       "      <td>0.022459</td>\n",
       "      <td>2</td>\n",
       "    </tr>\n",
       "    <tr>\n",
       "      <th>3</th>\n",
       "      <td>0.631100</td>\n",
       "      <td>0.006561</td>\n",
       "      <td>0.102246</td>\n",
       "      <td>0.001521</td>\n",
       "      <td>100</td>\n",
       "      <td>161</td>\n",
       "      <td>{'n_estimators': 100, 'max_depth': 161}</td>\n",
       "      <td>0.556696</td>\n",
       "      <td>0.525701</td>\n",
       "      <td>0.501836</td>\n",
       "      <td>0.528078</td>\n",
       "      <td>0.022459</td>\n",
       "      <td>2</td>\n",
       "    </tr>\n",
       "    <tr>\n",
       "      <th>4</th>\n",
       "      <td>0.576146</td>\n",
       "      <td>0.015721</td>\n",
       "      <td>0.092405</td>\n",
       "      <td>0.000882</td>\n",
       "      <td>90</td>\n",
       "      <td>41</td>\n",
       "      <td>{'n_estimators': 90, 'max_depth': 41}</td>\n",
       "      <td>0.556696</td>\n",
       "      <td>0.525701</td>\n",
       "      <td>0.501836</td>\n",
       "      <td>0.528078</td>\n",
       "      <td>0.022459</td>\n",
       "      <td>2</td>\n",
       "    </tr>\n",
       "    <tr>\n",
       "      <th>5</th>\n",
       "      <td>0.395498</td>\n",
       "      <td>0.009426</td>\n",
       "      <td>0.059168</td>\n",
       "      <td>0.003537</td>\n",
       "      <td>90</td>\n",
       "      <td>1</td>\n",
       "      <td>{'n_estimators': 90, 'max_depth': 1}</td>\n",
       "      <td>0.502211</td>\n",
       "      <td>0.562500</td>\n",
       "      <td>0.538385</td>\n",
       "      <td>0.534365</td>\n",
       "      <td>0.024776</td>\n",
       "      <td>1</td>\n",
       "    </tr>\n",
       "    <tr>\n",
       "      <th>6</th>\n",
       "      <td>0.573324</td>\n",
       "      <td>0.008254</td>\n",
       "      <td>0.092265</td>\n",
       "      <td>0.001368</td>\n",
       "      <td>90</td>\n",
       "      <td>161</td>\n",
       "      <td>{'n_estimators': 90, 'max_depth': 161}</td>\n",
       "      <td>0.528077</td>\n",
       "      <td>0.525701</td>\n",
       "      <td>0.501836</td>\n",
       "      <td>0.518538</td>\n",
       "      <td>0.011850</td>\n",
       "      <td>7</td>\n",
       "    </tr>\n",
       "    <tr>\n",
       "      <th>7</th>\n",
       "      <td>0.621217</td>\n",
       "      <td>0.008068</td>\n",
       "      <td>0.100775</td>\n",
       "      <td>0.001078</td>\n",
       "      <td>100</td>\n",
       "      <td>121</td>\n",
       "      <td>{'n_estimators': 100, 'max_depth': 121}</td>\n",
       "      <td>0.556696</td>\n",
       "      <td>0.525701</td>\n",
       "      <td>0.501836</td>\n",
       "      <td>0.528078</td>\n",
       "      <td>0.022459</td>\n",
       "      <td>2</td>\n",
       "    </tr>\n",
       "    <tr>\n",
       "      <th>8</th>\n",
       "      <td>0.502486</td>\n",
       "      <td>0.002378</td>\n",
       "      <td>0.083008</td>\n",
       "      <td>0.001712</td>\n",
       "      <td>80</td>\n",
       "      <td>161</td>\n",
       "      <td>{'n_estimators': 80, 'max_depth': 161}</td>\n",
       "      <td>0.530496</td>\n",
       "      <td>0.525951</td>\n",
       "      <td>0.501836</td>\n",
       "      <td>0.519428</td>\n",
       "      <td>0.012577</td>\n",
       "      <td>6</td>\n",
       "    </tr>\n",
       "  </tbody>\n",
       "</table>\n",
       "</div>"
      ],
      "text/plain": [
       "   mean_fit_time  std_fit_time  mean_score_time  std_score_time  \\\n",
       "0       0.613701      0.061981         0.099126        0.016910   \n",
       "1       0.570611      0.007628         0.093167        0.000810   \n",
       "2       0.594136      0.018186         0.094240        0.005394   \n",
       "3       0.631100      0.006561         0.102246        0.001521   \n",
       "4       0.576146      0.015721         0.092405        0.000882   \n",
       "5       0.395498      0.009426         0.059168        0.003537   \n",
       "6       0.573324      0.008254         0.092265        0.001368   \n",
       "7       0.621217      0.008068         0.100775        0.001078   \n",
       "8       0.502486      0.002378         0.083008        0.001712   \n",
       "\n",
       "  param_n_estimators param_max_depth                                   params  \\\n",
       "0                 80              81    {'n_estimators': 80, 'max_depth': 81}   \n",
       "1                 90              81    {'n_estimators': 90, 'max_depth': 81}   \n",
       "2                 90             121   {'n_estimators': 90, 'max_depth': 121}   \n",
       "3                100             161  {'n_estimators': 100, 'max_depth': 161}   \n",
       "4                 90              41    {'n_estimators': 90, 'max_depth': 41}   \n",
       "5                 90               1     {'n_estimators': 90, 'max_depth': 1}   \n",
       "6                 90             161   {'n_estimators': 90, 'max_depth': 161}   \n",
       "7                100             121  {'n_estimators': 100, 'max_depth': 121}   \n",
       "8                 80             161   {'n_estimators': 80, 'max_depth': 161}   \n",
       "\n",
       "   split0_test_score  split1_test_score  split2_test_score  mean_test_score  \\\n",
       "0           0.528077           0.525701           0.501836         0.518538   \n",
       "1           0.528077           0.525701           0.501836         0.518538   \n",
       "2           0.556696           0.525701           0.501836         0.528078   \n",
       "3           0.556696           0.525701           0.501836         0.528078   \n",
       "4           0.556696           0.525701           0.501836         0.528078   \n",
       "5           0.502211           0.562500           0.538385         0.534365   \n",
       "6           0.528077           0.525701           0.501836         0.518538   \n",
       "7           0.556696           0.525701           0.501836         0.528078   \n",
       "8           0.530496           0.525951           0.501836         0.519428   \n",
       "\n",
       "   std_test_score  rank_test_score  \n",
       "0        0.011850                7  \n",
       "1        0.011850                7  \n",
       "2        0.022459                2  \n",
       "3        0.022459                2  \n",
       "4        0.022459                2  \n",
       "5        0.024776                1  \n",
       "6        0.011850                7  \n",
       "7        0.022459                2  \n",
       "8        0.012577                6  "
      ]
     },
     "execution_count": 272,
     "metadata": {},
     "output_type": "execute_result"
    }
   ],
   "source": [
    "res_logistic = pd.DataFrame(clfr.cv_results_)\n",
    "res_logistic"
   ]
  },
  {
   "cell_type": "code",
   "execution_count": 273,
   "metadata": {},
   "outputs": [
    {
     "name": "stdout",
     "output_type": "stream",
     "text": [
      "BestScore in Train:  0.5343652032961391\n",
      "BestScore in Val:  0.5772215269086358\n"
     ]
    }
   ],
   "source": [
    "print(\"BestScore in Train: \",clfr.best_score_) #train\n",
    "print(\"BestScore in Val: \",clfr.score(X_val_fs, y_val)) # val"
   ]
  },
  {
   "cell_type": "code",
   "execution_count": 274,
   "metadata": {},
   "outputs": [
    {
     "name": "stdout",
     "output_type": "stream",
     "text": [
      "Model Performance metrics:\n",
      "------------------------------\n",
      "Accuracy: 0.5800540702913788\n",
      "Precision: 0.7798753339269813\n",
      "Recall: 0.5968379446640316\n",
      "F1 Score: 0.676189005558987\n",
      "\n",
      "Model Classification report:\n",
      "------------------------------\n",
      "              precision    recall  f1-score   support\n",
      "\n",
      "           0       0.78      0.60      0.68      7337\n",
      "           1       0.32      0.53      0.40      2650\n",
      "\n",
      "    accuracy                           0.58      9987\n",
      "   macro avg       0.55      0.57      0.54      9987\n",
      "weighted avg       0.66      0.58      0.60      9987\n",
      "\n",
      "\n",
      "Prediction Confusion Matrix:\n",
      "------------------------------\n",
      "      0     1\n",
      "0  4379  2958\n",
      "1  1236  1414\n"
     ]
    },
    {
     "data": {
      "image/png": "[encoded data removed]",
      "text/plain": [
       "<Figure size 1000x500 with 1 Axes>"
      ]
     },
     "metadata": {},
     "output_type": "display_data"
    },
    {
     "data": {
      "text/plain": [
       "0.5867314027377392"
      ]
     },
     "execution_count": 274,
     "metadata": {},
     "output_type": "execute_result"
    }
   ],
   "source": [
    "clfr_preds = clfr.predict(X_test_fs)\n",
    "accuracy = evaluation.get_performance(clfr_preds, y_test)\n",
    "evaluation.plot_roc(clfr, y_test, X_test_fs)"
   ]
  },
  {
   "cell_type": "code",
   "execution_count": null,
   "metadata": {},
   "outputs": [],
   "source": [
    "#save the model\n",
    "pickle.dump(clfr, open('randomforest_model.pkl', 'wb'))"
   ]
  },
  {
   "cell_type": "markdown",
   "metadata": {},
   "source": [
    "#### Feature_Importance Gini by RF"
   ]
  },
  {
   "cell_type": "code",
   "execution_count": 275,
   "metadata": {},
   "outputs": [
    {
     "data": {
      "text/plain": [
       "5"
      ]
     },
     "execution_count": 275,
     "metadata": {},
     "output_type": "execute_result"
    }
   ],
   "source": [
    "# feature importance using RF\n",
    "len(clfr.best_estimator_.feature_importances_)"
   ]
  },
  {
   "cell_type": "code",
   "execution_count": 276,
   "metadata": {},
   "outputs": [],
   "source": [
    "targets = new_columns_name"
   ]
  },
  {
   "cell_type": "code",
   "execution_count": 278,
   "metadata": {},
   "outputs": [
    {
     "name": "stdout",
     "output_type": "stream",
     "text": [
      "\n",
      " Cumulative Importance = 1.0\n"
     ]
    }
   ],
   "source": [
    "feat_list = []\n",
    "\n",
    "total_importance = 0\n",
    "# Print the name and gini importance of each feature\n",
    "for feature in zip(targets, clfr.best_estimator_.feature_importances_):\n",
    "    feat_list.append(feature)\n",
    "    total_importance += feature[1]\n",
    "\n",
    "included_feats = []\n",
    "# Print the name and gini importance of each feature\n",
    "for feature in zip(targets, clfr.best_estimator_.feature_importances_):\n",
    "    if feature[1] > .05:\n",
    "        included_feats.append(feature[0])\n",
    "\n",
    "print('\\n',\"Cumulative Importance =\", total_importance)\n",
    "\n",
    "# create DataFrame using data\n",
    "df_imp = pd.DataFrame(feat_list, columns =['FEATURE', 'IMPORTANCE']).sort_values(by='IMPORTANCE', ascending=False)\n",
    "df_imp['CUMSUM'] = df_imp['IMPORTANCE'].cumsum()"
   ]
  },
  {
   "cell_type": "code",
   "execution_count": 279,
   "metadata": {},
   "outputs": [
    {
     "data": {
      "text/html": [
       "<div>\n",
       "<style scoped>\n",
       "    .dataframe tbody tr th:only-of-type {\n",
       "        vertical-align: middle;\n",
       "    }\n",
       "\n",
       "    .dataframe tbody tr th {\n",
       "        vertical-align: top;\n",
       "    }\n",
       "\n",
       "    .dataframe thead th {\n",
       "        text-align: right;\n",
       "    }\n",
       "</style>\n",
       "<table border=\"1\" class=\"dataframe\">\n",
       "  <thead>\n",
       "    <tr style=\"text-align: right;\">\n",
       "      <th></th>\n",
       "      <th>FEATURE</th>\n",
       "      <th>IMPORTANCE</th>\n",
       "      <th>CUMSUM</th>\n",
       "    </tr>\n",
       "  </thead>\n",
       "  <tbody>\n",
       "    <tr>\n",
       "      <th>4</th>\n",
       "      <td>transform_boolean__COMPANY_False</td>\n",
       "      <td>0.388889</td>\n",
       "      <td>0.388889</td>\n",
       "    </tr>\n",
       "    <tr>\n",
       "      <th>1</th>\n",
       "      <td>transform_boolean__FLAG_RESIDENCIAL_PHONE_True</td>\n",
       "      <td>0.277778</td>\n",
       "      <td>0.666667</td>\n",
       "    </tr>\n",
       "    <tr>\n",
       "      <th>2</th>\n",
       "      <td>transform_boolean__FLAG_EMAIL_False</td>\n",
       "      <td>0.188889</td>\n",
       "      <td>0.855556</td>\n",
       "    </tr>\n",
       "    <tr>\n",
       "      <th>3</th>\n",
       "      <td>transform_boolean__FLAG_EMAIL_True</td>\n",
       "      <td>0.088889</td>\n",
       "      <td>0.944444</td>\n",
       "    </tr>\n",
       "    <tr>\n",
       "      <th>0</th>\n",
       "      <td>transform_boolean__FLAG_RESIDENCIAL_PHONE_False</td>\n",
       "      <td>0.055556</td>\n",
       "      <td>1.000000</td>\n",
       "    </tr>\n",
       "  </tbody>\n",
       "</table>\n",
       "</div>"
      ],
      "text/plain": [
       "                                           FEATURE  IMPORTANCE    CUMSUM\n",
       "4                 transform_boolean__COMPANY_False    0.388889  0.388889\n",
       "1   transform_boolean__FLAG_RESIDENCIAL_PHONE_True    0.277778  0.666667\n",
       "2              transform_boolean__FLAG_EMAIL_False    0.188889  0.855556\n",
       "3               transform_boolean__FLAG_EMAIL_True    0.088889  0.944444\n",
       "0  transform_boolean__FLAG_RESIDENCIAL_PHONE_False    0.055556  1.000000"
      ]
     },
     "execution_count": 279,
     "metadata": {},
     "output_type": "execute_result"
    }
   ],
   "source": [
    "df_imp"
   ]
  },
  {
   "cell_type": "markdown",
   "metadata": {},
   "source": [
    "### Oversampling\n",
    "It can be achieved in two ways: random oversampling and synthetic oversampling."
   ]
  },
  {
   "cell_type": "markdown",
   "metadata": {},
   "source": [
    "\n",
    "#### Aplicando SMOTE oversampling (syntethic oversampling)\n",
    "\n",
    "new synthetic training records are made randomly by selecting one or more K-nearest neighbors for each of the minority classes\n",
    "\n",
    "- Draw a random set from the minority class.\n",
    "- For all the observations for the sample, locate the K-nearest neighbors. To obtain the distance between the neighbors, find the Euclidean distance.\n",
    "- The next step is to find the vector between the current data point and the selected neighbor.\n",
    "- Next, multiply a vector between 0 and 1.\n",
    "\n",
    "To obtain the new dataset, add new samples to the current data point.\n",
    "The only downfall of oversampling is that it can lead to overfitting due to duplication of the same information\n",
    "\n"
   ]
  },
  {
   "cell_type": "code",
   "execution_count": 13,
   "metadata": {},
   "outputs": [
    {
     "name": "stdout",
     "output_type": "stream",
     "text": [
      "Original dataset shape Counter({0.0: 26629, 1.0: 9324})\n",
      "New dataset shape Counter({0.0: 11834, 1.0: 10651})\n"
     ]
    }
   ],
   "source": [
    "from sklearn.model_selection import cross_val_score\n",
    "from sklearn.model_selection import RepeatedStratifiedKFold\n",
    "from imblearn.pipeline import Pipeline\n",
    "from imblearn.over_sampling import SMOTE\n",
    "from imblearn.under_sampling import RandomUnderSampler\n",
    "from collections import Counter\n",
    "print('Original dataset shape %s' % Counter(y_train.ravel()))\n",
    "\n",
    "\n",
    "model_chosen = LogisticRegression(max_iter=200,class_weight=\"balanced\")\n",
    "#model_chosen = RandomForestClassifier(max_depth=50, n_estimators=90, class_weight=\"balanced\")\n",
    "# pipeline\n",
    "# 1:2 ratio\n",
    "over = SMOTE(sampling_strategy=0.4, k_neighbors=10)\n",
    "# 1:10 ratio\n",
    "under = RandomUnderSampler(sampling_strategy=0.9)\n",
    "steps = [(\"over\",over),(\"under\",under)]\n",
    "pipeline = Pipeline(steps=steps)\n",
    "\n",
    "#Please note that you should only balance the training data \n",
    "# and not the validation or testing data. \n",
    "# Balancing the validation and testing data would introduce data leakage \n",
    "# and lead to overestimating the model's performance.\n",
    "# # transform the dataset\n",
    "X_train_new, y_train_new = pipeline.fit_resample(X_train, y_train)\n",
    "# summarize the new class distribution\n",
    "print('New dataset shape %s' % Counter(y_train_new.ravel()))\n"
   ]
  },
  {
   "cell_type": "code",
   "execution_count": null,
   "metadata": {},
   "outputs": [],
   "source": [
    "\n",
    "# define model\n",
    "model = model_chosen\n",
    "# evaluate pipeline\n",
    "cv = RepeatedStratifiedKFold(n_splits=10, n_repeats=3, random_state=1)\n",
    "scores = cross_val_score(model, X_train_new, y_train_new, scoring='roc_auc', cv=cv, n_jobs=-1)\n",
    "score = np.mean(scores)\n",
    "print(\"Mean ROC AUC: %.3f\"%(score))\n",
    "# k_values = list(range(5,10))\n",
    "# for k in k_values:\n",
    "#     model = model_chosen\n",
    "#     # pipeline\n",
    "#     # 1:2 ratio\n",
    "#     over = SMOTE(sampling_strategy=0.4, k_neighbors=k)\n",
    "#     # 1:10 ratio\n",
    "#     under = RandomUnderSampler(sampling_strategy=0.9)\n",
    "#     steps = [(\"over\",over),(\"under\",under),(\"model\",model)]\n",
    "#     pipeline = Pipeline(steps=steps)\n",
    "#     # evaluate pipeline\n",
    "#     cv = RepeatedStratifiedKFold(n_splits=10,n_repeats=3,random_state=1)\n",
    "#     scores  = cross_val_score(pipeline, X_train, y_train,scoring=\"roc_auc\",cv=cv, n_jobs=-1)\n",
    "#     score = np.mean(scores)\n",
    "#     print(\"> k=%d, Mean ROC AUC: %.6f\"%(k,score))"
   ]
  },
  {
   "cell_type": "markdown",
   "metadata": {},
   "source": [
    "#### Over Under RandomForest"
   ]
  },
  {
   "cell_type": "code",
   "execution_count": 15,
   "metadata": {},
   "outputs": [
    {
     "data": {
      "text/html": [
       "<style>#sk-container-id-1 {color: black;}#sk-container-id-1 pre{padding: 0;}#sk-container-id-1 div.sk-toggleable {background-color: white;}#sk-container-id-1 label.sk-toggleable__label {cursor: pointer;display: block;width: 100%;margin-bottom: 0;padding: 0.3em;box-sizing: border-box;text-align: center;}#sk-container-id-1 label.sk-toggleable__label-arrow:before {content: \"▸\";float: left;margin-right: 0.25em;color: #696969;}#sk-container-id-1 label.sk-toggleable__label-arrow:hover:before {color: black;}#sk-container-id-1 div.sk-estimator:hover label.sk-toggleable__label-arrow:before {color: black;}#sk-container-id-1 div.sk-toggleable__content {max-height: 0;max-width: 0;overflow: hidden;text-align: left;background-color: #f0f8ff;}#sk-container-id-1 div.sk-toggleable__content pre {margin: 0.2em;color: black;border-radius: 0.25em;background-color: #f0f8ff;}#sk-container-id-1 input.sk-toggleable__control:checked~div.sk-toggleable__content {max-height: 200px;max-width: 100%;overflow: auto;}#sk-container-id-1 input.sk-toggleable__control:checked~label.sk-toggleable__label-arrow:before {content: \"▾\";}#sk-container-id-1 div.sk-estimator input.sk-toggleable__control:checked~label.sk-toggleable__label {background-color: #d4ebff;}#sk-container-id-1 div.sk-label input.sk-toggleable__control:checked~label.sk-toggleable__label {background-color: #d4ebff;}#sk-container-id-1 input.sk-hidden--visually {border: 0;clip: rect(1px 1px 1px 1px);clip: rect(1px, 1px, 1px, 1px);height: 1px;margin: -1px;overflow: hidden;padding: 0;position: absolute;width: 1px;}#sk-container-id-1 div.sk-estimator {font-family: monospace;background-color: #f0f8ff;border: 1px dotted black;border-radius: 0.25em;box-sizing: border-box;margin-bottom: 0.5em;}#sk-container-id-1 div.sk-estimator:hover {background-color: #d4ebff;}#sk-container-id-1 div.sk-parallel-item::after {content: \"\";width: 100%;border-bottom: 1px solid gray;flex-grow: 1;}#sk-container-id-1 div.sk-label:hover label.sk-toggleable__label {background-color: #d4ebff;}#sk-container-id-1 div.sk-serial::before {content: \"\";position: absolute;border-left: 1px solid gray;box-sizing: border-box;top: 0;bottom: 0;left: 50%;z-index: 0;}#sk-container-id-1 div.sk-serial {display: flex;flex-direction: column;align-items: center;background-color: white;padding-right: 0.2em;padding-left: 0.2em;position: relative;}#sk-container-id-1 div.sk-item {position: relative;z-index: 1;}#sk-container-id-1 div.sk-parallel {display: flex;align-items: stretch;justify-content: center;background-color: white;position: relative;}#sk-container-id-1 div.sk-item::before, #sk-container-id-1 div.sk-parallel-item::before {content: \"\";position: absolute;border-left: 1px solid gray;box-sizing: border-box;top: 0;bottom: 0;left: 50%;z-index: -1;}#sk-container-id-1 div.sk-parallel-item {display: flex;flex-direction: column;z-index: 1;position: relative;background-color: white;}#sk-container-id-1 div.sk-parallel-item:first-child::after {align-self: flex-end;width: 50%;}#sk-container-id-1 div.sk-parallel-item:last-child::after {align-self: flex-start;width: 50%;}#sk-container-id-1 div.sk-parallel-item:only-child::after {width: 0;}#sk-container-id-1 div.sk-dashed-wrapped {border: 1px dashed gray;margin: 0 0.4em 0.5em 0.4em;box-sizing: border-box;padding-bottom: 0.4em;background-color: white;}#sk-container-id-1 div.sk-label label {font-family: monospace;font-weight: bold;display: inline-block;line-height: 1.2em;}#sk-container-id-1 div.sk-label-container {text-align: center;}#sk-container-id-1 div.sk-container {/* jupyter's `normalize.less` sets `[hidden] { display: none; }` but bootstrap.min.css set `[hidden] { display: none !important; }` so we also need the `!important` here to be able to override the default hidden behavior on the sphinx rendered scikit-learn.org. See: https://github.com/scikit-learn/scikit-learn/issues/21755 */display: inline-block !important;position: relative;}#sk-container-id-1 div.sk-text-repr-fallback {display: none;}</style><div id=\"sk-container-id-1\" class=\"sk-top-container\"><div class=\"sk-text-repr-fallback\"><pre>RandomForestClassifier(class_weight=&#x27;balanced&#x27;, max_depth=50, n_estimators=90)</pre><b>In a Jupyter environment, please rerun this cell to show the HTML representation or trust the notebook. <br />On GitHub, the HTML representation is unable to render, please try loading this page with nbviewer.org.</b></div><div class=\"sk-container\" hidden><div class=\"sk-item\"><div class=\"sk-estimator sk-toggleable\"><input class=\"sk-toggleable__control sk-hidden--visually\" id=\"sk-estimator-id-1\" type=\"checkbox\" checked><label for=\"sk-estimator-id-1\" class=\"sk-toggleable__label sk-toggleable__label-arrow\">RandomForestClassifier</label><div class=\"sk-toggleable__content\"><pre>RandomForestClassifier(class_weight=&#x27;balanced&#x27;, max_depth=50, n_estimators=90)</pre></div></div></div></div></div>"
      ],
      "text/plain": [
       "RandomForestClassifier(class_weight='balanced', max_depth=50, n_estimators=90)"
      ]
     },
     "execution_count": 15,
     "metadata": {},
     "output_type": "execute_result"
    }
   ],
   "source": [
    "model.fit(X_train_new, y_train_new.ravel())"
   ]
  },
  {
   "cell_type": "code",
   "execution_count": 16,
   "metadata": {},
   "outputs": [
    {
     "name": "stdout",
     "output_type": "stream",
     "text": [
      "0.5987484355444306\n",
      "Model Performance metrics:\n",
      "------------------------------\n",
      "Accuracy: 0.5933713827976369\n",
      "Precision: 0.7590952230306864\n",
      "Recall: 0.6540820498841489\n",
      "F1 Score: 0.7026868731239475\n",
      "\n",
      "Model Classification report:\n",
      "------------------------------\n",
      "              precision    recall  f1-score   support\n",
      "\n",
      "           0       0.76      0.65      0.70      7337\n",
      "           1       0.31      0.43      0.36      2650\n",
      "\n",
      "    accuracy                           0.59      9987\n",
      "   macro avg       0.53      0.54      0.53      9987\n",
      "weighted avg       0.64      0.59      0.61      9987\n",
      "\n",
      "\n",
      "Prediction Confusion Matrix:\n",
      "------------------------------\n",
      "      0     1\n",
      "0  4799  2538\n",
      "1  1523  1127\n"
     ]
    },
    {
     "data": {
      "image/png": "[encoded data removed]",
      "text/plain": [
       "<Figure size 1000x500 with 1 Axes>"
      ]
     },
     "metadata": {},
     "output_type": "display_data"
    },
    {
     "data": {
      "text/plain": [
       "0.5612776801993515"
      ]
     },
     "execution_count": 16,
     "metadata": {},
     "output_type": "execute_result"
    }
   ],
   "source": [
    "print(model.score(X_val, y_val))\n",
    "clfr_preds = model.predict(X_test)\n",
    "accuracy = evaluation.get_performance(clfr_preds, y_test)\n",
    "evaluation.plot_roc(model, y_test, X_test)"
   ]
  },
  {
   "cell_type": "markdown",
   "metadata": {},
   "source": [
    "#### Feature Selection"
   ]
  },
  {
   "cell_type": "markdown",
   "metadata": {},
   "source": [
    "two options:\n",
    "- chi-squared statistic\n",
    "- mutual information statistic."
   ]
  },
  {
   "cell_type": "markdown",
   "metadata": {},
   "source": [
    "-  Chi-squared statistic\n",
    "-  The results of this test can be used for feature selection, where those features that are independent of the target variable can be removed from the dataset."
   ]
  },
  {
   "cell_type": "markdown",
   "metadata": {},
   "source": [
    "##### Chi-Squared Feature Selection"
   ]
  },
  {
   "cell_type": "code",
   "execution_count": 14,
   "metadata": {},
   "outputs": [],
   "source": [
    "newl_columns_name = list(new_columns_name)"
   ]
  },
  {
   "cell_type": "code",
   "execution_count": 15,
   "metadata": {},
   "outputs": [],
   "source": [
    "newl_columns_name = newl_columns_name[:-1]"
   ]
  },
  {
   "cell_type": "code",
   "execution_count": 16,
   "metadata": {},
   "outputs": [],
   "source": [
    "#select only categoricas\n",
    "# feature selection\n",
    "def select_features_by_chi2(X_tr, y_tr, X_va,X_te):\n",
    "    #fs = SelectKBest(score_func=chi2, k=5)\n",
    "    fs = SelectPercentile(chi2, percentile=50)\n",
    "    fs.fit(X_tr, y_tr)\n",
    "    X_train_fsa = fs.transform(X_tr)\n",
    "    X_val_fsa = fs.transform(X_va)\n",
    "    X_test_fsa = fs.transform(X_te)\n",
    "    return X_train_fsa, X_val_fsa, X_test_fsa, fs"
   ]
  },
  {
   "cell_type": "code",
   "execution_count": 17,
   "metadata": {},
   "outputs": [
    {
     "data": {
      "text/html": [
       "<div>\n",
       "<style scoped>\n",
       "    .dataframe tbody tr th:only-of-type {\n",
       "        vertical-align: middle;\n",
       "    }\n",
       "\n",
       "    .dataframe tbody tr th {\n",
       "        vertical-align: top;\n",
       "    }\n",
       "\n",
       "    .dataframe thead th {\n",
       "        text-align: right;\n",
       "    }\n",
       "</style>\n",
       "<table border=\"1\" class=\"dataframe\">\n",
       "  <thead>\n",
       "    <tr style=\"text-align: right;\">\n",
       "      <th></th>\n",
       "      <th>FS_SCORE</th>\n",
       "    </tr>\n",
       "  </thead>\n",
       "  <tbody>\n",
       "    <tr>\n",
       "      <th>transform_cat_ord__AGE</th>\n",
       "      <td>314.092032</td>\n",
       "    </tr>\n",
       "    <tr>\n",
       "      <th>transform_cat_ohe__MARITAL_STATUS_single</th>\n",
       "      <td>90.282653</td>\n",
       "    </tr>\n",
       "    <tr>\n",
       "      <th>transform_cat_ohe__PAYMENT_DAY_15 - 30</th>\n",
       "      <td>83.194435</td>\n",
       "    </tr>\n",
       "    <tr>\n",
       "      <th>transform_boolean__FLAG_RESIDENCIAL_PHONE_False</th>\n",
       "      <td>69.394800</td>\n",
       "    </tr>\n",
       "    <tr>\n",
       "      <th>transform_cat_ohe__PAYMENT_DAY_1 - 14</th>\n",
       "      <td>61.130921</td>\n",
       "    </tr>\n",
       "    <tr>\n",
       "      <th>...</th>\n",
       "      <td>...</td>\n",
       "    </tr>\n",
       "    <tr>\n",
       "      <th>transform_cat_ohe__RESIDENCIAL_STATE_AM</th>\n",
       "      <td>0.021335</td>\n",
       "    </tr>\n",
       "    <tr>\n",
       "      <th>transform_boolean__HAS_DEPENDANTS_True</th>\n",
       "      <td>0.007355</td>\n",
       "    </tr>\n",
       "    <tr>\n",
       "      <th>transform_cat_ohe__RESIDENCIAL_STATE_PA</th>\n",
       "      <td>0.007291</td>\n",
       "    </tr>\n",
       "    <tr>\n",
       "      <th>transform_boolean__HAS_DEPENDANTS_False</th>\n",
       "      <td>0.003575</td>\n",
       "    </tr>\n",
       "    <tr>\n",
       "      <th>transform_cat_ohe__PRODUCT_PR1</th>\n",
       "      <td>0.000298</td>\n",
       "    </tr>\n",
       "  </tbody>\n",
       "</table>\n",
       "<p>62 rows × 1 columns</p>\n",
       "</div>"
      ],
      "text/plain": [
       "                                                   FS_SCORE\n",
       "transform_cat_ord__AGE                           314.092032\n",
       "transform_cat_ohe__MARITAL_STATUS_single          90.282653\n",
       "transform_cat_ohe__PAYMENT_DAY_15 - 30            83.194435\n",
       "transform_boolean__FLAG_RESIDENCIAL_PHONE_False   69.394800\n",
       "transform_cat_ohe__PAYMENT_DAY_1 - 14             61.130921\n",
       "...                                                     ...\n",
       "transform_cat_ohe__RESIDENCIAL_STATE_AM            0.021335\n",
       "transform_boolean__HAS_DEPENDANTS_True             0.007355\n",
       "transform_cat_ohe__RESIDENCIAL_STATE_PA            0.007291\n",
       "transform_boolean__HAS_DEPENDANTS_False            0.003575\n",
       "transform_cat_ohe__PRODUCT_PR1                     0.000298\n",
       "\n",
       "[62 rows x 1 columns]"
      ]
     },
     "execution_count": 17,
     "metadata": {},
     "output_type": "execute_result"
    }
   ],
   "source": [
    "X_train_fs, X_val_fs, X_test_fs, fs = select_features_by_chi2(X_train_new, y_train_new, X_val,X_test)\n",
    "# what are scores for the features\n",
    "fs_scores = pd.DataFrame(fs.scores_,columns=[\"FS_SCORE\"],index=newl_columns_name)\n",
    "fs_sorted_scores = fs_scores.sort_values(by=\"FS_SCORE\",ascending=False)\n",
    "fs_sorted_scores\n",
    "# fs_sorted = np.sort(fs.scores_)[::-1]\n",
    "# print(fs_sorted)\n",
    "# for i in range(len(fs.scores_)):\n",
    "#     print(\"Feature %d: %f\" % (i, fs.scores_[i]))\n",
    "# names = [\"feature\"+str(i) for i in range(len(fs.scores_))]\n",
    "# x = list(range(len(fs.scores_)))\n",
    "# plt.figure(figsize=(8,3))\n",
    "# plt.title(\"FI with Chi-Squared Feature Selection\")\n",
    "# plt.bar(x, fs.scores_)\n",
    "# plt.xticks(x, names, rotation='vertical')\n",
    "# plt.tight_layout()\n",
    "# plt.show()"
   ]
  },
  {
   "cell_type": "code",
   "execution_count": 232,
   "metadata": {},
   "outputs": [
    {
     "name": "stdout",
     "output_type": "stream",
     "text": [
      "transform_cat_ord__AGE                                  331.345874\n",
      "transform_boolean__FLAG_RESIDENCIAL_PHONE_False         104.186246\n",
      "transform_cat_ohe__MARITAL_STATUS_single                102.741837\n",
      "transform_cat_ohe__PAYMENT_DAY_15 - 30                   95.271769\n",
      "transform_cat_ohe__PAYMENT_DAY_1 - 14                    65.843279\n",
      "transform_cat_ohe__MARITAL_STATUS_married                34.964894\n",
      "transform_cat_ohe__RESIDENCIAL_STATE_RS                  32.476729\n",
      "transform_cat_ord__MONTHS_IN_RESIDENCE                   23.705174\n",
      "transform_boolean__HAS_RESIDENCE_False                   20.625317\n",
      "transform_boolean__FLAG_RESIDENCIAL_PHONE_True           20.242670\n",
      "transform_cat_ohe__RESIDENCIAL_STATE_SC                  16.548104\n",
      "transform_cat_ohe__PRODUCT_PR7                           11.763360\n",
      "transform_cat_ohe__MARITAL_STATUS_other                  10.751988\n",
      "transform_cat_ohe__RESIDENCIAL_STATE_AL                  10.409237\n",
      "transform_cat_ohe__SEX_M                                  8.736977\n",
      "transform_cat_ohe__RESIDENCIAL_STATE_DF                   8.108025\n",
      "transform_boolean__HAS_CARS_True                          8.033529\n",
      "transform_boolean__HAS_BANKING_ACCOUNTS_True              7.577971\n",
      "transform_cat_ohe__RESIDENCIAL_STATE_RO                   6.723973\n",
      "transform_boolean__FLAG_PROFESSIONAL_PHONE_True           6.027468\n",
      "transform_cat_ohe__SEX_F                                  5.461845\n",
      "transform_boolean__HAS_PERSONAL_ASSETS_True               4.277240\n",
      "transform_boolean__HAS_BANKING_ACCOUNTS_False             4.214394\n",
      "transform_boolean__HAS_RESIDENCE_True                     4.170444\n",
      "transform_boolean__HAS_CARS_False                         4.087394\n",
      "transform_cat_ohe__APPLICATION_SUBMISSION_TYPE_Carga      3.767163\n",
      "transform_cat_ohe__RESIDENCIAL_STATE_RN                   3.531644\n",
      "transform_cat_ohe__RESIDENCIAL_STATE_SE                   3.518217\n",
      "transform_boolean__HAS_CARDS_True                         3.232113\n",
      "transform_cat_ohe__APPLICATION_SUBMISSION_TYPE_Web        2.954132\n",
      "Name: FS_SCORE, dtype: float64\n"
     ]
    }
   ],
   "source": [
    "for k,v in fs_sorted_scores[:30].items():\n",
    "    print(v)"
   ]
  },
  {
   "cell_type": "code",
   "execution_count": 18,
   "metadata": {},
   "outputs": [
    {
     "data": {
      "text/plain": [
       "(22485, 31)"
      ]
     },
     "execution_count": 18,
     "metadata": {},
     "output_type": "execute_result"
    }
   ],
   "source": [
    "X_train_fs.shape"
   ]
  },
  {
   "cell_type": "code",
   "execution_count": null,
   "metadata": {},
   "outputs": [],
   "source": [
    "# 2 es la ultima\n",
    "# number_cols_prep.corr()"
   ]
  },
  {
   "cell_type": "code",
   "execution_count": 300,
   "metadata": {},
   "outputs": [],
   "source": [
    "from sklearn.naive_bayes import GaussianNB\n",
    "GNB = GaussianNB()\n",
    "\n",
    "# Fitting with train data\n",
    "model = GNB.fit(X_train, y_train.ravel())"
   ]
  },
  {
   "cell_type": "code",
   "execution_count": 301,
   "metadata": {},
   "outputs": [
    {
     "name": "stdout",
     "output_type": "stream",
     "text": [
      "Training score data: \n",
      "0.666397797124023\n"
     ]
    }
   ],
   "source": [
    "print(\"Training score data: \")\n",
    "print(model.score(X_train, y_train))"
   ]
  },
  {
   "cell_type": "code",
   "execution_count": 303,
   "metadata": {},
   "outputs": [
    {
     "name": "stdout",
     "output_type": "stream",
     "text": [
      "0.6678347934918648\n",
      "Model Performance metrics:\n",
      "------------------------------\n",
      "Accuracy: 0.6613597676980074\n",
      "Precision: 0.748523312806334\n",
      "Recall: 0.8117759302167098\n",
      "F1 Score: 0.7788675297502288\n",
      "\n",
      "Model Classification report:\n",
      "------------------------------\n",
      "              precision    recall  f1-score   support\n",
      "\n",
      "           0       0.75      0.81      0.78      7337\n",
      "           1       0.32      0.24      0.28      2650\n",
      "\n",
      "    accuracy                           0.66      9987\n",
      "   macro avg       0.53      0.53      0.53      9987\n",
      "weighted avg       0.63      0.66      0.65      9987\n",
      "\n",
      "\n",
      "Prediction Confusion Matrix:\n",
      "------------------------------\n",
      "      0     1\n",
      "0  5956  1381\n",
      "1  2001   649\n"
     ]
    },
    {
     "data": {
      "image/png": "[encoded data removed]",
      "text/plain": [
       "<Figure size 1000x500 with 1 Axes>"
      ]
     },
     "metadata": {},
     "output_type": "display_data"
    },
    {
     "data": {
      "text/plain": [
       "0.566556764499397"
      ]
     },
     "execution_count": 303,
     "metadata": {},
     "output_type": "execute_result"
    }
   ],
   "source": [
    "print(model.score(X_val, y_val))\n",
    "clfr_preds = model.predict(X_test)\n",
    "accuracy = evaluation.get_performance(clfr_preds, y_test)\n",
    "evaluation.plot_roc(model, y_test, X_test)"
   ]
  },
  {
   "cell_type": "code",
   "execution_count": 19,
   "metadata": {},
   "outputs": [],
   "source": [
    "from sklearn.model_selection import train_test_split, KFold, cross_val_score # to split the data\n",
    "from sklearn.metrics import accuracy_score, confusion_matrix, classification_report, fbeta_score #To evaluate our model\n",
    "\n",
    "from sklearn.model_selection import GridSearchCV\n",
    "\n",
    "# Algorithmns models to be compared\n",
    "from sklearn.ensemble import RandomForestClassifier\n",
    "from sklearn.linear_model import LogisticRegression\n",
    "from sklearn.tree import DecisionTreeClassifier\n",
    "from sklearn.neighbors import KNeighborsClassifier\n",
    "from sklearn.ensemble import RandomForestClassifier\n",
    "from sklearn.discriminant_analysis import LinearDiscriminantAnalysis\n",
    "from sklearn.naive_bayes import GaussianNB\n",
    "from sklearn.svm import SVC\n",
    "from xgboost import XGBClassifier"
   ]
  },
  {
   "cell_type": "code",
   "execution_count": 21,
   "metadata": {},
   "outputs": [
    {
     "name": "stdout",
     "output_type": "stream",
     "text": [
      "LR: 0.551632 (0.009106)\n",
      "LDA: 0.562833 (0.013164)\n",
      "KNN: 0.587109 (0.016407)\n",
      "CART: 0.558988 (0.014141)\n",
      "NB: 0.532633 (0.011124)\n",
      "RF: 0.564422 (0.010597)\n"
     ]
    },
    {
     "data": {
      "image/png": "[encoded data removed]",
      "text/plain": [
       "<Figure size 1100x600 with 1 Axes>"
      ]
     },
     "metadata": {},
     "output_type": "display_data"
    }
   ],
   "source": [
    "from sklearn.naive_bayes import GaussianNB\n",
    "# to feed the random state\n",
    "seed = 7\n",
    "\n",
    "# prepare models\n",
    "models = []\n",
    "models.append(('LR', LogisticRegression(max_iter=200,class_weight=\"balanced\")))\n",
    "models.append(('LDA', LinearDiscriminantAnalysis()))\n",
    "models.append(('KNN', KNeighborsClassifier()))\n",
    "models.append(('CART', DecisionTreeClassifier()))\n",
    "models.append(('NB', GaussianNB()))\n",
    "models.append(('RF', RandomForestClassifier()))\n",
    "# models.append(('SVM', SVC(gamma='auto')))\n",
    "# models.append(('XGB', XGBClassifier()))\n",
    "\n",
    "# evaluate each model in turn\n",
    "results = []\n",
    "names = []\n",
    "\n",
    "# ojo es precision lo que se evalua\n",
    "scoring = 'precision'\n",
    "\n",
    "for name, model in models:\n",
    "        cv = RepeatedStratifiedKFold(n_splits=10, n_repeats=3, random_state=1)\n",
    "        cv_results = cross_val_score(model, X_train_fs, y_train_new.ravel(), cv=cv, scoring=scoring,n_jobs=-1)\n",
    "        results.append(cv_results)\n",
    "        names.append(name)\n",
    "        msg = \"%s: %f (%f)\" % (name, cv_results.mean(), cv_results.std())\n",
    "        print(msg)\n",
    "        \n",
    "# boxplot algorithm comparison\n",
    "fig = plt.figure(figsize=(11,6))\n",
    "fig.suptitle('Algorithm Comparison')\n",
    "ax = fig.add_subplot(111)\n",
    "plt.boxplot(results)\n",
    "ax.set_xticklabels(names)\n",
    "plt.show()"
   ]
  },
  {
   "cell_type": "code",
   "execution_count": 22,
   "metadata": {},
   "outputs": [
    {
     "name": "stdout",
     "output_type": "stream",
     "text": [
      "model score: 0.576\n",
      "Model Performance metrics:\n",
      "------------------------------\n",
      "Accuracy: 0.5721437869229999\n",
      "Precision: 0.7891657229143073\n",
      "Recall: 0.5698514379174049\n",
      "F1 Score: 0.6618124258013455\n",
      "\n",
      "Model Classification report:\n",
      "------------------------------\n",
      "              precision    recall  f1-score   support\n",
      "\n",
      "           0       0.79      0.57      0.66      7337\n",
      "           1       0.33      0.58      0.42      2650\n",
      "\n",
      "    accuracy                           0.57      9987\n",
      "   macro avg       0.56      0.57      0.54      9987\n",
      "weighted avg       0.67      0.57      0.60      9987\n",
      "\n",
      "\n",
      "Prediction Confusion Matrix:\n",
      "------------------------------\n",
      "      0     1\n",
      "0  4181  3156\n",
      "1  1117  1533\n"
     ]
    },
    {
     "data": {
      "image/png": "[encoded data removed]",
      "text/plain": [
       "<Figure size 1000x500 with 1 Axes>"
      ]
     },
     "metadata": {},
     "output_type": "display_data"
    },
    {
     "data": {
      "text/plain": [
       "0.6050735095573997"
      ]
     },
     "execution_count": 22,
     "metadata": {},
     "output_type": "execute_result"
    }
   ],
   "source": [
    "# logistic regression\n",
    "clf = LogisticRegression(max_iter=200,class_weight=\"balanced\").fit(X_train_fs, y_train_new.ravel())\n",
    "print(\"model score: %.3f\" % clf.score(X_val_fs, y_val))\n",
    "clf_preds = clf.predict(X_test_fs)\n",
    "\n",
    "accuracy = evaluation.get_performance(clf_preds, y_test)\n",
    "evaluation.plot_roc(clf, y_test, X_test_fs)"
   ]
  },
  {
   "cell_type": "code",
   "execution_count": 25,
   "metadata": {},
   "outputs": [],
   "source": [
    "#save the model\n",
    "pickle.dump(clf, open('logistic_model.pkl', 'wb'))"
   ]
  },
  {
   "cell_type": "code",
   "execution_count": null,
   "metadata": {},
   "outputs": [],
   "source": []
  },
  {
   "cell_type": "code",
   "execution_count": 33,
   "metadata": {},
   "outputs": [],
   "source": [
    "import numpy as np\n",
    "import pandas as pd \n",
    "import keras\n",
    "import matplotlib.pyplot as plt\n",
    "\n",
    "from keras.models import Sequential\n",
    "from keras.layers import Dense\n",
    "from keras.callbacks import EarlyStopping\n",
    "\n",
    "from sklearn.preprocessing import StandardScaler\n",
    "from sklearn.model_selection import train_test_split\n",
    "from sklearn.metrics import confusion_matrix\n",
    "from sklearn.metrics import accuracy_score, recall_score, precision_score, f1_score\n",
    "from sklearn.metrics import roc_auc_score, average_precision_score\n",
    "from sklearn.metrics import roc_curve\n",
    "\n",
    "from collections import Counter\n",
    "from scipy.stats import ks_2samp\n",
    "\n",
    "import matplotlib.pyplot as plt"
   ]
  },
  {
   "cell_type": "code",
   "execution_count": 34,
   "metadata": {},
   "outputs": [
    {
     "name": "stderr",
     "output_type": "stream",
     "text": [
      "2023-07-28 00:06:37.330783: I tensorflow/compiler/xla/stream_executor/cuda/cuda_gpu_executor.cc:995] successful NUMA node read from SysFS had negative value (-1), but there must be at least one NUMA node, so returning NUMA node zero. See more at https://github.com/torvalds/linux/blob/v6.0/Documentation/ABI/testing/sysfs-bus-pci#L344-L355\n",
      "2023-07-28 00:06:41.341451: I tensorflow/compiler/xla/stream_executor/cuda/cuda_gpu_executor.cc:995] successful NUMA node read from SysFS had negative value (-1), but there must be at least one NUMA node, so returning NUMA node zero. See more at https://github.com/torvalds/linux/blob/v6.0/Documentation/ABI/testing/sysfs-bus-pci#L344-L355\n",
      "2023-07-28 00:06:41.341786: I tensorflow/compiler/xla/stream_executor/cuda/cuda_gpu_executor.cc:995] successful NUMA node read from SysFS had negative value (-1), but there must be at least one NUMA node, so returning NUMA node zero. See more at https://github.com/torvalds/linux/blob/v6.0/Documentation/ABI/testing/sysfs-bus-pci#L344-L355\n",
      "2023-07-28 00:06:41.360302: I tensorflow/compiler/xla/stream_executor/cuda/cuda_gpu_executor.cc:995] successful NUMA node read from SysFS had negative value (-1), but there must be at least one NUMA node, so returning NUMA node zero. See more at https://github.com/torvalds/linux/blob/v6.0/Documentation/ABI/testing/sysfs-bus-pci#L344-L355\n",
      "2023-07-28 00:06:41.360792: I tensorflow/compiler/xla/stream_executor/cuda/cuda_gpu_executor.cc:995] successful NUMA node read from SysFS had negative value (-1), but there must be at least one NUMA node, so returning NUMA node zero. See more at https://github.com/torvalds/linux/blob/v6.0/Documentation/ABI/testing/sysfs-bus-pci#L344-L355\n",
      "2023-07-28 00:06:41.361171: I tensorflow/compiler/xla/stream_executor/cuda/cuda_gpu_executor.cc:995] successful NUMA node read from SysFS had negative value (-1), but there must be at least one NUMA node, so returning NUMA node zero. See more at https://github.com/torvalds/linux/blob/v6.0/Documentation/ABI/testing/sysfs-bus-pci#L344-L355\n",
      "2023-07-28 00:06:47.476914: I tensorflow/compiler/xla/stream_executor/cuda/cuda_gpu_executor.cc:995] successful NUMA node read from SysFS had negative value (-1), but there must be at least one NUMA node, so returning NUMA node zero. See more at https://github.com/torvalds/linux/blob/v6.0/Documentation/ABI/testing/sysfs-bus-pci#L344-L355\n",
      "2023-07-28 00:06:47.477422: I tensorflow/compiler/xla/stream_executor/cuda/cuda_gpu_executor.cc:995] successful NUMA node read from SysFS had negative value (-1), but there must be at least one NUMA node, so returning NUMA node zero. See more at https://github.com/torvalds/linux/blob/v6.0/Documentation/ABI/testing/sysfs-bus-pci#L344-L355\n",
      "2023-07-28 00:06:47.477812: I tensorflow/compiler/xla/stream_executor/cuda/cuda_gpu_executor.cc:995] successful NUMA node read from SysFS had negative value (-1), but there must be at least one NUMA node, so returning NUMA node zero. See more at https://github.com/torvalds/linux/blob/v6.0/Documentation/ABI/testing/sysfs-bus-pci#L344-L355\n",
      "2023-07-28 00:06:47.478045: I tensorflow/core/common_runtime/gpu/gpu_device.cc:1639] Created device /job:localhost/replica:0/task:0/device:GPU:0 with 1613 MB memory:  -> device: 0, name: NVIDIA GeForce 940M, pci bus id: 0000:04:00.0, compute capability: 5.0\n"
     ]
    }
   ],
   "source": [
    "input_dim = X_train_fs.shape[1]\n",
    "\n",
    "#categorical_labels = to_categorical(y_train, num_classes=2)\n",
    "\n",
    "mlp = Sequential()\n",
    "\n",
    "mlp.add(Dense(40,activation='relu',input_dim = input_dim))\n",
    "mlp.add(Dense(40,activation='relu'))\n",
    "mlp.add(Dense(40,activation='relu'))\n",
    "mlp.add(Dense(40,activation='relu'))\n",
    "mlp.add(Dense(40,activation='relu'))\n",
    "mlp.add(Dense(40,activation='relu'))\n",
    "mlp.add(Dense(40,activation='relu'))\n",
    "mlp.add(Dense(40,activation='relu'))\n",
    "mlp.add(Dense(1, activation='sigmoid'))\n",
    "mlp.compile(optimizer='adam',loss='mean_squared_logarithmic_error')\n",
    "\n"
   ]
  },
  {
   "cell_type": "code",
   "execution_count": 35,
   "metadata": {},
   "outputs": [
    {
     "name": "stdout",
     "output_type": "stream",
     "text": [
      "Model: \"sequential\"\n",
      "_________________________________________________________________\n",
      " Layer (type)                Output Shape              Param #   \n",
      "=================================================================\n",
      " dense (Dense)               (None, 40)                1280      \n",
      "                                                                 \n",
      " dense_1 (Dense)             (None, 40)                1640      \n",
      "                                                                 \n",
      " dense_2 (Dense)             (None, 40)                1640      \n",
      "                                                                 \n",
      " dense_3 (Dense)             (None, 40)                1640      \n",
      "                                                                 \n",
      " dense_4 (Dense)             (None, 40)                1640      \n",
      "                                                                 \n",
      " dense_5 (Dense)             (None, 40)                1640      \n",
      "                                                                 \n",
      " dense_6 (Dense)             (None, 40)                1640      \n",
      "                                                                 \n",
      " dense_7 (Dense)             (None, 40)                1640      \n",
      "                                                                 \n",
      " dense_8 (Dense)             (None, 1)                 41        \n",
      "                                                                 \n",
      "=================================================================\n",
      "Total params: 12801 (50.00 KB)\n",
      "Trainable params: 12801 (50.00 KB)\n",
      "Non-trainable params: 0 (0.00 Byte)\n",
      "_________________________________________________________________\n"
     ]
    }
   ],
   "source": [
    "mlp.summary()"
   ]
  },
  {
   "cell_type": "code",
   "execution_count": null,
   "metadata": {},
   "outputs": [],
   "source": [
    "history = mlp.fit(\n",
    "    X_train_fs, \n",
    "    y_train_new, \n",
    "    batch_size=64, \n",
    "    epochs= 10000,\n",
    "    callbacks=[EarlyStopping(patience=500)], \n",
    "    verbose=0, \n",
    "    validation_data=[X_val_fs,y_val_new]\n",
    ")"
   ]
  },
  {
   "cell_type": "markdown",
   "metadata": {},
   "source": [
    "### Methods definitions\n",
    "1. Generate distances\n",
    "2. Compute performance metrics: accuracy, recall, precision and f1\n",
    "3. Extract final losses from train step\n",
    "4. Print a summary of metrics"
   ]
  },
  {
   "cell_type": "code",
   "execution_count": null,
   "metadata": {},
   "outputs": [],
   "source": [
    "def generate_dist(probas, y):\n",
    "    dist_1 = [0] * 100\n",
    "    dist_2 = [0] * 100\n",
    "    for_perc = Counter(y)\n",
    "    for i in range(1,101):\n",
    "        limiar = i/100\n",
    "        lower = y[np.where(probas <= limiar)]\n",
    "        count = Counter(lower)\n",
    "        dist_1[i-1] = count[0]\n",
    "        dist_2[i-1] = count[1]\n",
    "    return np.array(dist_1)/for_perc[0], np.array(dist_2)/for_perc[1]\n",
    "\n",
    "\n",
    "def compute_performance_metrics(y, y_pred_class, y_pred_scores=None):\n",
    "    accuracy = accuracy_score(y, y_pred_class)\n",
    "    recall = recall_score(y, y_pred_class)\n",
    "    precision = precision_score(y, y_pred_class)\n",
    "    f1 = f1_score(y, y_pred_class)\n",
    "    performance_metrics = (accuracy, recall, precision, f1)\n",
    "    if y_pred_scores is not None:\n",
    "        auroc = roc_auc_score(y, y_pred_scores)\n",
    "        aupr = average_precision_score(y, y_pred_scores)\n",
    "        gd = generate_dist(y_pred_scores,y.values)\n",
    "        ks = ks_2samp(gd[0],gd[1])[0]\n",
    "        performance_metrics = performance_metrics + (auroc, aupr, ks)\n",
    "    return performance_metrics\n",
    "\n",
    "def extract_final_losses(history):\n",
    "    \"\"\"Função para extrair o melhor loss de treino e validação.\n",
    "    \n",
    "    Argumento(s):\n",
    "    history -- Objeto retornado pela função fit do keras.\n",
    "    \n",
    "    Retorno:\n",
    "    Dicionário contendo o melhor loss de treino e de validação baseado \n",
    "    no menor loss de validação.\n",
    "    \"\"\"\n",
    "    train_loss = history.history['loss']\n",
    "    val_loss = history.history['val_loss']\n",
    "    idx_min_val_loss = np.argmin(val_loss)\n",
    "    return {'train_loss': train_loss[idx_min_val_loss], 'val_loss': val_loss[idx_min_val_loss]}\n",
    "\n",
    "def print_metrics_summary(accuracy, recall, precision, f1, auroc=None, aupr=None, ks=None):\n",
    "    print()\n",
    "    print(\"{metric:<18}{value:.4f}\".format(metric=\"Accuracy:\", value=accuracy))\n",
    "    print(\"{metric:<18}{value:.4f}\".format(metric=\"Recall:\", value=recall))\n",
    "    print(\"{metric:<18}{value:.4f}\".format(metric=\"Precision:\", value=precision))\n",
    "    print(\"{metric:<18}{value:.4f}\".format(metric=\"F1:\", value=f1))\n",
    "    if auroc is not None:\n",
    "        print(\"{metric:<18}{value:.4f}\".format(metric=\"AUROC:\", value=auroc))\n",
    "    if aupr is not None:\n",
    "        print(\"{metric:<18}{value:.4f}\".format(metric=\"AUPR:\", value=aupr))\n",
    "    if ks is not None:\n",
    "        print(\"{metric:<18}{value:.4f}\".format(metric=\"KS:\", value=ks))"
   ]
  },
  {
   "cell_type": "markdown",
   "metadata": {},
   "source": [
    "### Predicting values with trained MLP\n",
    "Displaying confusion matrix, train and validation losses, and performance summary"
   ]
  },
  {
   "cell_type": "code",
   "execution_count": null,
   "metadata": {},
   "outputs": [
    {
     "name": "stdout",
     "output_type": "stream",
     "text": [
      "Matriz de confusão no conjunto de teste:\n",
      "[[20719 12806]\n",
      " [25904 37870]]\n",
      "\n",
      "Train Loss:       0.1024\n",
      "Validation Loss:  0.1020\n",
      "\n",
      "Performance no conjunto de teste:\n",
      "\n",
      "Accuracy:         0.6022\n",
      "Recall:           0.5938\n",
      "Precision:        0.7473\n",
      "F1:               0.6618\n",
      "AUROC:            0.6278\n",
      "AUPR:             0.7449\n",
      "KS:               0.4400\n"
     ]
    }
   ],
   "source": [
    "y_pred_scores = mlp.predict(X_test)\n",
    "y_pred_class = mlp.predict_classes(X_test)\n",
    "\n",
    "## Matriz de confusão\n",
    "print('Matriz de confusão no conjunto de teste:')\n",
    "print(confusion_matrix(y_test, y_pred_class))\n",
    "\n",
    "## Resumo dos resultados\n",
    "losses = extract_final_losses(history)\n",
    "print()\n",
    "print(\"{metric:<18}{value:.4f}\".format(metric=\"Train Loss:\", value=losses['train_loss']))\n",
    "print(\"{metric:<18}{value:.4f}\".format(metric=\"Validation Loss:\", value=losses['val_loss']))\n",
    "\n",
    "print('\\nPerformance no conjunto de teste:')\n",
    "accuracy, recall, precision, f1, auroc, aupr, ks = compute_performance_metrics(y_test, y_pred_class, np.concatenate(y_pred_scores))\n",
    "print_metrics_summary(accuracy, recall, precision, f1, auroc, aupr, ks)"
   ]
  },
  {
   "cell_type": "markdown",
   "metadata": {},
   "source": [
    "### Graphic results"
   ]
  },
  {
   "cell_type": "code",
   "execution_count": null,
   "metadata": {},
   "outputs": [],
   "source": [
    "lw=2\n",
    "roc_area = roc_auc_score(y_test, y_pred_scores)\n",
    "fpr, tpr, _ = roc_curve(y_test, y_pred_scores)\n",
    "\n",
    "plt.plot(fpr, tpr, color='darkred', lw=lw, label='Primeiro (area = %0.5f)' % roc_area)\n",
    "plt.plot([0, 1], [0, 1], color='navy', lw=lw, linestyle='--')\n",
    "plt.xlim([0.0, 1.0])\n",
    "plt.ylim([0.0, 1.05])\n",
    "plt.xlabel('Taxa de Falsos Positivos')\n",
    "plt.ylabel('Taxa de Verdadeiros Positivos')\n",
    "plt.title('Curva ROC para o Classificador')\n",
    "plt.legend(loc=\"lower right\")\n",
    "plt.show()"
   ]
  }
 ],
 "metadata": {
  "kernelspec": {
   "display_name": "finany",
   "language": "python",
   "name": "python3"
  },
  "language_info": {
   "codemirror_mode": {
    "name": "ipython",
    "version": 3
   },
   "file_extension": ".py",
   "mimetype": "text/x-python",
   "name": "python",
   "nbconvert_exporter": "python",
   "pygments_lexer": "ipython3",
   "version": "3.11.4"
  }
 },
 "nbformat": 4,
 "nbformat_minor": 4
}
